{
 "cells": [
  {
   "cell_type": "code",
   "execution_count": null,
   "id": "bf01e622",
   "metadata": {},
   "outputs": [],
   "source": []
  },
  {
   "cell_type": "code",
   "execution_count": 29,
   "id": "4f6e8a6f",
   "metadata": {
    "scrolled": false
   },
   "outputs": [
    {
     "data": {
      "text/html": [
       "        <script type=\"text/javascript\">\n",
       "        window.PlotlyConfig = {MathJaxConfig: 'local'};\n",
       "        if (window.MathJax) {MathJax.Hub.Config({SVG: {font: \"STIX-Web\"}});}\n",
       "        if (typeof require !== 'undefined') {\n",
       "        require.undef(\"plotly\");\n",
       "        requirejs.config({\n",
       "            paths: {\n",
       "                'plotly': ['https://cdn.plot.ly/plotly-2.9.0.min']\n",
       "            }\n",
       "        });\n",
       "        require(['plotly'], function(Plotly) {\n",
       "            window._Plotly = Plotly;\n",
       "        });\n",
       "        }\n",
       "        </script>\n",
       "        "
      ]
     },
     "metadata": {},
     "output_type": "display_data"
    },
    {
     "data": {
      "text/html": [
       "        <script type=\"text/javascript\">\n",
       "        window.PlotlyConfig = {MathJaxConfig: 'local'};\n",
       "        if (window.MathJax) {MathJax.Hub.Config({SVG: {font: \"STIX-Web\"}});}\n",
       "        if (typeof require !== 'undefined') {\n",
       "        require.undef(\"plotly\");\n",
       "        requirejs.config({\n",
       "            paths: {\n",
       "                'plotly': ['https://cdn.plot.ly/plotly-2.9.0.min']\n",
       "            }\n",
       "        });\n",
       "        require(['plotly'], function(Plotly) {\n",
       "            window._Plotly = Plotly;\n",
       "        });\n",
       "        }\n",
       "        </script>\n",
       "        "
      ]
     },
     "metadata": {},
     "output_type": "display_data"
    }
   ],
   "source": [
    "import pandas as pd\n",
    "from summarytools import dfSummary\n",
    "import numpy as np , seaborn as sns\n",
    "from matplotlib import pyplot as plt\n",
    "import warnings  #filtering warnings\n",
    "warnings.filterwarnings(\"ignore\")\n",
    "import cufflinks as cf #To connect the dataframe with plotly\n",
    "import plotly.express as px #Data Visuvalization using plotly\n",
    "import plotly.graph_objs as go #Data Visuvalization using plotly\n",
    "%matplotlib inline\n",
    "from plotly.subplots import make_subplots#To create subplots using plotly\n",
    "from plotly.offline import download_plotlyjs, init_notebook_mode,plot,iplot\n",
    "init_notebook_mode(connected=True) #To get the plot inside the notebok\n",
    "cf.go_offline()"
   ]
  },
  {
   "cell_type": "code",
   "execution_count": 30,
   "id": "1a50ed22",
   "metadata": {
    "scrolled": false
   },
   "outputs": [
    {
     "data": {
      "text/html": [
       "<div>\n",
       "<style scoped>\n",
       "    .dataframe tbody tr th:only-of-type {\n",
       "        vertical-align: middle;\n",
       "    }\n",
       "\n",
       "    .dataframe tbody tr th {\n",
       "        vertical-align: top;\n",
       "    }\n",
       "\n",
       "    .dataframe thead th {\n",
       "        text-align: right;\n",
       "    }\n",
       "</style>\n",
       "<table border=\"1\" class=\"dataframe\">\n",
       "  <thead>\n",
       "    <tr style=\"text-align: right;\">\n",
       "      <th></th>\n",
       "      <th>Prospect ID</th>\n",
       "      <th>Lead Number</th>\n",
       "      <th>Lead Origin</th>\n",
       "      <th>Lead Source</th>\n",
       "      <th>Do Not Email</th>\n",
       "      <th>Do Not Call</th>\n",
       "      <th>Converted</th>\n",
       "      <th>TotalVisits</th>\n",
       "      <th>Total Time Spent on Website</th>\n",
       "      <th>Page Views Per Visit</th>\n",
       "      <th>...</th>\n",
       "      <th>Get updates on DM Content</th>\n",
       "      <th>Lead Profile</th>\n",
       "      <th>City</th>\n",
       "      <th>Asymmetrique Activity Index</th>\n",
       "      <th>Asymmetrique Profile Index</th>\n",
       "      <th>Asymmetrique Activity Score</th>\n",
       "      <th>Asymmetrique Profile Score</th>\n",
       "      <th>I agree to pay the amount through cheque</th>\n",
       "      <th>A free copy of Mastering The Interview</th>\n",
       "      <th>Last Notable Activity</th>\n",
       "    </tr>\n",
       "  </thead>\n",
       "  <tbody>\n",
       "    <tr>\n",
       "      <th>0</th>\n",
       "      <td>7927b2df-8bba-4d29-b9a2-b6e0beafe620</td>\n",
       "      <td>660737</td>\n",
       "      <td>API</td>\n",
       "      <td>Olark Chat</td>\n",
       "      <td>No</td>\n",
       "      <td>No</td>\n",
       "      <td>0</td>\n",
       "      <td>0.0</td>\n",
       "      <td>0</td>\n",
       "      <td>0.0</td>\n",
       "      <td>...</td>\n",
       "      <td>No</td>\n",
       "      <td>Select</td>\n",
       "      <td>Select</td>\n",
       "      <td>02.Medium</td>\n",
       "      <td>02.Medium</td>\n",
       "      <td>15.0</td>\n",
       "      <td>15.0</td>\n",
       "      <td>No</td>\n",
       "      <td>No</td>\n",
       "      <td>Modified</td>\n",
       "    </tr>\n",
       "    <tr>\n",
       "      <th>1</th>\n",
       "      <td>2a272436-5132-4136-86fa-dcc88c88f482</td>\n",
       "      <td>660728</td>\n",
       "      <td>API</td>\n",
       "      <td>Organic Search</td>\n",
       "      <td>No</td>\n",
       "      <td>No</td>\n",
       "      <td>0</td>\n",
       "      <td>5.0</td>\n",
       "      <td>674</td>\n",
       "      <td>2.5</td>\n",
       "      <td>...</td>\n",
       "      <td>No</td>\n",
       "      <td>Select</td>\n",
       "      <td>Select</td>\n",
       "      <td>02.Medium</td>\n",
       "      <td>02.Medium</td>\n",
       "      <td>15.0</td>\n",
       "      <td>15.0</td>\n",
       "      <td>No</td>\n",
       "      <td>No</td>\n",
       "      <td>Email Opened</td>\n",
       "    </tr>\n",
       "    <tr>\n",
       "      <th>2</th>\n",
       "      <td>8cc8c611-a219-4f35-ad23-fdfd2656bd8a</td>\n",
       "      <td>660727</td>\n",
       "      <td>Landing Page Submission</td>\n",
       "      <td>Direct Traffic</td>\n",
       "      <td>No</td>\n",
       "      <td>No</td>\n",
       "      <td>1</td>\n",
       "      <td>2.0</td>\n",
       "      <td>1532</td>\n",
       "      <td>2.0</td>\n",
       "      <td>...</td>\n",
       "      <td>No</td>\n",
       "      <td>Potential Lead</td>\n",
       "      <td>Mumbai</td>\n",
       "      <td>02.Medium</td>\n",
       "      <td>01.High</td>\n",
       "      <td>14.0</td>\n",
       "      <td>20.0</td>\n",
       "      <td>No</td>\n",
       "      <td>Yes</td>\n",
       "      <td>Email Opened</td>\n",
       "    </tr>\n",
       "    <tr>\n",
       "      <th>3</th>\n",
       "      <td>0cc2df48-7cf4-4e39-9de9-19797f9b38cc</td>\n",
       "      <td>660719</td>\n",
       "      <td>Landing Page Submission</td>\n",
       "      <td>Direct Traffic</td>\n",
       "      <td>No</td>\n",
       "      <td>No</td>\n",
       "      <td>0</td>\n",
       "      <td>1.0</td>\n",
       "      <td>305</td>\n",
       "      <td>1.0</td>\n",
       "      <td>...</td>\n",
       "      <td>No</td>\n",
       "      <td>Select</td>\n",
       "      <td>Mumbai</td>\n",
       "      <td>02.Medium</td>\n",
       "      <td>01.High</td>\n",
       "      <td>13.0</td>\n",
       "      <td>17.0</td>\n",
       "      <td>No</td>\n",
       "      <td>No</td>\n",
       "      <td>Modified</td>\n",
       "    </tr>\n",
       "    <tr>\n",
       "      <th>4</th>\n",
       "      <td>3256f628-e534-4826-9d63-4a8b88782852</td>\n",
       "      <td>660681</td>\n",
       "      <td>Landing Page Submission</td>\n",
       "      <td>Google</td>\n",
       "      <td>No</td>\n",
       "      <td>No</td>\n",
       "      <td>1</td>\n",
       "      <td>2.0</td>\n",
       "      <td>1428</td>\n",
       "      <td>1.0</td>\n",
       "      <td>...</td>\n",
       "      <td>No</td>\n",
       "      <td>Select</td>\n",
       "      <td>Mumbai</td>\n",
       "      <td>02.Medium</td>\n",
       "      <td>01.High</td>\n",
       "      <td>15.0</td>\n",
       "      <td>18.0</td>\n",
       "      <td>No</td>\n",
       "      <td>No</td>\n",
       "      <td>Modified</td>\n",
       "    </tr>\n",
       "  </tbody>\n",
       "</table>\n",
       "<p>5 rows × 37 columns</p>\n",
       "</div>"
      ],
      "text/plain": [
       "                            Prospect ID  Lead Number              Lead Origin  \\\n",
       "0  7927b2df-8bba-4d29-b9a2-b6e0beafe620       660737                      API   \n",
       "1  2a272436-5132-4136-86fa-dcc88c88f482       660728                      API   \n",
       "2  8cc8c611-a219-4f35-ad23-fdfd2656bd8a       660727  Landing Page Submission   \n",
       "3  0cc2df48-7cf4-4e39-9de9-19797f9b38cc       660719  Landing Page Submission   \n",
       "4  3256f628-e534-4826-9d63-4a8b88782852       660681  Landing Page Submission   \n",
       "\n",
       "      Lead Source Do Not Email Do Not Call  Converted  TotalVisits  \\\n",
       "0      Olark Chat           No          No          0          0.0   \n",
       "1  Organic Search           No          No          0          5.0   \n",
       "2  Direct Traffic           No          No          1          2.0   \n",
       "3  Direct Traffic           No          No          0          1.0   \n",
       "4          Google           No          No          1          2.0   \n",
       "\n",
       "   Total Time Spent on Website  Page Views Per Visit  ...  \\\n",
       "0                            0                   0.0  ...   \n",
       "1                          674                   2.5  ...   \n",
       "2                         1532                   2.0  ...   \n",
       "3                          305                   1.0  ...   \n",
       "4                         1428                   1.0  ...   \n",
       "\n",
       "  Get updates on DM Content    Lead Profile    City  \\\n",
       "0                        No          Select  Select   \n",
       "1                        No          Select  Select   \n",
       "2                        No  Potential Lead  Mumbai   \n",
       "3                        No          Select  Mumbai   \n",
       "4                        No          Select  Mumbai   \n",
       "\n",
       "  Asymmetrique Activity Index Asymmetrique Profile Index  \\\n",
       "0                   02.Medium                  02.Medium   \n",
       "1                   02.Medium                  02.Medium   \n",
       "2                   02.Medium                    01.High   \n",
       "3                   02.Medium                    01.High   \n",
       "4                   02.Medium                    01.High   \n",
       "\n",
       "  Asymmetrique Activity Score Asymmetrique Profile Score  \\\n",
       "0                        15.0                       15.0   \n",
       "1                        15.0                       15.0   \n",
       "2                        14.0                       20.0   \n",
       "3                        13.0                       17.0   \n",
       "4                        15.0                       18.0   \n",
       "\n",
       "  I agree to pay the amount through cheque  \\\n",
       "0                                       No   \n",
       "1                                       No   \n",
       "2                                       No   \n",
       "3                                       No   \n",
       "4                                       No   \n",
       "\n",
       "  A free copy of Mastering The Interview Last Notable Activity  \n",
       "0                                     No              Modified  \n",
       "1                                     No          Email Opened  \n",
       "2                                    Yes          Email Opened  \n",
       "3                                     No              Modified  \n",
       "4                                     No              Modified  \n",
       "\n",
       "[5 rows x 37 columns]"
      ]
     },
     "execution_count": 30,
     "metadata": {},
     "output_type": "execute_result"
    }
   ],
   "source": [
    "df= pd.read_csv('Leads.csv')\n",
    "df.head()"
   ]
  },
  {
   "cell_type": "code",
   "execution_count": 31,
   "id": "27398a12",
   "metadata": {},
   "outputs": [
    {
     "data": {
      "text/html": [
       "<div>\n",
       "<style scoped>\n",
       "    .dataframe tbody tr th:only-of-type {\n",
       "        vertical-align: middle;\n",
       "    }\n",
       "\n",
       "    .dataframe tbody tr th {\n",
       "        vertical-align: top;\n",
       "    }\n",
       "\n",
       "    .dataframe thead th {\n",
       "        text-align: right;\n",
       "    }\n",
       "</style>\n",
       "<table border=\"1\" class=\"dataframe\">\n",
       "  <thead>\n",
       "    <tr style=\"text-align: right;\">\n",
       "      <th></th>\n",
       "      <th>Prospect ID</th>\n",
       "      <th>Lead Number</th>\n",
       "      <th>Lead Origin</th>\n",
       "      <th>Lead Source</th>\n",
       "      <th>Do Not Email</th>\n",
       "      <th>Do Not Call</th>\n",
       "      <th>Converted</th>\n",
       "      <th>TotalVisits</th>\n",
       "      <th>Total Time Spent on Website</th>\n",
       "      <th>Page Views Per Visit</th>\n",
       "      <th>...</th>\n",
       "      <th>Get updates on DM Content</th>\n",
       "      <th>Lead Profile</th>\n",
       "      <th>City</th>\n",
       "      <th>Asymmetrique Activity Index</th>\n",
       "      <th>Asymmetrique Profile Index</th>\n",
       "      <th>Asymmetrique Activity Score</th>\n",
       "      <th>Asymmetrique Profile Score</th>\n",
       "      <th>I agree to pay the amount through cheque</th>\n",
       "      <th>A free copy of Mastering The Interview</th>\n",
       "      <th>Last Notable Activity</th>\n",
       "    </tr>\n",
       "  </thead>\n",
       "  <tbody>\n",
       "    <tr>\n",
       "      <th>9235</th>\n",
       "      <td>19d6451e-fcd6-407c-b83b-48e1af805ea9</td>\n",
       "      <td>579564</td>\n",
       "      <td>Landing Page Submission</td>\n",
       "      <td>Direct Traffic</td>\n",
       "      <td>Yes</td>\n",
       "      <td>No</td>\n",
       "      <td>1</td>\n",
       "      <td>8.0</td>\n",
       "      <td>1845</td>\n",
       "      <td>2.67</td>\n",
       "      <td>...</td>\n",
       "      <td>No</td>\n",
       "      <td>Potential Lead</td>\n",
       "      <td>Mumbai</td>\n",
       "      <td>02.Medium</td>\n",
       "      <td>01.High</td>\n",
       "      <td>15.0</td>\n",
       "      <td>17.0</td>\n",
       "      <td>No</td>\n",
       "      <td>No</td>\n",
       "      <td>Email Marked Spam</td>\n",
       "    </tr>\n",
       "    <tr>\n",
       "      <th>9236</th>\n",
       "      <td>82a7005b-7196-4d56-95ce-a79f937a158d</td>\n",
       "      <td>579546</td>\n",
       "      <td>Landing Page Submission</td>\n",
       "      <td>Direct Traffic</td>\n",
       "      <td>No</td>\n",
       "      <td>No</td>\n",
       "      <td>0</td>\n",
       "      <td>2.0</td>\n",
       "      <td>238</td>\n",
       "      <td>2.00</td>\n",
       "      <td>...</td>\n",
       "      <td>No</td>\n",
       "      <td>Potential Lead</td>\n",
       "      <td>Mumbai</td>\n",
       "      <td>02.Medium</td>\n",
       "      <td>01.High</td>\n",
       "      <td>14.0</td>\n",
       "      <td>19.0</td>\n",
       "      <td>No</td>\n",
       "      <td>Yes</td>\n",
       "      <td>SMS Sent</td>\n",
       "    </tr>\n",
       "    <tr>\n",
       "      <th>9237</th>\n",
       "      <td>aac550fe-a586-452d-8d3c-f1b62c94e02c</td>\n",
       "      <td>579545</td>\n",
       "      <td>Landing Page Submission</td>\n",
       "      <td>Direct Traffic</td>\n",
       "      <td>Yes</td>\n",
       "      <td>No</td>\n",
       "      <td>0</td>\n",
       "      <td>2.0</td>\n",
       "      <td>199</td>\n",
       "      <td>2.00</td>\n",
       "      <td>...</td>\n",
       "      <td>No</td>\n",
       "      <td>Potential Lead</td>\n",
       "      <td>Mumbai</td>\n",
       "      <td>02.Medium</td>\n",
       "      <td>01.High</td>\n",
       "      <td>13.0</td>\n",
       "      <td>20.0</td>\n",
       "      <td>No</td>\n",
       "      <td>Yes</td>\n",
       "      <td>SMS Sent</td>\n",
       "    </tr>\n",
       "    <tr>\n",
       "      <th>9238</th>\n",
       "      <td>5330a7d1-2f2b-4df4-85d6-64ca2f6b95b9</td>\n",
       "      <td>579538</td>\n",
       "      <td>Landing Page Submission</td>\n",
       "      <td>Google</td>\n",
       "      <td>No</td>\n",
       "      <td>No</td>\n",
       "      <td>1</td>\n",
       "      <td>3.0</td>\n",
       "      <td>499</td>\n",
       "      <td>3.00</td>\n",
       "      <td>...</td>\n",
       "      <td>No</td>\n",
       "      <td>NaN</td>\n",
       "      <td>Other Metro Cities</td>\n",
       "      <td>02.Medium</td>\n",
       "      <td>02.Medium</td>\n",
       "      <td>15.0</td>\n",
       "      <td>16.0</td>\n",
       "      <td>No</td>\n",
       "      <td>No</td>\n",
       "      <td>SMS Sent</td>\n",
       "    </tr>\n",
       "    <tr>\n",
       "      <th>9239</th>\n",
       "      <td>571b5c8e-a5b2-4d57-8574-f2ffb06fdeff</td>\n",
       "      <td>579533</td>\n",
       "      <td>Landing Page Submission</td>\n",
       "      <td>Direct Traffic</td>\n",
       "      <td>No</td>\n",
       "      <td>No</td>\n",
       "      <td>1</td>\n",
       "      <td>6.0</td>\n",
       "      <td>1279</td>\n",
       "      <td>3.00</td>\n",
       "      <td>...</td>\n",
       "      <td>No</td>\n",
       "      <td>Potential Lead</td>\n",
       "      <td>Other Cities</td>\n",
       "      <td>02.Medium</td>\n",
       "      <td>01.High</td>\n",
       "      <td>15.0</td>\n",
       "      <td>18.0</td>\n",
       "      <td>No</td>\n",
       "      <td>Yes</td>\n",
       "      <td>Modified</td>\n",
       "    </tr>\n",
       "  </tbody>\n",
       "</table>\n",
       "<p>5 rows × 37 columns</p>\n",
       "</div>"
      ],
      "text/plain": [
       "                               Prospect ID  Lead Number  \\\n",
       "9235  19d6451e-fcd6-407c-b83b-48e1af805ea9       579564   \n",
       "9236  82a7005b-7196-4d56-95ce-a79f937a158d       579546   \n",
       "9237  aac550fe-a586-452d-8d3c-f1b62c94e02c       579545   \n",
       "9238  5330a7d1-2f2b-4df4-85d6-64ca2f6b95b9       579538   \n",
       "9239  571b5c8e-a5b2-4d57-8574-f2ffb06fdeff       579533   \n",
       "\n",
       "                  Lead Origin     Lead Source Do Not Email Do Not Call  \\\n",
       "9235  Landing Page Submission  Direct Traffic          Yes          No   \n",
       "9236  Landing Page Submission  Direct Traffic           No          No   \n",
       "9237  Landing Page Submission  Direct Traffic          Yes          No   \n",
       "9238  Landing Page Submission          Google           No          No   \n",
       "9239  Landing Page Submission  Direct Traffic           No          No   \n",
       "\n",
       "      Converted  TotalVisits  Total Time Spent on Website  \\\n",
       "9235          1          8.0                         1845   \n",
       "9236          0          2.0                          238   \n",
       "9237          0          2.0                          199   \n",
       "9238          1          3.0                          499   \n",
       "9239          1          6.0                         1279   \n",
       "\n",
       "      Page Views Per Visit  ... Get updates on DM Content    Lead Profile  \\\n",
       "9235                  2.67  ...                        No  Potential Lead   \n",
       "9236                  2.00  ...                        No  Potential Lead   \n",
       "9237                  2.00  ...                        No  Potential Lead   \n",
       "9238                  3.00  ...                        No             NaN   \n",
       "9239                  3.00  ...                        No  Potential Lead   \n",
       "\n",
       "                    City Asymmetrique Activity Index  \\\n",
       "9235              Mumbai                   02.Medium   \n",
       "9236              Mumbai                   02.Medium   \n",
       "9237              Mumbai                   02.Medium   \n",
       "9238  Other Metro Cities                   02.Medium   \n",
       "9239        Other Cities                   02.Medium   \n",
       "\n",
       "     Asymmetrique Profile Index Asymmetrique Activity Score  \\\n",
       "9235                    01.High                        15.0   \n",
       "9236                    01.High                        14.0   \n",
       "9237                    01.High                        13.0   \n",
       "9238                  02.Medium                        15.0   \n",
       "9239                    01.High                        15.0   \n",
       "\n",
       "     Asymmetrique Profile Score I agree to pay the amount through cheque  \\\n",
       "9235                       17.0                                       No   \n",
       "9236                       19.0                                       No   \n",
       "9237                       20.0                                       No   \n",
       "9238                       16.0                                       No   \n",
       "9239                       18.0                                       No   \n",
       "\n",
       "     A free copy of Mastering The Interview Last Notable Activity  \n",
       "9235                                     No     Email Marked Spam  \n",
       "9236                                    Yes              SMS Sent  \n",
       "9237                                    Yes              SMS Sent  \n",
       "9238                                     No              SMS Sent  \n",
       "9239                                    Yes              Modified  \n",
       "\n",
       "[5 rows x 37 columns]"
      ]
     },
     "execution_count": 31,
     "metadata": {},
     "output_type": "execute_result"
    }
   ],
   "source": [
    "df.tail()"
   ]
  },
  {
   "cell_type": "code",
   "execution_count": 32,
   "id": "e56fbb0f",
   "metadata": {},
   "outputs": [
    {
     "data": {
      "text/html": [
       "<div>\n",
       "<style scoped>\n",
       "    .dataframe tbody tr th:only-of-type {\n",
       "        vertical-align: middle;\n",
       "    }\n",
       "\n",
       "    .dataframe tbody tr th {\n",
       "        vertical-align: top;\n",
       "    }\n",
       "\n",
       "    .dataframe thead th {\n",
       "        text-align: right;\n",
       "    }\n",
       "</style>\n",
       "<table border=\"1\" class=\"dataframe\">\n",
       "  <thead>\n",
       "    <tr style=\"text-align: right;\">\n",
       "      <th></th>\n",
       "      <th>Lead Number</th>\n",
       "      <th>Converted</th>\n",
       "      <th>TotalVisits</th>\n",
       "      <th>Total Time Spent on Website</th>\n",
       "      <th>Page Views Per Visit</th>\n",
       "      <th>Asymmetrique Activity Score</th>\n",
       "      <th>Asymmetrique Profile Score</th>\n",
       "    </tr>\n",
       "  </thead>\n",
       "  <tbody>\n",
       "    <tr>\n",
       "      <th>count</th>\n",
       "      <td>9240.000000</td>\n",
       "      <td>9240.000000</td>\n",
       "      <td>9103.000000</td>\n",
       "      <td>9240.000000</td>\n",
       "      <td>9103.000000</td>\n",
       "      <td>5022.000000</td>\n",
       "      <td>5022.000000</td>\n",
       "    </tr>\n",
       "    <tr>\n",
       "      <th>mean</th>\n",
       "      <td>617188.435606</td>\n",
       "      <td>0.385390</td>\n",
       "      <td>3.445238</td>\n",
       "      <td>487.698268</td>\n",
       "      <td>2.362820</td>\n",
       "      <td>14.306252</td>\n",
       "      <td>16.344883</td>\n",
       "    </tr>\n",
       "    <tr>\n",
       "      <th>std</th>\n",
       "      <td>23405.995698</td>\n",
       "      <td>0.486714</td>\n",
       "      <td>4.854853</td>\n",
       "      <td>548.021466</td>\n",
       "      <td>2.161418</td>\n",
       "      <td>1.386694</td>\n",
       "      <td>1.811395</td>\n",
       "    </tr>\n",
       "    <tr>\n",
       "      <th>min</th>\n",
       "      <td>579533.000000</td>\n",
       "      <td>0.000000</td>\n",
       "      <td>0.000000</td>\n",
       "      <td>0.000000</td>\n",
       "      <td>0.000000</td>\n",
       "      <td>7.000000</td>\n",
       "      <td>11.000000</td>\n",
       "    </tr>\n",
       "    <tr>\n",
       "      <th>25%</th>\n",
       "      <td>596484.500000</td>\n",
       "      <td>0.000000</td>\n",
       "      <td>1.000000</td>\n",
       "      <td>12.000000</td>\n",
       "      <td>1.000000</td>\n",
       "      <td>14.000000</td>\n",
       "      <td>15.000000</td>\n",
       "    </tr>\n",
       "    <tr>\n",
       "      <th>50%</th>\n",
       "      <td>615479.000000</td>\n",
       "      <td>0.000000</td>\n",
       "      <td>3.000000</td>\n",
       "      <td>248.000000</td>\n",
       "      <td>2.000000</td>\n",
       "      <td>14.000000</td>\n",
       "      <td>16.000000</td>\n",
       "    </tr>\n",
       "    <tr>\n",
       "      <th>75%</th>\n",
       "      <td>637387.250000</td>\n",
       "      <td>1.000000</td>\n",
       "      <td>5.000000</td>\n",
       "      <td>936.000000</td>\n",
       "      <td>3.000000</td>\n",
       "      <td>15.000000</td>\n",
       "      <td>18.000000</td>\n",
       "    </tr>\n",
       "    <tr>\n",
       "      <th>max</th>\n",
       "      <td>660737.000000</td>\n",
       "      <td>1.000000</td>\n",
       "      <td>251.000000</td>\n",
       "      <td>2272.000000</td>\n",
       "      <td>55.000000</td>\n",
       "      <td>18.000000</td>\n",
       "      <td>20.000000</td>\n",
       "    </tr>\n",
       "  </tbody>\n",
       "</table>\n",
       "</div>"
      ],
      "text/plain": [
       "         Lead Number    Converted  TotalVisits  Total Time Spent on Website  \\\n",
       "count    9240.000000  9240.000000  9103.000000                  9240.000000   \n",
       "mean   617188.435606     0.385390     3.445238                   487.698268   \n",
       "std     23405.995698     0.486714     4.854853                   548.021466   \n",
       "min    579533.000000     0.000000     0.000000                     0.000000   \n",
       "25%    596484.500000     0.000000     1.000000                    12.000000   \n",
       "50%    615479.000000     0.000000     3.000000                   248.000000   \n",
       "75%    637387.250000     1.000000     5.000000                   936.000000   \n",
       "max    660737.000000     1.000000   251.000000                  2272.000000   \n",
       "\n",
       "       Page Views Per Visit  Asymmetrique Activity Score  \\\n",
       "count           9103.000000                  5022.000000   \n",
       "mean               2.362820                    14.306252   \n",
       "std                2.161418                     1.386694   \n",
       "min                0.000000                     7.000000   \n",
       "25%                1.000000                    14.000000   \n",
       "50%                2.000000                    14.000000   \n",
       "75%                3.000000                    15.000000   \n",
       "max               55.000000                    18.000000   \n",
       "\n",
       "       Asymmetrique Profile Score  \n",
       "count                 5022.000000  \n",
       "mean                    16.344883  \n",
       "std                      1.811395  \n",
       "min                     11.000000  \n",
       "25%                     15.000000  \n",
       "50%                     16.000000  \n",
       "75%                     18.000000  \n",
       "max                     20.000000  "
      ]
     },
     "execution_count": 32,
     "metadata": {},
     "output_type": "execute_result"
    }
   ],
   "source": [
    "df.describe()"
   ]
  },
  {
   "cell_type": "code",
   "execution_count": null,
   "id": "63f0b363",
   "metadata": {
    "scrolled": false
   },
   "outputs": [],
   "source": []
  },
  {
   "cell_type": "code",
   "execution_count": 33,
   "id": "ead4f96a",
   "metadata": {
    "scrolled": false
   },
   "outputs": [
    {
     "data": {
      "text/html": [
       "<style type=\"text/css\">\n",
       "#T_aea09 thead>tr>th {\n",
       "  text-align: left;\n",
       "}\n",
       "#T_aea09_row0_col0, #T_aea09_row1_col0, #T_aea09_row2_col0, #T_aea09_row3_col0, #T_aea09_row4_col0, #T_aea09_row5_col0, #T_aea09_row6_col0, #T_aea09_row7_col0, #T_aea09_row8_col0, #T_aea09_row9_col0, #T_aea09_row10_col0, #T_aea09_row11_col0, #T_aea09_row12_col0, #T_aea09_row13_col0, #T_aea09_row14_col0, #T_aea09_row15_col0, #T_aea09_row16_col0, #T_aea09_row17_col0, #T_aea09_row18_col0, #T_aea09_row19_col0, #T_aea09_row20_col0, #T_aea09_row21_col0, #T_aea09_row22_col0, #T_aea09_row23_col0, #T_aea09_row24_col0, #T_aea09_row25_col0, #T_aea09_row26_col0, #T_aea09_row27_col0, #T_aea09_row28_col0, #T_aea09_row29_col0, #T_aea09_row30_col0, #T_aea09_row31_col0, #T_aea09_row32_col0, #T_aea09_row33_col0, #T_aea09_row34_col0, #T_aea09_row35_col0, #T_aea09_row36_col0 {\n",
       "  text-align: left;\n",
       "  font-size: 12px;\n",
       "  vertical-align: middle;\n",
       "  width: 5%;\n",
       "  max-width: 50px;\n",
       "  min-width: 20px;\n",
       "}\n",
       "#T_aea09_row0_col1, #T_aea09_row1_col1, #T_aea09_row2_col1, #T_aea09_row3_col1, #T_aea09_row4_col1, #T_aea09_row5_col1, #T_aea09_row6_col1, #T_aea09_row7_col1, #T_aea09_row8_col1, #T_aea09_row9_col1, #T_aea09_row10_col1, #T_aea09_row11_col1, #T_aea09_row12_col1, #T_aea09_row13_col1, #T_aea09_row14_col1, #T_aea09_row15_col1, #T_aea09_row16_col1, #T_aea09_row17_col1, #T_aea09_row18_col1, #T_aea09_row19_col1, #T_aea09_row20_col1, #T_aea09_row21_col1, #T_aea09_row22_col1, #T_aea09_row23_col1, #T_aea09_row24_col1, #T_aea09_row25_col1, #T_aea09_row26_col1, #T_aea09_row27_col1, #T_aea09_row28_col1, #T_aea09_row29_col1, #T_aea09_row30_col1, #T_aea09_row31_col1, #T_aea09_row32_col1, #T_aea09_row33_col1, #T_aea09_row34_col1, #T_aea09_row35_col1, #T_aea09_row36_col1 {\n",
       "  text-align: left;\n",
       "  font-size: 12px;\n",
       "  vertical-align: middle;\n",
       "  width: 15%;\n",
       "  max-width: 200px;\n",
       "  min-width: 100px;\n",
       "  word-break: break-word;\n",
       "}\n",
       "#T_aea09_row0_col2, #T_aea09_row1_col2, #T_aea09_row2_col2, #T_aea09_row3_col2, #T_aea09_row4_col2, #T_aea09_row5_col2, #T_aea09_row6_col2, #T_aea09_row7_col2, #T_aea09_row8_col2, #T_aea09_row9_col2, #T_aea09_row10_col2, #T_aea09_row11_col2, #T_aea09_row12_col2, #T_aea09_row13_col2, #T_aea09_row14_col2, #T_aea09_row15_col2, #T_aea09_row16_col2, #T_aea09_row17_col2, #T_aea09_row18_col2, #T_aea09_row19_col2, #T_aea09_row20_col2, #T_aea09_row21_col2, #T_aea09_row22_col2, #T_aea09_row23_col2, #T_aea09_row24_col2, #T_aea09_row25_col2, #T_aea09_row26_col2, #T_aea09_row27_col2, #T_aea09_row28_col2, #T_aea09_row29_col2, #T_aea09_row30_col2, #T_aea09_row31_col2, #T_aea09_row32_col2, #T_aea09_row33_col2, #T_aea09_row34_col2, #T_aea09_row35_col2, #T_aea09_row36_col2 {\n",
       "  text-align: left;\n",
       "  font-size: 12px;\n",
       "  vertical-align: middle;\n",
       "  width: 30%;\n",
       "  min-width: 100px;\n",
       "}\n",
       "#T_aea09_row0_col3, #T_aea09_row1_col3, #T_aea09_row2_col3, #T_aea09_row3_col3, #T_aea09_row4_col3, #T_aea09_row5_col3, #T_aea09_row6_col3, #T_aea09_row7_col3, #T_aea09_row8_col3, #T_aea09_row9_col3, #T_aea09_row10_col3, #T_aea09_row11_col3, #T_aea09_row12_col3, #T_aea09_row13_col3, #T_aea09_row14_col3, #T_aea09_row15_col3, #T_aea09_row16_col3, #T_aea09_row17_col3, #T_aea09_row18_col3, #T_aea09_row19_col3, #T_aea09_row20_col3, #T_aea09_row21_col3, #T_aea09_row22_col3, #T_aea09_row23_col3, #T_aea09_row24_col3, #T_aea09_row25_col3, #T_aea09_row26_col3, #T_aea09_row27_col3, #T_aea09_row28_col3, #T_aea09_row29_col3, #T_aea09_row30_col3, #T_aea09_row31_col3, #T_aea09_row32_col3, #T_aea09_row33_col3, #T_aea09_row34_col3, #T_aea09_row35_col3, #T_aea09_row36_col3 {\n",
       "  text-align: left;\n",
       "  font-size: 12px;\n",
       "  vertical-align: middle;\n",
       "  width: 25%;\n",
       "  min-width: 100px;\n",
       "}\n",
       "#T_aea09_row0_col4, #T_aea09_row1_col4, #T_aea09_row2_col4, #T_aea09_row3_col4, #T_aea09_row4_col4, #T_aea09_row5_col4, #T_aea09_row6_col4, #T_aea09_row7_col4, #T_aea09_row8_col4, #T_aea09_row9_col4, #T_aea09_row10_col4, #T_aea09_row11_col4, #T_aea09_row12_col4, #T_aea09_row13_col4, #T_aea09_row14_col4, #T_aea09_row15_col4, #T_aea09_row16_col4, #T_aea09_row17_col4, #T_aea09_row18_col4, #T_aea09_row19_col4, #T_aea09_row20_col4, #T_aea09_row21_col4, #T_aea09_row22_col4, #T_aea09_row23_col4, #T_aea09_row24_col4, #T_aea09_row25_col4, #T_aea09_row26_col4, #T_aea09_row27_col4, #T_aea09_row28_col4, #T_aea09_row29_col4, #T_aea09_row30_col4, #T_aea09_row31_col4, #T_aea09_row32_col4, #T_aea09_row33_col4, #T_aea09_row34_col4, #T_aea09_row35_col4, #T_aea09_row36_col4 {\n",
       "  text-align: left;\n",
       "  font-size: 12px;\n",
       "  vertical-align: middle;\n",
       "  width: 20%;\n",
       "  min-width: 150px;\n",
       "}\n",
       "#T_aea09_row0_col5, #T_aea09_row1_col5, #T_aea09_row2_col5, #T_aea09_row3_col5, #T_aea09_row4_col5, #T_aea09_row5_col5, #T_aea09_row6_col5, #T_aea09_row7_col5, #T_aea09_row8_col5, #T_aea09_row9_col5, #T_aea09_row10_col5, #T_aea09_row11_col5, #T_aea09_row12_col5, #T_aea09_row13_col5, #T_aea09_row14_col5, #T_aea09_row15_col5, #T_aea09_row16_col5, #T_aea09_row17_col5, #T_aea09_row18_col5, #T_aea09_row19_col5, #T_aea09_row20_col5, #T_aea09_row21_col5, #T_aea09_row22_col5, #T_aea09_row23_col5, #T_aea09_row24_col5, #T_aea09_row25_col5, #T_aea09_row26_col5, #T_aea09_row27_col5, #T_aea09_row28_col5, #T_aea09_row29_col5, #T_aea09_row30_col5, #T_aea09_row31_col5, #T_aea09_row32_col5, #T_aea09_row33_col5, #T_aea09_row34_col5, #T_aea09_row35_col5, #T_aea09_row36_col5 {\n",
       "  text-align: left;\n",
       "  font-size: 12px;\n",
       "  vertical-align: middle;\n",
       "  width: 10%;\n",
       "}\n",
       "</style>\n",
       "<table id=\"T_aea09\">\n",
       "  <caption><strong>Data Frame Summary</strong><br>df<br>Dimensions: 9,240 x 37<br>Duplicates: 0</caption>\n",
       "  <thead>\n",
       "    <tr>\n",
       "      <th id=\"T_aea09_level0_col0\" class=\"col_heading level0 col0\" >No</th>\n",
       "      <th id=\"T_aea09_level0_col1\" class=\"col_heading level0 col1\" >Variable</th>\n",
       "      <th id=\"T_aea09_level0_col2\" class=\"col_heading level0 col2\" >Stats / Values</th>\n",
       "      <th id=\"T_aea09_level0_col3\" class=\"col_heading level0 col3\" >Freqs / (% of Valid)</th>\n",
       "      <th id=\"T_aea09_level0_col4\" class=\"col_heading level0 col4\" >Graph</th>\n",
       "      <th id=\"T_aea09_level0_col5\" class=\"col_heading level0 col5\" >Missing</th>\n",
       "    </tr>\n",
       "  </thead>\n",
       "  <tbody>\n",
       "    <tr>\n",
       "      <td id=\"T_aea09_row0_col0\" class=\"data row0 col0\" >1</td>\n",
       "      <td id=\"T_aea09_row0_col1\" class=\"data row0 col1\" ><strong>Prospect ID</strong><br>[object]</td>\n",
       "      <td id=\"T_aea09_row0_col2\" class=\"data row0 col2\" >1. 7927b2df-8bba-4d29-b9a2-b6e0be<br>2. 22e9d4ef-d294-4ebf-81c7-7c7a11<br>3. 46befc49-253a-419b-abea-2fd978<br>4. 9d35a2c2-09d8-439f-9875-0e8bbf<br>5. f0de9371-4dc2-48c2-9785-a08d6f<br>6. 446a290f-b78f-413b-8912-d9c79a<br>7. 38826741-ffe2-4d37-89c4-1140c6<br>8. f08604ae-a2fa-4d64-8a42-a95ff2<br>9. ce9c2fa0-d2ff-493d-82a9-20c81b<br>10. 13e3716d-528a-4e90-a441-51ab1d<br>11. other</td>\n",
       "      <td id=\"T_aea09_row0_col3\" class=\"data row0 col3\" >1 (0.0%)<br>1 (0.0%)<br>1 (0.0%)<br>1 (0.0%)<br>1 (0.0%)<br>1 (0.0%)<br>1 (0.0%)<br>1 (0.0%)<br>1 (0.0%)<br>1 (0.0%)<br>9,230 (99.9%)</td>\n",
       "      <td id=\"T_aea09_row0_col4\" class=\"data row0 col4\" ><img src = \"data:image/png;base64, iVBORw0KGgoAAAANSUhEUgAAAG8AAACzCAYAAACHOUI0AAAAOXRFWHRTb2Z0d2FyZQBNYXRwbG90bGliIHZlcnNpb24zLjUuMywgaHR0cHM6Ly9tYXRwbG90bGliLm9yZy/NK7nSAAAACXBIWXMAAAsTAAALEwEAmpwYAAACCklEQVR4nO3asW3EMBQFQVJwyFS4Ds71uAL17dx1yDWcEmKBmQoILPADPc37vgdNx+4H8Jx4YeKFiRcmXph4YeKFHXPO792P4JljjPHe/QiecTbDxAsTL0y8MPHCxAsTL0y8MPHCxAs7xhi/ux/BM9MPSF3OZphJKMwkFOZshokXJl6YeGHihYkXJl6YeGHihYkXZhIKMwmFOZthJqEwk1CYsxkmXph4YeKFiRcmXph4YeKFiRcmXphJKMwkFOZshpmEwkxCYc5mmHhh4oWJFyZemHhh4oWJFyZemHhhJqEwk1CYsxlmEgozCYU5m2HihYkXJl6YeGHihYkXJl6YeGHihZmEwkxCYc5mmEkozCQU5myGiRcmXph4YeKFiRcmXph4YeKFiRdmEgozCYU5m2EmoTCTUJizGSZemHhh4oWJFyZemHhh4oWJFyZemEkozCQU5myGmYTCTEJhzmaYeGHihYkXJl6YeGHihYkXJl6YeGHihdnzwux5Yc5mmD0vzJ4X5myGiRcmXph4YeKFiRcmXph4YeKFiRdmEgozCYU5m2EmoTCTUJizGSZemHhh4oWJFyZemHhh4oWJFyZemEkozCQU5myGzfM8f9Zar90P4XNfa63XdV1/ux/C55zNMPHCxAsTL0y8MPHCxAsTL0y8MPHCfNsMMwmFOZth4oWJFyZemHhh4oX9A5gQNK7t5DBkAAAAAElFTkSuQmCC\"></img></td>\n",
       "      <td id=\"T_aea09_row0_col5\" class=\"data row0 col5\" >0<br>(0.0%)</td>\n",
       "    </tr>\n",
       "    <tr>\n",
       "      <td id=\"T_aea09_row1_col0\" class=\"data row1 col0\" >2</td>\n",
       "      <td id=\"T_aea09_row1_col1\" class=\"data row1 col1\" ><strong>Lead Number</strong><br>[int64]</td>\n",
       "      <td id=\"T_aea09_row1_col2\" class=\"data row1 col2\" >Mean (sd) : 617188.4 (23406.0)<br>min < med < max:<br>579533.0 < 615479.0 < 660737.0<br>IQR (CV) : 40902.8 (26.4)</td>\n",
       "      <td id=\"T_aea09_row1_col3\" class=\"data row1 col3\" >9,240 distinct values</td>\n",
       "      <td id=\"T_aea09_row1_col4\" class=\"data row1 col4\" ><img src = \"data:image/png;base64, iVBORw0KGgoAAAANSUhEUgAAAHoAAAAyCAYAAACTUs/lAAAAOXRFWHRTb2Z0d2FyZQBNYXRwbG90bGliIHZlcnNpb24zLjUuMywgaHR0cHM6Ly9tYXRwbG90bGliLm9yZy/NK7nSAAAACXBIWXMAAAsTAAALEwEAmpwYAAABYUlEQVR4nO3YMU7DMBiGYYOQksGs6cCCfIFygZ6AiRN45UzZfAI2bsA9WBjInCVSpPQAUGoLx039vc9spZHeJr+dm2VZDOp3e+kbQBl3OS7Sdd2LtXYXs3Ycx+9hGN5y/C7inQydEq9t2733/j1mbQjhIfbmkM/J0Nbanff+K+YiIYRDvlvCGpjRIrLM6BTTND05515j1jLP8ykeumma+9iR0Pf9s3OOTV4GxUOnSPlTsMn7GzNaxKaf6GuTciQ1puy4IfQZa31PMKbsuCH0GbV8T2BGi6jmiU48nz9aaz9j1s7zvDfGRD3RW1ZN6MSj2MF7/xG79n93tg28ukUQWkQ1r+5rtNa+4rfzOaEvaMV9xY/zOa9uEYQWQWgRhBZBaBGEFkFoEYQWQWgRhBZBaBGEFkFoEYQWQWgRhBZBaBGEFkFoEYQWQWgRhBZBaBGEFkFoEYQWQWgRhBZBaBGEFnEECsVsoPpksxcAAAAASUVORK5CYII=\"></img></td>\n",
       "      <td id=\"T_aea09_row1_col5\" class=\"data row1 col5\" >0<br>(0.0%)</td>\n",
       "    </tr>\n",
       "    <tr>\n",
       "      <td id=\"T_aea09_row2_col0\" class=\"data row2 col0\" >3</td>\n",
       "      <td id=\"T_aea09_row2_col1\" class=\"data row2 col1\" ><strong>Lead Origin</strong><br>[object]</td>\n",
       "      <td id=\"T_aea09_row2_col2\" class=\"data row2 col2\" >1. Landing Page Submission<br>2. API<br>3. Lead Add Form<br>4. Lead Import<br>5. Quick Add Form</td>\n",
       "      <td id=\"T_aea09_row2_col3\" class=\"data row2 col3\" >4,886 (52.9%)<br>3,580 (38.7%)<br>718 (7.8%)<br>55 (0.6%)<br>1 (0.0%)</td>\n",
       "      <td id=\"T_aea09_row2_col4\" class=\"data row2 col4\" ><img src = \"data:image/png;base64, iVBORw0KGgoAAAANSUhEUgAAAG8AAABRCAYAAADctfi9AAAAOXRFWHRTb2Z0d2FyZQBNYXRwbG90bGliIHZlcnNpb24zLjUuMywgaHR0cHM6Ly9tYXRwbG90bGliLm9yZy/NK7nSAAAACXBIWXMAAAsTAAALEwEAmpwYAAABU0lEQVR4nO3asY3CQBBG4VnL4aYrAvKjHipwba7g+rmcwI439xVAghbE8ND7KhjpSX/gdTmOI8Q0ZR+gccYDK621a631lH3IO/Tet33ff7PveJW51npaluWWfcg7rOt6zr7hlZxNMOOBGQ/MeGDGAzMemPHAjAdmPDDjgRkPzA/TYMXHWC5nEww1m982e89Cved923vcs5xNMOOBGQ/MeGDGAzMemPHAjAdmPDDjgfltE8wnITBnE+yh2XSuPtNDT0I+xXwmZxPMeGDGAzMemPHAjAdmPDDjgRkPzHhgftsE80kIzNkEK621a0SEs8gzU36B0D1nE8x4YMYDMx6Y8cCMB2Y8MOOBGQ/MeGDGA5t771v2ERrjex6Yswk2lVIu2UdozBQRP9lHaIyzCWY8MOOBGQ/MeGDGAzMemPHAjAdmPLApIv6yj9AYn4TAnE0w44H9A8i+WFSLoU0CAAAAAElFTkSuQmCC\"></img></td>\n",
       "      <td id=\"T_aea09_row2_col5\" class=\"data row2 col5\" >0<br>(0.0%)</td>\n",
       "    </tr>\n",
       "    <tr>\n",
       "      <td id=\"T_aea09_row3_col0\" class=\"data row3 col0\" >4</td>\n",
       "      <td id=\"T_aea09_row3_col1\" class=\"data row3 col1\" ><strong>Lead Source</strong><br>[object]</td>\n",
       "      <td id=\"T_aea09_row3_col2\" class=\"data row3 col2\" >1. Google<br>2. Direct Traffic<br>3. Olark Chat<br>4. Organic Search<br>5. Reference<br>6. Welingak Website<br>7. Referral Sites<br>8. Facebook<br>9. nan<br>10. bing<br>11. other</td>\n",
       "      <td id=\"T_aea09_row3_col3\" class=\"data row3 col3\" >2,868 (31.0%)<br>2,543 (27.5%)<br>1,755 (19.0%)<br>1,154 (12.5%)<br>534 (5.8%)<br>142 (1.5%)<br>125 (1.4%)<br>55 (0.6%)<br>36 (0.4%)<br>6 (0.1%)<br>22 (0.2%)</td>\n",
       "      <td id=\"T_aea09_row3_col4\" class=\"data row3 col4\" ><img src = \"data:image/png;base64, iVBORw0KGgoAAAANSUhEUgAAAG8AAACzCAYAAACHOUI0AAAAOXRFWHRTb2Z0d2FyZQBNYXRwbG90bGliIHZlcnNpb24zLjUuMywgaHR0cHM6Ly9tYXRwbG90bGliLm9yZy/NK7nSAAAACXBIWXMAAAsTAAALEwEAmpwYAAACXklEQVR4nO3dMWobURhG0TeDymkHF+mT9XgFWptWkP2kT2HV0ytV0hnCGPvpwjkreHDhK+YXaHk8HoOmdfYDOE+8MPHCxAsTL0y8MPHCln3fX7dte5n9kDHGOI7j7X6//5z9jorLtm0v1+v19+yHjDHG7Xb7NvsNJWYzTLww8cLECxMvTLww8cLECxMvTLww3zbDFj9A6jKbYVNn00x+zNSTkBPQx5jNMPHCxAsTL0y8MPHCxAsTL0y8MPHCfNsMcxIKM5thnzKb5vBrfMpJyKnna5jNMPHCxAsTL0y8MPHCxAsTL0y8MPHCfNsMcxIKM5thp2fTNM53+iTk7DOf2QwTL0y8MPHCxAsTL0y8MPHCxAsTL8y3zTAnoTCzGfbubJrF5/fuScjJ5/mZzTDxwsQLEy9MvDDxwsQLEy9MvDDxwnzbDHMSCjObYf9m00z2rH9PQs/yH3r8P7MZJl6YeGHihYkXJl6YeGHihYkXJl6Yb5thTkJhZjPMbIY5CYWZzTDxwsQLEy9MvDDxwsQLEy9MvDDxwnzbDHMSCjObYcu+769jjGEyey5OQV1mM0y8MPHCxAsTL0y8MPHCxAsTL0y8MPHCLsdxvM1+BOe454WZzbB1WZYfsx/BOesY4/vsR3CO2QwTL0y8MPHCxAsTL0y8MPHCxAsTL2wdY/ya/QjOcRIKM5thTkJhTkJhZjNMvDDxwsQLEy9MvDDxwsQLEy9MvDAnoTAnoTCzGeYkFOYkFGY2w8QLEy9MvDDxwsQLEy9MvDDxwsQLcxIKcxIKM5th4oWJFyZemHhh4oX9Aa1bup4lhQM3AAAAAElFTkSuQmCC\"></img></td>\n",
       "      <td id=\"T_aea09_row3_col5\" class=\"data row3 col5\" >36<br>(0.4%)</td>\n",
       "    </tr>\n",
       "    <tr>\n",
       "      <td id=\"T_aea09_row4_col0\" class=\"data row4 col0\" >5</td>\n",
       "      <td id=\"T_aea09_row4_col1\" class=\"data row4 col1\" ><strong>Do Not Email</strong><br>[object]</td>\n",
       "      <td id=\"T_aea09_row4_col2\" class=\"data row4 col2\" >1. No<br>2. Yes</td>\n",
       "      <td id=\"T_aea09_row4_col3\" class=\"data row4 col3\" >8,506 (92.1%)<br>734 (7.9%)</td>\n",
       "      <td id=\"T_aea09_row4_col4\" class=\"data row4 col4\" ><img src = \"data:image/png;base64, iVBORw0KGgoAAAANSUhEUgAAAG8AAAAgCAYAAAAcyybZAAAAOXRFWHRTb2Z0d2FyZQBNYXRwbG90bGliIHZlcnNpb24zLjUuMywgaHR0cHM6Ly9tYXRwbG90bGliLm9yZy/NK7nSAAAACXBIWXMAAAsTAAALEwEAmpwYAAAArUlEQVR4nO3ZMQ4CIRBAUTGW05ItPJUn4GycwFNZSE2PBzC6FGbxJ/+1NCQ/TMGkMcZJTCnnfIuIbfVF9K73/myt3T+dXyJiK6U8jryU5tRar9/Oz0ddRL9nPDDjgRkPzHhgxgMzHpjxwIwHZjww44H5Mf3H9j6mkyshLscm2NTY3Hu+WmNqn7e3V9Iajk0w44EZD8x4YMYDMx6Y8cCMB2Y8MOOBGQ/MeGBuFcBe0V4uo38SomoAAAAASUVORK5CYII=\"></img></td>\n",
       "      <td id=\"T_aea09_row4_col5\" class=\"data row4 col5\" >0<br>(0.0%)</td>\n",
       "    </tr>\n",
       "    <tr>\n",
       "      <td id=\"T_aea09_row5_col0\" class=\"data row5 col0\" >6</td>\n",
       "      <td id=\"T_aea09_row5_col1\" class=\"data row5 col1\" ><strong>Do Not Call</strong><br>[object]</td>\n",
       "      <td id=\"T_aea09_row5_col2\" class=\"data row5 col2\" >1. No<br>2. Yes</td>\n",
       "      <td id=\"T_aea09_row5_col3\" class=\"data row5 col3\" >9,238 (100.0%)<br>2 (0.0%)</td>\n",
       "      <td id=\"T_aea09_row5_col4\" class=\"data row5 col4\" ><img src = \"data:image/png;base64, iVBORw0KGgoAAAANSUhEUgAAAG8AAAAgCAYAAAAcyybZAAAAOXRFWHRTb2Z0d2FyZQBNYXRwbG90bGliIHZlcnNpb24zLjUuMywgaHR0cHM6Ly9tYXRwbG90bGliLm9yZy/NK7nSAAAACXBIWXMAAAsTAAALEwEAmpwYAAAAmElEQVR4nO3ZsQkDMRAF0V3hcFNxHZzrcQXq27nrkGs4JcvAvAo+DGwg5d47xJRzzk9VXd1D9Nyrqq611q97iJ4b3QN0znhgxgMzHpjxwIwHZjww44EZD8x4YMYD82EaLP0S4vJsgo3MfHeP0JkREXf3CJ3xbIIZD8x4YMYDMx6Y8cCMB2Y8MOOBGQ/MeGDGAxsR8e0eoTN/QDELNpHAS3UAAAAASUVORK5CYII=\"></img></td>\n",
       "      <td id=\"T_aea09_row5_col5\" class=\"data row5 col5\" >0<br>(0.0%)</td>\n",
       "    </tr>\n",
       "    <tr>\n",
       "      <td id=\"T_aea09_row6_col0\" class=\"data row6 col0\" >7</td>\n",
       "      <td id=\"T_aea09_row6_col1\" class=\"data row6 col1\" ><strong>Converted</strong><br>[int64]</td>\n",
       "      <td id=\"T_aea09_row6_col2\" class=\"data row6 col2\" >Mean (sd) : 0.4 (0.5)<br>min < med < max:<br>0.0 < 0.0 < 1.0<br>IQR (CV) : 1.0 (0.8)</td>\n",
       "      <td id=\"T_aea09_row6_col3\" class=\"data row6 col3\" >2 distinct values</td>\n",
       "      <td id=\"T_aea09_row6_col4\" class=\"data row6 col4\" ><img src = \"data:image/png;base64, iVBORw0KGgoAAAANSUhEUgAAAHoAAAAyCAYAAACTUs/lAAAAOXRFWHRTb2Z0d2FyZQBNYXRwbG90bGliIHZlcnNpb24zLjUuMywgaHR0cHM6Ly9tYXRwbG90bGliLm9yZy/NK7nSAAAACXBIWXMAAAsTAAALEwEAmpwYAAAA1klEQVR4nO3auwkDMRAAUZ9xuLEucFWuQLWpAlflwIqVyxUIDk7n38xLBWJhYKNdeu8n/b/zpwfQe1xGDymlW0SsWz5prT1rrfd5Y2m2YeiIWHPOjy2flFKu80bSEVzdEIaGMDSEoSEMDWFoCENDGBrC0BCGhjA0hKEhDA1haAhDQxgaYnh4oO+y9+LH0D9i78WPqxvC0BCGhjA0hKEhDA1haAhDQxgawtAQhoYwNIShIQwNYWgIQ0MYGsLQEIaGMDSEoSEMDWFoCENDGBrC0BCGhjA0xAtJ3hvfZNT9sQAAAABJRU5ErkJggg==\"></img></td>\n",
       "      <td id=\"T_aea09_row6_col5\" class=\"data row6 col5\" >0<br>(0.0%)</td>\n",
       "    </tr>\n",
       "    <tr>\n",
       "      <td id=\"T_aea09_row7_col0\" class=\"data row7 col0\" >8</td>\n",
       "      <td id=\"T_aea09_row7_col1\" class=\"data row7 col1\" ><strong>TotalVisits</strong><br>[float64]</td>\n",
       "      <td id=\"T_aea09_row7_col2\" class=\"data row7 col2\" >Mean (sd) : 3.4 (4.9)<br>min < med < max:<br>0.0 < 3.0 < 251.0<br>IQR (CV) : 4.0 (0.7)</td>\n",
       "      <td id=\"T_aea09_row7_col3\" class=\"data row7 col3\" >41 distinct values</td>\n",
       "      <td id=\"T_aea09_row7_col4\" class=\"data row7 col4\" ><img src = \"data:image/png;base64, iVBORw0KGgoAAAANSUhEUgAAAHoAAAAyCAYAAACTUs/lAAAAOXRFWHRTb2Z0d2FyZQBNYXRwbG90bGliIHZlcnNpb24zLjUuMywgaHR0cHM6Ly9tYXRwbG90bGliLm9yZy/NK7nSAAAACXBIWXMAAAsTAAALEwEAmpwYAAAAy0lEQVR4nO3UsWnDUBhGUce4fLVcZCpPoNk0gadKEdXqlQkMLmQHfM9pH/x8cOF97ft+4vOd/3sA73F59DBN022McX3myLZtv+u63o+bxdEehh5jXOd5/nnmyLIs38dN4hV83RFCRwgdIXSE0BFCRwgdIXSE0BFCRwgdIXSE0BFCRwgdIXSE0BFCRwgdIXSE0BFCRwgdIXSE0BFCRwgdIXSE0BFCRwgdIXSE0BFCRwgdIXSE0BFCRwgdIXSE0BFCRwgdIXSE0BFCR/wBhBUPoA75qXkAAAAASUVORK5CYII=\"></img></td>\n",
       "      <td id=\"T_aea09_row7_col5\" class=\"data row7 col5\" >137<br>(1.5%)</td>\n",
       "    </tr>\n",
       "    <tr>\n",
       "      <td id=\"T_aea09_row8_col0\" class=\"data row8 col0\" >9</td>\n",
       "      <td id=\"T_aea09_row8_col1\" class=\"data row8 col1\" ><strong>Total Time Spent on Website</strong><br>[int64]</td>\n",
       "      <td id=\"T_aea09_row8_col2\" class=\"data row8 col2\" >Mean (sd) : 487.7 (548.0)<br>min < med < max:<br>0.0 < 248.0 < 2272.0<br>IQR (CV) : 924.0 (0.9)</td>\n",
       "      <td id=\"T_aea09_row8_col3\" class=\"data row8 col3\" >1,731 distinct values</td>\n",
       "      <td id=\"T_aea09_row8_col4\" class=\"data row8 col4\" ><img src = \"data:image/png;base64, iVBORw0KGgoAAAANSUhEUgAAAHoAAAAyCAYAAACTUs/lAAAAOXRFWHRTb2Z0d2FyZQBNYXRwbG90bGliIHZlcnNpb24zLjUuMywgaHR0cHM6Ly9tYXRwbG90bGliLm9yZy/NK7nSAAAACXBIWXMAAAsTAAALEwEAmpwYAAABTElEQVR4nO3csWnDQBSH8UsISMVzKxdpghZwFvAQnuC1WUsTpMsG2cONi6hWIxDIEwjuyOXk3P/7tT6OQx88ZIH0tK5rQP2e9z4AynjZ+qHruouZHWM2mabpZxzHz3zHQm6boc3s6O63mE2GYXjNdyT8BUa3CEKLILQIQosgtAhCiyC0CEKLILQIQosgtAhCiyC0CEKLILQIQosgtAhCiyC0CEKLILQIQosgtAhCiyC0CEKLILQIQosgtIjNtylTzPP83vf9R8xaXrHdR5bQTdMceMX2sTG6RRBaBKFFEFoEoUUQWgShRWT5H/3fKH5DrZrQKfHatj25+1fM2loe8FQTOvEDeOfYfWt5vFs8dOKFezOza8zaZVlOIYSo0ClqebxbPHTihTu7+3fs2t+drG7VjO5HkDKtQig76gmdUcq0CqHsqCf0jkre6N0BP9VuAPZ04D8AAAAASUVORK5CYII=\"></img></td>\n",
       "      <td id=\"T_aea09_row8_col5\" class=\"data row8 col5\" >0<br>(0.0%)</td>\n",
       "    </tr>\n",
       "    <tr>\n",
       "      <td id=\"T_aea09_row9_col0\" class=\"data row9 col0\" >10</td>\n",
       "      <td id=\"T_aea09_row9_col1\" class=\"data row9 col1\" ><strong>Page Views Per Visit</strong><br>[float64]</td>\n",
       "      <td id=\"T_aea09_row9_col2\" class=\"data row9 col2\" >Mean (sd) : 2.4 (2.2)<br>min < med < max:<br>0.0 < 2.0 < 55.0<br>IQR (CV) : 2.0 (1.1)</td>\n",
       "      <td id=\"T_aea09_row9_col3\" class=\"data row9 col3\" >114 distinct values</td>\n",
       "      <td id=\"T_aea09_row9_col4\" class=\"data row9 col4\" ><img src = \"data:image/png;base64, iVBORw0KGgoAAAANSUhEUgAAAHoAAAAyCAYAAACTUs/lAAAAOXRFWHRTb2Z0d2FyZQBNYXRwbG90bGliIHZlcnNpb24zLjUuMywgaHR0cHM6Ly9tYXRwbG90bGliLm9yZy/NK7nSAAAACXBIWXMAAAsTAAALEwEAmpwYAAAA6UlEQVR4nO3csQkCMRhAYRUhTWxzhd1N4CpOcK1r3QROZWHqa1KdEwQiRE9872sTwg8PUv77dV13+n+HrQfQdxxrBymla4xxaHlkWZZnzvnebyz1Vg0dYxymaXq0PDLP87nfSPoEv24IQ0MYGsLQEIaGMDSEoSEMDWFoCENDGBrC0BCGhjA0hKEhDA1haAhDQxgawtAQhoYwNIShIQwNYWgIQ0MYGsLQEIaGMDSEoSEMDWFoCENDGBrC0BCGhjA0hKEhDA1haAhDQxgaoroL9B2llMs4jreWuy6I3UaX0CGEkwtif5tfN8QLKsYe4U9Cr5IAAAAASUVORK5CYII=\"></img></td>\n",
       "      <td id=\"T_aea09_row9_col5\" class=\"data row9 col5\" >137<br>(1.5%)</td>\n",
       "    </tr>\n",
       "    <tr>\n",
       "      <td id=\"T_aea09_row10_col0\" class=\"data row10 col0\" >11</td>\n",
       "      <td id=\"T_aea09_row10_col1\" class=\"data row10 col1\" ><strong>Last Activity</strong><br>[object]</td>\n",
       "      <td id=\"T_aea09_row10_col2\" class=\"data row10 col2\" >1. Email Opened<br>2. SMS Sent<br>3. Olark Chat Conversation<br>4. Page Visited on Website<br>5. Converted to Lead<br>6. Email Bounced<br>7. Email Link Clicked<br>8. Form Submitted on Website<br>9. nan<br>10. Unreachable<br>11. other</td>\n",
       "      <td id=\"T_aea09_row10_col3\" class=\"data row10 col3\" >3,437 (37.2%)<br>2,745 (29.7%)<br>973 (10.5%)<br>640 (6.9%)<br>428 (4.6%)<br>326 (3.5%)<br>267 (2.9%)<br>116 (1.3%)<br>103 (1.1%)<br>93 (1.0%)<br>112 (1.2%)</td>\n",
       "      <td id=\"T_aea09_row10_col4\" class=\"data row10 col4\" ><img src = \"data:image/png;base64, iVBORw0KGgoAAAANSUhEUgAAAG8AAACzCAYAAACHOUI0AAAAOXRFWHRTb2Z0d2FyZQBNYXRwbG90bGliIHZlcnNpb24zLjUuMywgaHR0cHM6Ly9tYXRwbG90bGliLm9yZy/NK7nSAAAACXBIWXMAAAsTAAALEwEAmpwYAAACSklEQVR4nO3dMYrCUBhG0WSwTBummFW5AtfmCmZVU2id3qlFQbTJu3DOCgIXvuL9gvPtdpto+tr7A/iceGHihYkXJl6YeGHihc3ruh6XZfne+0Ne2bbtcr1ef/f+jpEclmX5Pp1Of3t/yCvn8/ln728YjdkMEy9MvDDxwsQLEy9MvDDxwsQLEy/M22bY7AdIXWYzbIjZNImfGeIk5NzzGbMZJl6YeGHihYkXJl6YeGHihYkXJl6Yt80wJ6Ewsxn29myauHG8fRJyvhmH2QwTL0y8MPHCxAsTL0y8MPHCxAsTL8zbZpiTUJjZDHs5m2ZyXC9PQk5A4zKbYeKFiRcmXph4YeKFiRcmXph4YeKFedsMcxIKM5thT2fTVDY8PQk5AzWYzTDxwsQLEy9MvDDxwsQLEy9MvDDxwrxthjkJhZnNsIfZNJkdDych56AOsxkmXph4YeKFiRcmXph4YeKFiRcmXpi3zTAnoTCzGXY3myaz5e4k5BzUYjbDxAsTL0y8MPHCxAsTL0y8MPHCxAvzthnmJBRmNsPmdV2P0zRN5rLn8M5/5zEWsxkmXph4YeKFiRcmXph4YeKFiRcmXph4YYdt2y57fwSfcc8LM5th7nlh7nlhZjNMvDDxwsQLEy9MvDDxwsQLEy9MvDAnoTAnoTCzGeYkFOYkFGY2w8QLEy9MvDDxwsQLEy9MvDDxwsQLcxIKcxIKM5thTkJhTkJhZjNMvDDxwsQLEy9MvDDxwsQLEy9MvDAnoTAnoTCzGSZemHhh4oWJFyZe2D/aVNKqqCy46AAAAABJRU5ErkJggg==\"></img></td>\n",
       "      <td id=\"T_aea09_row10_col5\" class=\"data row10 col5\" >103<br>(1.1%)</td>\n",
       "    </tr>\n",
       "    <tr>\n",
       "      <td id=\"T_aea09_row11_col0\" class=\"data row11 col0\" >12</td>\n",
       "      <td id=\"T_aea09_row11_col1\" class=\"data row11 col1\" ><strong>Country</strong><br>[object]</td>\n",
       "      <td id=\"T_aea09_row11_col2\" class=\"data row11 col2\" >1. India<br>2. nan<br>3. United States<br>4. United Arab Emirates<br>5. Singapore<br>6. Saudi Arabia<br>7. United Kingdom<br>8. Australia<br>9. Qatar<br>10. Bahrain<br>11. other</td>\n",
       "      <td id=\"T_aea09_row11_col3\" class=\"data row11 col3\" >6,492 (70.3%)<br>2,461 (26.6%)<br>69 (0.7%)<br>53 (0.6%)<br>24 (0.3%)<br>21 (0.2%)<br>15 (0.2%)<br>13 (0.1%)<br>10 (0.1%)<br>7 (0.1%)<br>75 (0.8%)</td>\n",
       "      <td id=\"T_aea09_row11_col4\" class=\"data row11 col4\" ><img src = \"data:image/png;base64, iVBORw0KGgoAAAANSUhEUgAAAG8AAACzCAYAAACHOUI0AAAAOXRFWHRTb2Z0d2FyZQBNYXRwbG90bGliIHZlcnNpb24zLjUuMywgaHR0cHM6Ly9tYXRwbG90bGliLm9yZy/NK7nSAAAACXBIWXMAAAsTAAALEwEAmpwYAAACUElEQVR4nO3aoY3jUBhG0eco0NQKWL5TTypIbalg+lk+IMbmmRrW5OVK51TwpCv9wJ+X9/s9aLrMfgDniRcmXph4YeKFiRcmXtiybdt9Xdfb7IfUHMfx2vf9e+Ybruu63h6Px8/MRxQ9n88/s9/gbIaJFyZemHhh4oWJFyZemHhh4oWJF+bb5kmf8G1z8QNSl7MZNu1sfsLZqZs2CX3CpFLnbIaJFyZemHhh4oWJFyZemHhh4oWJF+bbZphJKMzZDFu2bbuPMYYT1nP1C0SXsxkmXph4YeKFiRcmXph4YeKFiRcmXtj1OI7X7EdwjkkozNkMMwmFmYTCnM0w8cLECxMvTLww8cLECxMvTLww8cJMQmEmoTBnM+yyLMvX7EdwzmWM8Xf2IzjH2QwTL0y8MPHCxAsTL0y8MPHCxAsTL+wyxvg3+xGcYxIKczbDTEJhJqEwZzNMvDDxwsQLEy9MvDDxwsQLEy9MvDCTUJhJKMzZDDMJhZmEwpzNMPHCxAsTL0y8MPHCxAsTL0y8MPHCTEJhJqEwZzPMJBRmEgpzNsPECxMvTLww8cLECxMvTLww8cLECxMvzJ4XZs8LczbD7Hlh9rwwZzNMvDDxwsQLEy9MvDDxwsQLEy9MvDCTUJhJKMzZDDMJhZmEwpzNMPHCxAsTL0y8MPHCxAsTL0y8MPHCTEJhJqEwZzNs2bbtPsYY+75/z34M/+e6rutt9iM4x9kMEy9MvDDxwsQLEy9MvDDxwsQLEy/sehzHa/YjOMckFOZshokXJl6YeGHihYkX9gs3CWydPTACSQAAAABJRU5ErkJggg==\"></img></td>\n",
       "      <td id=\"T_aea09_row11_col5\" class=\"data row11 col5\" >2,461<br>(26.6%)</td>\n",
       "    </tr>\n",
       "    <tr>\n",
       "      <td id=\"T_aea09_row12_col0\" class=\"data row12 col0\" >13</td>\n",
       "      <td id=\"T_aea09_row12_col1\" class=\"data row12 col1\" ><strong>Specialization</strong><br>[object]</td>\n",
       "      <td id=\"T_aea09_row12_col2\" class=\"data row12 col2\" >1. Select<br>2. nan<br>3. Finance Management<br>4. Human Resource Management<br>5. Marketing Management<br>6. Operations Management<br>7. Business Administration<br>8. IT Projects Management<br>9. Supply Chain Management<br>10. Banking, Investment And Insura<br>11. other</td>\n",
       "      <td id=\"T_aea09_row12_col3\" class=\"data row12 col3\" >1,942 (21.0%)<br>1,438 (15.6%)<br>976 (10.6%)<br>848 (9.2%)<br>838 (9.1%)<br>503 (5.4%)<br>403 (4.4%)<br>366 (4.0%)<br>349 (3.8%)<br>338 (3.7%)<br>1,239 (13.4%)</td>\n",
       "      <td id=\"T_aea09_row12_col4\" class=\"data row12 col4\" ><img src = \"data:image/png;base64, iVBORw0KGgoAAAANSUhEUgAAAG8AAACzCAYAAACHOUI0AAAAOXRFWHRTb2Z0d2FyZQBNYXRwbG90bGliIHZlcnNpb24zLjUuMywgaHR0cHM6Ly9tYXRwbG90bGliLm9yZy/NK7nSAAAACXBIWXMAAAsTAAALEwEAmpwYAAACR0lEQVR4nO3dsWnDYBhFUTukVGtcZKpMoNk8QaZKEdfqnSKlZZCDhXThnAFE4MIr/i/g4+12O9D0tvUfwP+JFyZemHhh4oWJFyZe2PF0On0Ow3Be4+PTNP1cr9evNb7N4fA+DMN5HMfvNT5+uVw+1vguf8xmmHhh4oWJFyZemHhh4oWJFyZemHhh3jbDjv4Bqctshr1kNs3jNl5yEnL62YbZDBMvTLww8cLECxMvTLww8cLECxMvzNtmmJNQmNkMe3o2TeR+PH0Scv7ZD7MZJl6YeGHihYkXJl6YeGHihYkXJl6Yt80wJ6Ewsxm2eDbN5f4sPgk5Be2P2QwTL0y8MPHCxAsTL0y8MPHCxAsTL8zbZpiTUJjZDDObYU5CYWYzTLww8cLECxMvTLww8cLECxMvTLwwb5thTkJhZjPs4Wyayf17eBJyAto/sxkmXph4YeKFiRcmXph4YeKFiRcmXpi3zTAnoTCzGTY7myazYfYk5BzUYDbDxAsTL0y8MPHCxAsTL0y8MPHCxAvzthnmJBRmNsPuZtNkdtydhJyDOsxmmHhh4oWJFyZemHhh4oWJFyZemHhh4oV5mA5zzwszm2FmM8w9L8xshokXJl6YeGHihYkXJl6YeGHihYkX5m0zzEkozGyGmc0wJ6EwsxkmXph4YeKFiRcmXph4YeKFiRcmXpi3zTAnoTCzGfbw9/OWMLHbmv0hqKWcj7ZlNsPECxMvTLww8cLECxMvTLww8cLEC/O2GeYkFGY2w8QLEy9MvDDxwsQL+wWJdAON5LcFdgAAAABJRU5ErkJggg==\"></img></td>\n",
       "      <td id=\"T_aea09_row12_col5\" class=\"data row12 col5\" >1,438<br>(15.6%)</td>\n",
       "    </tr>\n",
       "    <tr>\n",
       "      <td id=\"T_aea09_row13_col0\" class=\"data row13 col0\" >14</td>\n",
       "      <td id=\"T_aea09_row13_col1\" class=\"data row13 col1\" ><strong>How did you hear about X Education</strong><br>[object]</td>\n",
       "      <td id=\"T_aea09_row13_col2\" class=\"data row13 col2\" >1. Select<br>2. nan<br>3. Online Search<br>4. Word Of Mouth<br>5. Student of SomeSchool<br>6. Other<br>7. Multiple Sources<br>8. Advertisements<br>9. Social Media<br>10. Email<br>11. other</td>\n",
       "      <td id=\"T_aea09_row13_col3\" class=\"data row13 col3\" >5,043 (54.6%)<br>2,207 (23.9%)<br>808 (8.7%)<br>348 (3.8%)<br>310 (3.4%)<br>186 (2.0%)<br>152 (1.6%)<br>70 (0.8%)<br>67 (0.7%)<br>26 (0.3%)<br>23 (0.2%)</td>\n",
       "      <td id=\"T_aea09_row13_col4\" class=\"data row13 col4\" ><img src = \"data:image/png;base64, iVBORw0KGgoAAAANSUhEUgAAAG8AAACzCAYAAACHOUI0AAAAOXRFWHRTb2Z0d2FyZQBNYXRwbG90bGliIHZlcnNpb24zLjUuMywgaHR0cHM6Ly9tYXRwbG90bGliLm9yZy/NK7nSAAAACXBIWXMAAAsTAAALEwEAmpwYAAACWklEQVR4nO3dsW3bUBhG0UdCJVvCRfp4Hk+g2TRB9kmfwqrZy1XSuDGYQNRVzpngARf4Cv4CNN1ut0HTfPQD2E+8MPHCxAsTL0y8MPHCpnVd35ZleTn6Ife0bdv79Xr9cfQ7/tZpWZaX8/n86+iH3NPlcvl29Bv+BbMZJl6YeGHihYkXJl6YeGHihYkXJl6Yb5thkx8gdZnNsLvO5rPM1aO460noWU4xj8JshokXJl6YeGHihYkXJl6YeGHihYkX5ttmmJNQmNkM+/JsmrzH8+WTkHPO4zGbYeKFiRcmXph4YeKFiRcmXph4YeKF+bYZ5iQUZjbDPs2meez4dBJy+ukwm2HihYkXJl6YeGHihYkXJl6YeGHihfm2GeYkFGY2w8xmmJNQmNkMEy9MvDDxwsQLEy9MvDDxwsQLEy/Mt80wJ6Ewsxn2ZzbNZc/8+yT0v/2H3jMwm2HihYkXJl6YeGHihYkXJl6YeGHihfm2GeYkFGY2w8xmmJNQmNkMEy9MvDDxwsQLEy9MvDDxwsQLEy/Mt80wJ6Ewsxk2rev6NsYYJrPn5BTUZTbDxAsTL0y8MPHCxAsTL0y8MPHCxAsTL+y0bdv70Y9gH/e8MLMZ5p4X5p4XZjbDxAsTL0y8MPHCxAsTL0y8MPHCxAtzEgpzEgozm2HzNE2vRz+CfeYxxvejH8E+ZjNMvDDxwsQLEy9MvDDxwsQLEy9MvLB5jPHz6Eewj5NQmNkMcxIKcxIKM5th4oWJFyZemHhh4oWJFyZemHhh4oU5CYU5CYWZzTDxwsQLEy9MvDDxwj4A11PBdMHY/18AAAAASUVORK5CYII=\"></img></td>\n",
       "      <td id=\"T_aea09_row13_col5\" class=\"data row13 col5\" >2,207<br>(23.9%)</td>\n",
       "    </tr>\n",
       "    <tr>\n",
       "      <td id=\"T_aea09_row14_col0\" class=\"data row14 col0\" >15</td>\n",
       "      <td id=\"T_aea09_row14_col1\" class=\"data row14 col1\" ><strong>What is your current occupation</strong><br>[object]</td>\n",
       "      <td id=\"T_aea09_row14_col2\" class=\"data row14 col2\" >1. Unemployed<br>2. nan<br>3. Working Professional<br>4. Student<br>5. Other<br>6. Housewife<br>7. Businessman</td>\n",
       "      <td id=\"T_aea09_row14_col3\" class=\"data row14 col3\" >5,600 (60.6%)<br>2,690 (29.1%)<br>706 (7.6%)<br>210 (2.3%)<br>16 (0.2%)<br>10 (0.1%)<br>8 (0.1%)</td>\n",
       "      <td id=\"T_aea09_row14_col4\" class=\"data row14 col4\" ><img src = \"data:image/png;base64, iVBORw0KGgoAAAANSUhEUgAAAG8AAAByCAYAAABdjY8lAAAAOXRFWHRTb2Z0d2FyZQBNYXRwbG90bGliIHZlcnNpb24zLjUuMywgaHR0cHM6Ly9tYXRwbG90bGliLm9yZy/NK7nSAAAACXBIWXMAAAsTAAALEwEAmpwYAAABnUlEQVR4nO3ZoW3DUBhGUdsqNI0Cytt5OkFmywTdpzygweEpTpFl8nylcyZ40pU+8P75+XxONC2jH8B+4oWJFyZe2Hw6nb7WdT2PfshRPB6P3/v9/j36HVu8ret6vlwut9EPOYrr9fo++g1bmc0w8cLECxMvTLww8cLECxMvTLww8cL8bf5T+tucXdK7zGbY8NkszdTRDD8JlU4wR2M2w8QLEy9MvDDxwsQLEy9MvDDxwsQLEy/Mx3SYe16Y2QzbNJum7Zg23fPc3I7JbIaJFyZemHhh4oWJFyZemHhh4oWJF+ZvM8xJKMxshr3MpnlseTkJOf20mM0w8cLECxMvTLww8cLECxMvTLww8cL8bYY5CYWZzbBlnufP0Y9gn2Wapo/Rj2AfsxkmXph4YeKFiRcmXph4YeKFiRcmXtgyTdPP6Eewj5NQmNkMcxIKcxIKM5th4oWJFyZemHhh4oWJFyZemHhh4oWJF+aeF+aeF2Y2w9zzwtzzwsxmmHhh4oWJFyZemHhh4oWJFyZemHhhTkJhTkJhZjNMvDDxwv4A/bJtFxrxYHsAAAAASUVORK5CYII=\"></img></td>\n",
       "      <td id=\"T_aea09_row14_col5\" class=\"data row14 col5\" >2,690<br>(29.1%)</td>\n",
       "    </tr>\n",
       "    <tr>\n",
       "      <td id=\"T_aea09_row15_col0\" class=\"data row15 col0\" >16</td>\n",
       "      <td id=\"T_aea09_row15_col1\" class=\"data row15 col1\" ><strong>What matters most to you in choosing a course</strong><br>[object]</td>\n",
       "      <td id=\"T_aea09_row15_col2\" class=\"data row15 col2\" >1. Better Career Prospects<br>2. nan<br>3. Flexibility & Convenience<br>4. Other</td>\n",
       "      <td id=\"T_aea09_row15_col3\" class=\"data row15 col3\" >6,528 (70.6%)<br>2,709 (29.3%)<br>2 (0.0%)<br>1 (0.0%)</td>\n",
       "      <td id=\"T_aea09_row15_col4\" class=\"data row15 col4\" ><img src = \"data:image/png;base64, iVBORw0KGgoAAAANSUhEUgAAAG8AAABBCAYAAADfY/omAAAAOXRFWHRTb2Z0d2FyZQBNYXRwbG90bGliIHZlcnNpb24zLjUuMywgaHR0cHM6Ly9tYXRwbG90bGliLm9yZy/NK7nSAAAACXBIWXMAAAsTAAALEwEAmpwYAAABEUlEQVR4nO3ZoQ3DMBBA0bNVaGoFlLfzdILMlgm6T3lAg8PdHVxw+dJ/C/ikLx3wlTFGiKlmD6B5xgMrvfdXa23JHoToPM/vcRzvrPdvrbVlXdc9awCybdvume+7NsGMB2Y8MOOBGQ/MeGDGAzMemPHAjAfm3+Yfsv82i/c8Ltcm2CXWZvb6obrESSj7tELl2gQzHpjxwIwHZjww44EZD8x4YMYDMx6Y8cD8mAbzngfm2gSrpZRn9hCaUyPikT2E5rg2wYwHZjww44EZD8x4YMYDMx6Y8cCMB1Yj4pM9hOZ4EgJzbYIZD8x7Hpj3PDDXJpjxwIwHZjww44EZD8x4YMYDMx6Y8cC854F5zwNzbYL9AGpNOi2zOt0zAAAAAElFTkSuQmCC\"></img></td>\n",
       "      <td id=\"T_aea09_row15_col5\" class=\"data row15 col5\" >2,709<br>(29.3%)</td>\n",
       "    </tr>\n",
       "    <tr>\n",
       "      <td id=\"T_aea09_row16_col0\" class=\"data row16 col0\" >17</td>\n",
       "      <td id=\"T_aea09_row16_col1\" class=\"data row16 col1\" ><strong>Search</strong><br>[object]</td>\n",
       "      <td id=\"T_aea09_row16_col2\" class=\"data row16 col2\" >1. No<br>2. Yes</td>\n",
       "      <td id=\"T_aea09_row16_col3\" class=\"data row16 col3\" >9,226 (99.8%)<br>14 (0.2%)</td>\n",
       "      <td id=\"T_aea09_row16_col4\" class=\"data row16 col4\" ><img src = \"data:image/png;base64, iVBORw0KGgoAAAANSUhEUgAAAG8AAAAgCAYAAAAcyybZAAAAOXRFWHRTb2Z0d2FyZQBNYXRwbG90bGliIHZlcnNpb24zLjUuMywgaHR0cHM6Ly9tYXRwbG90bGliLm9yZy/NK7nSAAAACXBIWXMAAAsTAAALEwEAmpwYAAAAmElEQVR4nO3ZsQkDMRAF0V3hcFNxHZzrcQXq27nrkGs4JcvAvAo+DGwg5d47xJRzzk9VXd1D9Nyrqq611q97iJ4b3QN0znhgxgMzHpjxwIwHZjww44EZD8x4YMYD82EaLP0S4vJsgo3MfHeP0JkREXf3CJ3xbIIZD8x4YMYDMx6Y8cCMB2Y8MOOBGQ/MeGDGAxsR8e0eoTN/QDELNpHAS3UAAAAASUVORK5CYII=\"></img></td>\n",
       "      <td id=\"T_aea09_row16_col5\" class=\"data row16 col5\" >0<br>(0.0%)</td>\n",
       "    </tr>\n",
       "    <tr>\n",
       "      <td id=\"T_aea09_row17_col0\" class=\"data row17 col0\" >18</td>\n",
       "      <td id=\"T_aea09_row17_col1\" class=\"data row17 col1\" ><strong>Magazine</strong><br>[object]</td>\n",
       "      <td id=\"T_aea09_row17_col2\" class=\"data row17 col2\" >1. No</td>\n",
       "      <td id=\"T_aea09_row17_col3\" class=\"data row17 col3\" >9,240 (100.0%)</td>\n",
       "      <td id=\"T_aea09_row17_col4\" class=\"data row17 col4\" ><img src = \"data:image/png;base64, iVBORw0KGgoAAAANSUhEUgAAAG8AAAAQCAYAAAAYsSF0AAAAOXRFWHRTb2Z0d2FyZQBNYXRwbG90bGliIHZlcnNpb24zLjUuMywgaHR0cHM6Ly9tYXRwbG90bGliLm9yZy/NK7nSAAAACXBIWXMAAAsTAAALEwEAmpwYAAAAWUlEQVR4nO3ZsQnAMBAEQcs4vPRRXa7gq1cfqsFOxMJOBQcb3qiqN8m8hPMkmd29Tg/Rd/fpAfrPeGDGAzMemPHAjAdmPDDjgRkPzHhgxgMzHpjxwIaXENcGxk4D9F+Am7wAAAAASUVORK5CYII=\"></img></td>\n",
       "      <td id=\"T_aea09_row17_col5\" class=\"data row17 col5\" >0<br>(0.0%)</td>\n",
       "    </tr>\n",
       "    <tr>\n",
       "      <td id=\"T_aea09_row18_col0\" class=\"data row18 col0\" >19</td>\n",
       "      <td id=\"T_aea09_row18_col1\" class=\"data row18 col1\" ><strong>Newspaper Article</strong><br>[object]</td>\n",
       "      <td id=\"T_aea09_row18_col2\" class=\"data row18 col2\" >1. No<br>2. Yes</td>\n",
       "      <td id=\"T_aea09_row18_col3\" class=\"data row18 col3\" >9,238 (100.0%)<br>2 (0.0%)</td>\n",
       "      <td id=\"T_aea09_row18_col4\" class=\"data row18 col4\" ><img src = \"data:image/png;base64, iVBORw0KGgoAAAANSUhEUgAAAG8AAAAgCAYAAAAcyybZAAAAOXRFWHRTb2Z0d2FyZQBNYXRwbG90bGliIHZlcnNpb24zLjUuMywgaHR0cHM6Ly9tYXRwbG90bGliLm9yZy/NK7nSAAAACXBIWXMAAAsTAAALEwEAmpwYAAAAmElEQVR4nO3ZsQkDMRAF0V3hcFNxHZzrcQXq27nrkGs4JcvAvAo+DGwg5d47xJRzzk9VXd1D9Nyrqq611q97iJ4b3QN0znhgxgMzHpjxwIwHZjww44EZD8x4YMYD82EaLP0S4vJsgo3MfHeP0JkREXf3CJ3xbIIZD8x4YMYDMx6Y8cCMB2Y8MOOBGQ/MeGDGAxsR8e0eoTN/QDELNpHAS3UAAAAASUVORK5CYII=\"></img></td>\n",
       "      <td id=\"T_aea09_row18_col5\" class=\"data row18 col5\" >0<br>(0.0%)</td>\n",
       "    </tr>\n",
       "    <tr>\n",
       "      <td id=\"T_aea09_row19_col0\" class=\"data row19 col0\" >20</td>\n",
       "      <td id=\"T_aea09_row19_col1\" class=\"data row19 col1\" ><strong>X Education Forums</strong><br>[object]</td>\n",
       "      <td id=\"T_aea09_row19_col2\" class=\"data row19 col2\" >1. No<br>2. Yes</td>\n",
       "      <td id=\"T_aea09_row19_col3\" class=\"data row19 col3\" >9,239 (100.0%)<br>1 (0.0%)</td>\n",
       "      <td id=\"T_aea09_row19_col4\" class=\"data row19 col4\" ><img src = \"data:image/png;base64, iVBORw0KGgoAAAANSUhEUgAAAG8AAAAgCAYAAAAcyybZAAAAOXRFWHRTb2Z0d2FyZQBNYXRwbG90bGliIHZlcnNpb24zLjUuMywgaHR0cHM6Ly9tYXRwbG90bGliLm9yZy/NK7nSAAAACXBIWXMAAAsTAAALEwEAmpwYAAAAmElEQVR4nO3ZsQkDMRAF0V3hcFNxHZzrcQXq27nrkGs4JcvAvAo+DGwg5d47xJRzzk9VXd1D9Nyrqq611q97iJ4b3QN0znhgxgMzHpjxwIwHZjww44EZD8x4YMYD82EaLP0S4vJsgo3MfHeP0JkREXf3CJ3xbIIZD8x4YMYDMx6Y8cCMB2Y8MOOBGQ/MeGDGAxsR8e0eoTN/QDELNpHAS3UAAAAASUVORK5CYII=\"></img></td>\n",
       "      <td id=\"T_aea09_row19_col5\" class=\"data row19 col5\" >0<br>(0.0%)</td>\n",
       "    </tr>\n",
       "    <tr>\n",
       "      <td id=\"T_aea09_row20_col0\" class=\"data row20 col0\" >21</td>\n",
       "      <td id=\"T_aea09_row20_col1\" class=\"data row20 col1\" ><strong>Newspaper</strong><br>[object]</td>\n",
       "      <td id=\"T_aea09_row20_col2\" class=\"data row20 col2\" >1. No<br>2. Yes</td>\n",
       "      <td id=\"T_aea09_row20_col3\" class=\"data row20 col3\" >9,239 (100.0%)<br>1 (0.0%)</td>\n",
       "      <td id=\"T_aea09_row20_col4\" class=\"data row20 col4\" ><img src = \"data:image/png;base64, iVBORw0KGgoAAAANSUhEUgAAAG8AAAAgCAYAAAAcyybZAAAAOXRFWHRTb2Z0d2FyZQBNYXRwbG90bGliIHZlcnNpb24zLjUuMywgaHR0cHM6Ly9tYXRwbG90bGliLm9yZy/NK7nSAAAACXBIWXMAAAsTAAALEwEAmpwYAAAAmElEQVR4nO3ZsQkDMRAF0V3hcFNxHZzrcQXq27nrkGs4JcvAvAo+DGwg5d47xJRzzk9VXd1D9Nyrqq611q97iJ4b3QN0znhgxgMzHpjxwIwHZjww44EZD8x4YMYD82EaLP0S4vJsgo3MfHeP0JkREXf3CJ3xbIIZD8x4YMYDMx6Y8cCMB2Y8MOOBGQ/MeGDGAxsR8e0eoTN/QDELNpHAS3UAAAAASUVORK5CYII=\"></img></td>\n",
       "      <td id=\"T_aea09_row20_col5\" class=\"data row20 col5\" >0<br>(0.0%)</td>\n",
       "    </tr>\n",
       "    <tr>\n",
       "      <td id=\"T_aea09_row21_col0\" class=\"data row21 col0\" >22</td>\n",
       "      <td id=\"T_aea09_row21_col1\" class=\"data row21 col1\" ><strong>Digital Advertisement</strong><br>[object]</td>\n",
       "      <td id=\"T_aea09_row21_col2\" class=\"data row21 col2\" >1. No<br>2. Yes</td>\n",
       "      <td id=\"T_aea09_row21_col3\" class=\"data row21 col3\" >9,236 (100.0%)<br>4 (0.0%)</td>\n",
       "      <td id=\"T_aea09_row21_col4\" class=\"data row21 col4\" ><img src = \"data:image/png;base64, iVBORw0KGgoAAAANSUhEUgAAAG8AAAAgCAYAAAAcyybZAAAAOXRFWHRTb2Z0d2FyZQBNYXRwbG90bGliIHZlcnNpb24zLjUuMywgaHR0cHM6Ly9tYXRwbG90bGliLm9yZy/NK7nSAAAACXBIWXMAAAsTAAALEwEAmpwYAAAAmElEQVR4nO3ZsQkDMRAF0V3hcFNxHZzrcQXq27nrkGs4JcvAvAo+DGwg5d47xJRzzk9VXd1D9Nyrqq611q97iJ4b3QN0znhgxgMzHpjxwIwHZjww44EZD8x4YMYD82EaLP0S4vJsgo3MfHeP0JkREXf3CJ3xbIIZD8x4YMYDMx6Y8cCMB2Y8MOOBGQ/MeGDGAxsR8e0eoTN/QDELNpHAS3UAAAAASUVORK5CYII=\"></img></td>\n",
       "      <td id=\"T_aea09_row21_col5\" class=\"data row21 col5\" >0<br>(0.0%)</td>\n",
       "    </tr>\n",
       "    <tr>\n",
       "      <td id=\"T_aea09_row22_col0\" class=\"data row22 col0\" >23</td>\n",
       "      <td id=\"T_aea09_row22_col1\" class=\"data row22 col1\" ><strong>Through Recommendations</strong><br>[object]</td>\n",
       "      <td id=\"T_aea09_row22_col2\" class=\"data row22 col2\" >1. No<br>2. Yes</td>\n",
       "      <td id=\"T_aea09_row22_col3\" class=\"data row22 col3\" >9,233 (99.9%)<br>7 (0.1%)</td>\n",
       "      <td id=\"T_aea09_row22_col4\" class=\"data row22 col4\" ><img src = \"data:image/png;base64, iVBORw0KGgoAAAANSUhEUgAAAG8AAAAgCAYAAAAcyybZAAAAOXRFWHRTb2Z0d2FyZQBNYXRwbG90bGliIHZlcnNpb24zLjUuMywgaHR0cHM6Ly9tYXRwbG90bGliLm9yZy/NK7nSAAAACXBIWXMAAAsTAAALEwEAmpwYAAAAmElEQVR4nO3ZsQkDMRAF0V3hcFNxHZzrcQXq27nrkGs4JcvAvAo+DGwg5d47xJRzzk9VXd1D9Nyrqq611q97iJ4b3QN0znhgxgMzHpjxwIwHZjww44EZD8x4YMYD82EaLP0S4vJsgo3MfHeP0JkREXf3CJ3xbIIZD8x4YMYDMx6Y8cCMB2Y8MOOBGQ/MeGDGAxsR8e0eoTN/QDELNpHAS3UAAAAASUVORK5CYII=\"></img></td>\n",
       "      <td id=\"T_aea09_row22_col5\" class=\"data row22 col5\" >0<br>(0.0%)</td>\n",
       "    </tr>\n",
       "    <tr>\n",
       "      <td id=\"T_aea09_row23_col0\" class=\"data row23 col0\" >24</td>\n",
       "      <td id=\"T_aea09_row23_col1\" class=\"data row23 col1\" ><strong>Receive More Updates About Our Courses</strong><br>[object]</td>\n",
       "      <td id=\"T_aea09_row23_col2\" class=\"data row23 col2\" >1. No</td>\n",
       "      <td id=\"T_aea09_row23_col3\" class=\"data row23 col3\" >9,240 (100.0%)</td>\n",
       "      <td id=\"T_aea09_row23_col4\" class=\"data row23 col4\" ><img src = \"data:image/png;base64, iVBORw0KGgoAAAANSUhEUgAAAG8AAAAQCAYAAAAYsSF0AAAAOXRFWHRTb2Z0d2FyZQBNYXRwbG90bGliIHZlcnNpb24zLjUuMywgaHR0cHM6Ly9tYXRwbG90bGliLm9yZy/NK7nSAAAACXBIWXMAAAsTAAALEwEAmpwYAAAAWUlEQVR4nO3ZsQnAMBAEQcs4vPRRXa7gq1cfqsFOxMJOBQcb3qiqN8m8hPMkmd29Tg/Rd/fpAfrPeGDGAzMemPHAjAdmPDDjgRkPzHhgxgMzHpjxwIaXENcGxk4D9F+Am7wAAAAASUVORK5CYII=\"></img></td>\n",
       "      <td id=\"T_aea09_row23_col5\" class=\"data row23 col5\" >0<br>(0.0%)</td>\n",
       "    </tr>\n",
       "    <tr>\n",
       "      <td id=\"T_aea09_row24_col0\" class=\"data row24 col0\" >25</td>\n",
       "      <td id=\"T_aea09_row24_col1\" class=\"data row24 col1\" ><strong>Tags</strong><br>[object]</td>\n",
       "      <td id=\"T_aea09_row24_col2\" class=\"data row24 col2\" >1. nan<br>2. Will revert after reading the <br>3. Ringing<br>4. Interested in other courses<br>5. Already a student<br>6. Closed by Horizzon<br>7. switched off<br>8. Busy<br>9. Lost to EINS<br>10. Not doing further education<br>11. other</td>\n",
       "      <td id=\"T_aea09_row24_col3\" class=\"data row24 col3\" >3,353 (36.3%)<br>2,072 (22.4%)<br>1,203 (13.0%)<br>513 (5.6%)<br>465 (5.0%)<br>358 (3.9%)<br>240 (2.6%)<br>186 (2.0%)<br>175 (1.9%)<br>145 (1.6%)<br>530 (5.7%)</td>\n",
       "      <td id=\"T_aea09_row24_col4\" class=\"data row24 col4\" ><img src = \"data:image/png;base64, iVBORw0KGgoAAAANSUhEUgAAAG8AAACzCAYAAACHOUI0AAAAOXRFWHRTb2Z0d2FyZQBNYXRwbG90bGliIHZlcnNpb24zLjUuMywgaHR0cHM6Ly9tYXRwbG90bGliLm9yZy/NK7nSAAAACXBIWXMAAAsTAAALEwEAmpwYAAACSUlEQVR4nO3dMWoCURhG0SgppxWLrCorcG2uIKtKEevpTWWIyDSKvrlwzgoGLnzF+wU35/P5jabt6A/gfuKFiRcmXph4YeKFiRe22e12n9M07Ud/yJJ5nn9Op9PX6O9Yo/dpmvaHw+F79IcsOR6PH6O/Ya3MZph4YeKFiRcmXph4YeKFiRcmXph4Yd42wzZ+gNRlNsNeMpum7zlechJy1nkOsxkmXph4YeKFiRcmXph4YeKFiRcmXpi3zTAnoTCzGfbQbJrDsR46CTn1jGU2w8QLEy9MvDDxwsQLEy9MvDDxwsQL87YZ5iQUZjbDFmfTJK7f4knIuWf9zGaYeGHihYkXJl6YeGHihYkXJl6YeGHeNsOchMLMZpjZDHMSCjObYeKFiRcmXph4YeKFiRcmXph4YeKFedsMcxIKM5thN7NpLjtuTkJOQR1mM0y8MPHCxAsTL0y8MPHCxAsTL0y8MG+bYU5CYWYz7Go2TWbL1UnIOajFbIaJFyZemHhh4oWJFyZemHhh4oWJF+ZtM8xJKMxshv3Npsns2V5OQvf+hx7jmM0w8cLECxMvTLww8cLECxMvTLww8cLEC/MwHeaeF2Y2w8xmmHtemNkMEy9MvDDxwsQLEy9MvDDxwsQLEy/M22aYk1CY2Qwzm2FOQmFmM0y8MPHCxAsTL0y8MPHCxAsTL0y8MG+bYU5CYWYz7Ob/8y7M6Ppd/RHUf/4Uav3MZph4YeKFiRcmXph4YeKFiRcmXph4Yd42w5yEwsxmmHhh4oWJFyZemHhhvyTh/i/XnFbAAAAAAElFTkSuQmCC\"></img></td>\n",
       "      <td id=\"T_aea09_row24_col5\" class=\"data row24 col5\" >3,353<br>(36.3%)</td>\n",
       "    </tr>\n",
       "    <tr>\n",
       "      <td id=\"T_aea09_row25_col0\" class=\"data row25 col0\" >26</td>\n",
       "      <td id=\"T_aea09_row25_col1\" class=\"data row25 col1\" ><strong>Lead Quality</strong><br>[object]</td>\n",
       "      <td id=\"T_aea09_row25_col2\" class=\"data row25 col2\" >1. nan<br>2. Might be<br>3. Not Sure<br>4. High in Relevance<br>5. Worst<br>6. Low in Relevance</td>\n",
       "      <td id=\"T_aea09_row25_col3\" class=\"data row25 col3\" >4,767 (51.6%)<br>1,560 (16.9%)<br>1,092 (11.8%)<br>637 (6.9%)<br>601 (6.5%)<br>583 (6.3%)</td>\n",
       "      <td id=\"T_aea09_row25_col4\" class=\"data row25 col4\" ><img src = \"data:image/png;base64, iVBORw0KGgoAAAANSUhEUgAAAG8AAABhCAYAAADYz/8QAAAAOXRFWHRTb2Z0d2FyZQBNYXRwbG90bGliIHZlcnNpb24zLjUuMywgaHR0cHM6Ly9tYXRwbG90bGliLm9yZy/NK7nSAAAACXBIWXMAAAsTAAALEwEAmpwYAAABZ0lEQVR4nO3ZsWnDUBhG0TikVGtceKpMoNk0QaZKEdfqlQ1sMDJ615wzwYMLX/H+07ZtHzR9Hv0AnidemHhhp/P5/D1N0+Xoh7zauq5/t9vt5+h37OlrmqbLPM+/Rz/k1ZZluR79hr2ZzTDxwsQLEy9MvDDxwsQLEy9MvDDxwvxthp0cY7vMZtius/mO0zSyXU9C73h2GZnZDBMvTLww8cLECxMvTLww8cLECxMvzN9mmJNQmNkMe2o2zeMYnjoJOf2MwWyGiRcmXph4YeKFiRcmXph4YeKFiRcmXpiP6TD3vDCzGfZwNk3kuB7e89zuxmU2w8QLEy9MvDDxwsQLEy9MvDDxwsQL87cZ5iQUZjbD7s6myRzb3ZOQc9DYzGaYeGHihYkXJl6YeGHihYkXJl6YeGH+NsOchMLMZpjZDHMSCjObYeKFiRcmXph4YeKFiRcmXph4YeKFiRfmYzrMPS/MbIaJF/YPbUyO5a53TpcAAAAASUVORK5CYII=\"></img></td>\n",
       "      <td id=\"T_aea09_row25_col5\" class=\"data row25 col5\" >4,767<br>(51.6%)</td>\n",
       "    </tr>\n",
       "    <tr>\n",
       "      <td id=\"T_aea09_row26_col0\" class=\"data row26 col0\" >27</td>\n",
       "      <td id=\"T_aea09_row26_col1\" class=\"data row26 col1\" ><strong>Update me on Supply Chain Content</strong><br>[object]</td>\n",
       "      <td id=\"T_aea09_row26_col2\" class=\"data row26 col2\" >1. No</td>\n",
       "      <td id=\"T_aea09_row26_col3\" class=\"data row26 col3\" >9,240 (100.0%)</td>\n",
       "      <td id=\"T_aea09_row26_col4\" class=\"data row26 col4\" ><img src = \"data:image/png;base64, iVBORw0KGgoAAAANSUhEUgAAAG8AAAAQCAYAAAAYsSF0AAAAOXRFWHRTb2Z0d2FyZQBNYXRwbG90bGliIHZlcnNpb24zLjUuMywgaHR0cHM6Ly9tYXRwbG90bGliLm9yZy/NK7nSAAAACXBIWXMAAAsTAAALEwEAmpwYAAAAWUlEQVR4nO3ZsQnAMBAEQcs4vPRRXa7gq1cfqsFOxMJOBQcb3qiqN8m8hPMkmd29Tg/Rd/fpAfrPeGDGAzMemPHAjAdmPDDjgRkPzHhgxgMzHpjxwIaXENcGxk4D9F+Am7wAAAAASUVORK5CYII=\"></img></td>\n",
       "      <td id=\"T_aea09_row26_col5\" class=\"data row26 col5\" >0<br>(0.0%)</td>\n",
       "    </tr>\n",
       "    <tr>\n",
       "      <td id=\"T_aea09_row27_col0\" class=\"data row27 col0\" >28</td>\n",
       "      <td id=\"T_aea09_row27_col1\" class=\"data row27 col1\" ><strong>Get updates on DM Content</strong><br>[object]</td>\n",
       "      <td id=\"T_aea09_row27_col2\" class=\"data row27 col2\" >1. No</td>\n",
       "      <td id=\"T_aea09_row27_col3\" class=\"data row27 col3\" >9,240 (100.0%)</td>\n",
       "      <td id=\"T_aea09_row27_col4\" class=\"data row27 col4\" ><img src = \"data:image/png;base64, iVBORw0KGgoAAAANSUhEUgAAAG8AAAAQCAYAAAAYsSF0AAAAOXRFWHRTb2Z0d2FyZQBNYXRwbG90bGliIHZlcnNpb24zLjUuMywgaHR0cHM6Ly9tYXRwbG90bGliLm9yZy/NK7nSAAAACXBIWXMAAAsTAAALEwEAmpwYAAAAWUlEQVR4nO3ZsQnAMBAEQcs4vPRRXa7gq1cfqsFOxMJOBQcb3qiqN8m8hPMkmd29Tg/Rd/fpAfrPeGDGAzMemPHAjAdmPDDjgRkPzHhgxgMzHpjxwIaXENcGxk4D9F+Am7wAAAAASUVORK5CYII=\"></img></td>\n",
       "      <td id=\"T_aea09_row27_col5\" class=\"data row27 col5\" >0<br>(0.0%)</td>\n",
       "    </tr>\n",
       "    <tr>\n",
       "      <td id=\"T_aea09_row28_col0\" class=\"data row28 col0\" >29</td>\n",
       "      <td id=\"T_aea09_row28_col1\" class=\"data row28 col1\" ><strong>Lead Profile</strong><br>[object]</td>\n",
       "      <td id=\"T_aea09_row28_col2\" class=\"data row28 col2\" >1. Select<br>2. nan<br>3. Potential Lead<br>4. Other Leads<br>5. Student of SomeSchool<br>6. Lateral Student<br>7. Dual Specialization Student</td>\n",
       "      <td id=\"T_aea09_row28_col3\" class=\"data row28 col3\" >4,146 (44.9%)<br>2,709 (29.3%)<br>1,613 (17.5%)<br>487 (5.3%)<br>241 (2.6%)<br>24 (0.3%)<br>20 (0.2%)</td>\n",
       "      <td id=\"T_aea09_row28_col4\" class=\"data row28 col4\" ><img src = \"data:image/png;base64, iVBORw0KGgoAAAANSUhEUgAAAG8AAAByCAYAAABdjY8lAAAAOXRFWHRTb2Z0d2FyZQBNYXRwbG90bGliIHZlcnNpb24zLjUuMywgaHR0cHM6Ly9tYXRwbG90bGliLm9yZy/NK7nSAAAACXBIWXMAAAsTAAALEwEAmpwYAAABpElEQVR4nO3ZsW3CUBhGURuldIso0ifzZAJmY4Lskz5FqOlJTUFjLOwrzpngSVf6iveP1+t1oGm39gOYT7ww8cLECxv3+/3XNE2HtR/yqMvl8nc+n7/XfsczvU3TdDgej79rP+RRp9Ppfe03PJvZDBMvTLww8cLECxMvTLww8cLECxMvzN9m2OiS3mU2wzYxm684eUvYxEnoFc85SzCbYeKFiRcmXph4YeKFiRcmXph4YeKFiRfmYzrMPS/MbIYtOpvm77kWvee5yz2X2QwTL0y8MPHCxAsTL0y8MPHCxAsTL8zfZpiTUJjZDLs7myZw++6ehJx3ts9shokXJl6YeGHihYkXJl6YeGHihYkX5m8zzEkozGyG3cymqWy5OQk5A7WYzTDxwsQLEy9MvDDxwsQLEy9MvDDxwvxthjkJhZnNsN04jp9rP4J5dsMwfKz9COYxm2HihYkXJl6YeGHihYkXJl6YeGHihYkXthuG4WftRzCPe16Y2Qxzzwtzzwszm2HihYkXJl6YeGHihYkXJl6YeGHihTkJhTkJhZnNMPHCxAv7B0CfgCKZGJkjAAAAAElFTkSuQmCC\"></img></td>\n",
       "      <td id=\"T_aea09_row28_col5\" class=\"data row28 col5\" >2,709<br>(29.3%)</td>\n",
       "    </tr>\n",
       "    <tr>\n",
       "      <td id=\"T_aea09_row29_col0\" class=\"data row29 col0\" >30</td>\n",
       "      <td id=\"T_aea09_row29_col1\" class=\"data row29 col1\" ><strong>City</strong><br>[object]</td>\n",
       "      <td id=\"T_aea09_row29_col2\" class=\"data row29 col2\" >1. Mumbai<br>2. Select<br>3. nan<br>4. Thane & Outskirts<br>5. Other Cities<br>6. Other Cities of Maharashtra<br>7. Other Metro Cities<br>8. Tier II Cities</td>\n",
       "      <td id=\"T_aea09_row29_col3\" class=\"data row29 col3\" >3,222 (34.9%)<br>2,249 (24.3%)<br>1,420 (15.4%)<br>752 (8.1%)<br>686 (7.4%)<br>457 (4.9%)<br>380 (4.1%)<br>74 (0.8%)</td>\n",
       "      <td id=\"T_aea09_row29_col4\" class=\"data row29 col4\" ><img src = \"data:image/png;base64, iVBORw0KGgoAAAANSUhEUgAAAG8AAACCCAYAAABIH5Y8AAAAOXRFWHRTb2Z0d2FyZQBNYXRwbG90bGliIHZlcnNpb24zLjUuMywgaHR0cHM6Ly9tYXRwbG90bGliLm9yZy/NK7nSAAAACXBIWXMAAAsTAAALEwEAmpwYAAAB1UlEQVR4nO3dsW3CUBhGURNRurVSZComYDYmyFQpQu2eLAACEcTzlc6ZwNKVvuL9SOwul8tE08foD+B54oWJFyZe2G5ZlsM8z5+jP+SadV1/z+fz9+jv2Kr9PM+fx+PxZ/SHXHM6nb5Gf8OWmc0w8cLECxMvTLww8cLECxMvTLww8cLEC/MwHbbzM4gusxn21tk0g6/11nue+9xrmc0w8cLECxMvTLww8cLECxMvTLww8cK8bYY5CYWZzbCXzKY5HOMlJyGnnjHMZph4YeKFiRcmXph4YeKFiRcmXph4Yd42w5yEwsxm2EOzaRa36aGTkJPPNpnNMPHCxAsTL0y8MPHCxAsTL0y8MPHCvG2GOQmFmc2wu7NpMrfr7knIOWi7zGaYeGHihYkXJl6YeGHihYkXJl6YeGHeNsOchMLMZtjN2TSX23fzJOQUtH1mM0y8MPHCxAsTL0y8MPHCxAsTL0y8MPHCPEyHueeFmc2wq7NpMhuu3vPc8hrMZph4YeKFiRcmXph4YeKFiRcmXph4Yd42w5yEwsxm2G5ZlsM0TZOZ7Nn/948PGcdshokXJl6YeGHihYkXJl6YeGHihYkXtl/X9Xf0R/AcJ6EwsxkmXph4YeKF/QE91rFUw7OPSQAAAABJRU5ErkJggg==\"></img></td>\n",
       "      <td id=\"T_aea09_row29_col5\" class=\"data row29 col5\" >1,420<br>(15.4%)</td>\n",
       "    </tr>\n",
       "    <tr>\n",
       "      <td id=\"T_aea09_row30_col0\" class=\"data row30 col0\" >31</td>\n",
       "      <td id=\"T_aea09_row30_col1\" class=\"data row30 col1\" ><strong>Asymmetrique Activity Index</strong><br>[object]</td>\n",
       "      <td id=\"T_aea09_row30_col2\" class=\"data row30 col2\" >1. nan<br>2. 02.Medium<br>3. 01.High<br>4. 03.Low</td>\n",
       "      <td id=\"T_aea09_row30_col3\" class=\"data row30 col3\" >4,218 (45.6%)<br>3,839 (41.5%)<br>821 (8.9%)<br>362 (3.9%)</td>\n",
       "      <td id=\"T_aea09_row30_col4\" class=\"data row30 col4\" ><img src = \"data:image/png;base64, iVBORw0KGgoAAAANSUhEUgAAAG8AAABBCAYAAADfY/omAAAAOXRFWHRTb2Z0d2FyZQBNYXRwbG90bGliIHZlcnNpb24zLjUuMywgaHR0cHM6Ly9tYXRwbG90bGliLm9yZy/NK7nSAAAACXBIWXMAAAsTAAALEwEAmpwYAAABEUlEQVR4nO3ZsWnDUBhG0SikfK1wkakygWbTBJkqRVyrVwawCxOM5YvPmeDBhU+gf9r3/Y2m96MfwP+JFzbN8/w1xjgd/ZB72Lbt93w+fx/9jkf5GGOclmX5Ofoh97Cu6+fRb3gksxkmXph4YeKFiRcmXph4YeKFiRcmXph/m2GTe16X2QzLzuarTeQ12ZPQq51/rjGbYeKFiRcmXph4YeKFiRcmXph4YeKFiRfmx3SYe16Y2Qy7eTbN1PO5+Z7nfvZ8zGaYeGHihYkXJl6YeGHihYkXJl6YeGH+bYY5CYWZzTDxwi6+eb5tHRf3PHe7DrMZJl6YeGHihYkXJl6YeGHihYkXJl6Yf5th7nlhZjPsDzN6YEMI9L/CAAAAAElFTkSuQmCC\"></img></td>\n",
       "      <td id=\"T_aea09_row30_col5\" class=\"data row30 col5\" >4,218<br>(45.6%)</td>\n",
       "    </tr>\n",
       "    <tr>\n",
       "      <td id=\"T_aea09_row31_col0\" class=\"data row31 col0\" >32</td>\n",
       "      <td id=\"T_aea09_row31_col1\" class=\"data row31 col1\" ><strong>Asymmetrique Profile Index</strong><br>[object]</td>\n",
       "      <td id=\"T_aea09_row31_col2\" class=\"data row31 col2\" >1. nan<br>2. 02.Medium<br>3. 01.High<br>4. 03.Low</td>\n",
       "      <td id=\"T_aea09_row31_col3\" class=\"data row31 col3\" >4,218 (45.6%)<br>2,788 (30.2%)<br>2,203 (23.8%)<br>31 (0.3%)</td>\n",
       "      <td id=\"T_aea09_row31_col4\" class=\"data row31 col4\" ><img src = \"data:image/png;base64, iVBORw0KGgoAAAANSUhEUgAAAG8AAABBCAYAAADfY/omAAAAOXRFWHRTb2Z0d2FyZQBNYXRwbG90bGliIHZlcnNpb24zLjUuMywgaHR0cHM6Ly9tYXRwbG90bGliLm9yZy/NK7nSAAAACXBIWXMAAAsTAAALEwEAmpwYAAABGUlEQVR4nO3ZsQ3CMBQGYduidBuloId5mCCzZQL2oacgdfqwg2X55ZT7JnjSSX9h5+M4kphK9AFqZzywPE3Tq9Y6Rx/Sw77vv23b3tF3jHKrtc7LsnyjD+lhXdd79A0jOZtgxgMzHpjxwIwHZjww44EZD8x4YMYD820TLPufx+Vsgp1mNq82eT2c5kvoat85PTibYMYDMx6Y8cCMB2Y8MOOBGQ/MeGDGAzMemA/TYP7ngTmbYENn02nsa+h/nn92fTmbYMYDMx6Y8cCMB2Y8MOOBGQ/MeGDGA/NtE8wvITBnE8x4YCXn/Iw+Qm1KSukRfYTaOJtgxgMzHpjxwIwHZjww44EZD8x4YMYDKymlT/QRauN/HpizCfYHjpdNOEtIxwEAAAAASUVORK5CYII=\"></img></td>\n",
       "      <td id=\"T_aea09_row31_col5\" class=\"data row31 col5\" >4,218<br>(45.6%)</td>\n",
       "    </tr>\n",
       "    <tr>\n",
       "      <td id=\"T_aea09_row32_col0\" class=\"data row32 col0\" >33</td>\n",
       "      <td id=\"T_aea09_row32_col1\" class=\"data row32 col1\" ><strong>Asymmetrique Activity Score</strong><br>[float64]</td>\n",
       "      <td id=\"T_aea09_row32_col2\" class=\"data row32 col2\" >Mean (sd) : 14.3 (1.4)<br>min < med < max:<br>7.0 < 14.0 < 18.0<br>IQR (CV) : 1.0 (10.3)</td>\n",
       "      <td id=\"T_aea09_row32_col3\" class=\"data row32 col3\" >12 distinct values</td>\n",
       "      <td id=\"T_aea09_row32_col4\" class=\"data row32 col4\" ><img src = \"data:image/png;base64, iVBORw0KGgoAAAANSUhEUgAAAHoAAAAyCAYAAACTUs/lAAAAOXRFWHRTb2Z0d2FyZQBNYXRwbG90bGliIHZlcnNpb24zLjUuMywgaHR0cHM6Ly9tYXRwbG90bGliLm9yZy/NK7nSAAAACXBIWXMAAAsTAAALEwEAmpwYAAABQklEQVR4nO3bvW2EMBxAcSeKBIXTckU6FrgskCFuArdZiwnSZaMUoaZBQiIjBB+fx3u/2oWlJ/4nzuZpHMeg83veewPaxsveGzi6qqpuMcbLlLVd1/22bfu19p7uYeh/xBgvKaWfKWubpnlbez/3cnRDGBrC0BCGhjA0hKEhDA1haAhDQxgawtAQ/te9oL7v3+u6/py6fstDEEMvqCiK16kHICFsewji6IYwNIShIQwNYWgIQ0MYGsLQEIaGMDSEoSEMDYE81Mj5zGYYhmsIYfJBxVEhQ2d+ZvOx9n624OiGMDSEoSEMDWFoCENDIF+vjiLn1ujcG6OG3lHOrdG5N0Yd3RA+0Q9i7pg39IOYO+Yd3RCGhjA0xGl+o4lnzDlOE5p4xpzj0KF9SpezeeiceGVZXlNK31PWEp/SHJuHdsTu4w/m5V4SXgiovgAAAABJRU5ErkJggg==\"></img></td>\n",
       "      <td id=\"T_aea09_row32_col5\" class=\"data row32 col5\" >4,218<br>(45.6%)</td>\n",
       "    </tr>\n",
       "    <tr>\n",
       "      <td id=\"T_aea09_row33_col0\" class=\"data row33 col0\" >34</td>\n",
       "      <td id=\"T_aea09_row33_col1\" class=\"data row33 col1\" ><strong>Asymmetrique Profile Score</strong><br>[float64]</td>\n",
       "      <td id=\"T_aea09_row33_col2\" class=\"data row33 col2\" >1. nan<br>2. 15.0<br>3. 18.0<br>4. 16.0<br>5. 17.0<br>6. 20.0<br>7. 19.0<br>8. 14.0<br>9. 13.0<br>10. 12.0<br>11. other</td>\n",
       "      <td id=\"T_aea09_row33_col3\" class=\"data row33 col3\" >4,218 (45.6%)<br>1,759 (19.0%)<br>1,071 (11.6%)<br>599 (6.5%)<br>579 (6.3%)<br>308 (3.3%)<br>245 (2.7%)<br>226 (2.4%)<br>204 (2.2%)<br>22 (0.2%)<br>9 (0.1%)</td>\n",
       "      <td id=\"T_aea09_row33_col4\" class=\"data row33 col4\" ><img src = \"data:image/png;base64, iVBORw0KGgoAAAANSUhEUgAAAG8AAACzCAYAAACHOUI0AAAAOXRFWHRTb2Z0d2FyZQBNYXRwbG90bGliIHZlcnNpb24zLjUuMywgaHR0cHM6Ly9tYXRwbG90bGliLm9yZy/NK7nSAAAACXBIWXMAAAsTAAALEwEAmpwYAAACWUlEQVR4nO3cMWrjUBhGUUmkVGtSTJ+sJyvw2ryC2c/0Kca1e6eagRCSQsR+uuScFQgufMX7jefr9TrRtIz+ALYTL0y8MPHCxAsTL0y8sPlwOLys6/o4+kO+w+Vy+Xs+n3+P/o57eVjX9fF4PL6O/pDvcDqdfo3+hnsym2HihYkXJl6YeGHihYkXJl6YeGHihXnbDJv9AKnLbIbdZDZ/2nyNcpOT0E87zYxiNsPECxMvTLww8cLECxMvTLww8cLEC/O2GeYkFGY2wzbNplnch00nISeffTCbYeKFiRcmXph4YeKFiRcmXph4YeKFedsMcxIKM5thX86medy3L09CTj/7ZjbDxAsTL0y8MPHCxAsTL0y8MPHCxAvzthnmJBRmNsPMZpiTUJjZDBMvTLww8cLECxMvTLww8cLECxMvzNtmmJNQmNkM+zCbprLjw0nIGajDbIaJFyZemHhh4oWJFyZemHhh4oWJF+ZtM8xJKMxshr2bTZPZ8u4k5BzUYjbDxAsTL0y8MPHCxAsTL0y8MPHCxAvzthnmJBRmNsPMZpiTUJjZDBMvTLww8cLECxMvTLww8cLECxMvTLwwD9Nh7nlhZjPs/2yazJ7l3z3vs3+7Zb/MZph4YeKFiRcmXph4YeKFiRcmXph4Yd42w5yEwsxm2DLP8/Poj2CbZZqmp9EfwTZmM0y8MPHCxAsTL0y8MPHCxAsTL0y8sGWapj+jP4JtnITCzGaYk1CYk1CY2QwTL0y8MPHCxAsTL0y8MPHCxAsTL8xJKMxJKMxshokXJl6YeGHihYkX9gYT9duj+SIK3QAAAABJRU5ErkJggg==\"></img></td>\n",
       "      <td id=\"T_aea09_row33_col5\" class=\"data row33 col5\" >4,218<br>(45.6%)</td>\n",
       "    </tr>\n",
       "    <tr>\n",
       "      <td id=\"T_aea09_row34_col0\" class=\"data row34 col0\" >35</td>\n",
       "      <td id=\"T_aea09_row34_col1\" class=\"data row34 col1\" ><strong>I agree to pay the amount through cheque</strong><br>[object]</td>\n",
       "      <td id=\"T_aea09_row34_col2\" class=\"data row34 col2\" >1. No</td>\n",
       "      <td id=\"T_aea09_row34_col3\" class=\"data row34 col3\" >9,240 (100.0%)</td>\n",
       "      <td id=\"T_aea09_row34_col4\" class=\"data row34 col4\" ><img src = \"data:image/png;base64, iVBORw0KGgoAAAANSUhEUgAAAG8AAAAQCAYAAAAYsSF0AAAAOXRFWHRTb2Z0d2FyZQBNYXRwbG90bGliIHZlcnNpb24zLjUuMywgaHR0cHM6Ly9tYXRwbG90bGliLm9yZy/NK7nSAAAACXBIWXMAAAsTAAALEwEAmpwYAAAAWUlEQVR4nO3ZsQnAMBAEQcs4vPRRXa7gq1cfqsFOxMJOBQcb3qiqN8m8hPMkmd29Tg/Rd/fpAfrPeGDGAzMemPHAjAdmPDDjgRkPzHhgxgMzHpjxwIaXENcGxk4D9F+Am7wAAAAASUVORK5CYII=\"></img></td>\n",
       "      <td id=\"T_aea09_row34_col5\" class=\"data row34 col5\" >0<br>(0.0%)</td>\n",
       "    </tr>\n",
       "    <tr>\n",
       "      <td id=\"T_aea09_row35_col0\" class=\"data row35 col0\" >36</td>\n",
       "      <td id=\"T_aea09_row35_col1\" class=\"data row35 col1\" ><strong>A free copy of Mastering The Interview</strong><br>[object]</td>\n",
       "      <td id=\"T_aea09_row35_col2\" class=\"data row35 col2\" >1. No<br>2. Yes</td>\n",
       "      <td id=\"T_aea09_row35_col3\" class=\"data row35 col3\" >6,352 (68.7%)<br>2,888 (31.3%)</td>\n",
       "      <td id=\"T_aea09_row35_col4\" class=\"data row35 col4\" ><img src = \"data:image/png;base64, iVBORw0KGgoAAAANSUhEUgAAAG8AAAAgCAYAAAAcyybZAAAAOXRFWHRTb2Z0d2FyZQBNYXRwbG90bGliIHZlcnNpb24zLjUuMywgaHR0cHM6Ly9tYXRwbG90bGliLm9yZy/NK7nSAAAACXBIWXMAAAsTAAALEwEAmpwYAAAAqklEQVR4nO3ZsQ1DIQwAUROldIt+kakyAbMxQaZKEWp6ssNv4KR7E1g6yYVd1lohplJrfWfmtXsQkjnnb4zx2T3HMzOv1tp39yAkvffX7hkiIh67B9B9xgMzHpjxwIwHZjww44EZD8x4YMYDMx6Yh+kbTjlMF19CXK5NsKPW5inriOKof94pfzIK1yaY8cCMB2Y8MOOBGQ/MeGDGAzMemPHAjAdmPDC/CmB/0V4uo1uSRf0AAAAASUVORK5CYII=\"></img></td>\n",
       "      <td id=\"T_aea09_row35_col5\" class=\"data row35 col5\" >0<br>(0.0%)</td>\n",
       "    </tr>\n",
       "    <tr>\n",
       "      <td id=\"T_aea09_row36_col0\" class=\"data row36 col0\" >37</td>\n",
       "      <td id=\"T_aea09_row36_col1\" class=\"data row36 col1\" ><strong>Last Notable Activity</strong><br>[object]</td>\n",
       "      <td id=\"T_aea09_row36_col2\" class=\"data row36 col2\" >1. Modified<br>2. Email Opened<br>3. SMS Sent<br>4. Page Visited on Website<br>5. Olark Chat Conversation<br>6. Email Link Clicked<br>7. Email Bounced<br>8. Unsubscribed<br>9. Unreachable<br>10. Had a Phone Conversation<br>11. other</td>\n",
       "      <td id=\"T_aea09_row36_col3\" class=\"data row36 col3\" >3,407 (36.9%)<br>2,827 (30.6%)<br>2,172 (23.5%)<br>318 (3.4%)<br>183 (2.0%)<br>173 (1.9%)<br>60 (0.6%)<br>47 (0.5%)<br>32 (0.3%)<br>14 (0.2%)<br>7 (0.1%)</td>\n",
       "      <td id=\"T_aea09_row36_col4\" class=\"data row36 col4\" ><img src = \"data:image/png;base64, iVBORw0KGgoAAAANSUhEUgAAAG8AAACzCAYAAACHOUI0AAAAOXRFWHRTb2Z0d2FyZQBNYXRwbG90bGliIHZlcnNpb24zLjUuMywgaHR0cHM6Ly9tYXRwbG90bGliLm9yZy/NK7nSAAAACXBIWXMAAAsTAAALEwEAmpwYAAACVklEQVR4nO3bsW3bUBhG0UdCJVvCRfpkHk+g2TRB9knvwqrZK1XSGDAgwjB5gXMmeMAFvoK/ND0ej0HTfPQD2E+8MPHCxAsTL0y8MPHCpnVdX5dleTn6IZ/Ztu39fr//PvodZ3NZluXler2+Hf2Qz9xutx9Hv+GMzGaYeGHihYkXJl6YeGHihYkXJl6YeGG+bYZNfoDUZTbDTjObpvF5pzkJOfs8z2yGiRcmXph4YeKFiRcmXph4YeKFiRfm22aYk1CY2Qz7ttk0i1/v205CTj5fz2yGiRcmXph4YeKFiRcmXph4YeKFiRfm22aYk1CY2Qz7MJvmrePDScjppsNshokXJl6YeGHihYkXJl6YeGHihYkX5ttmmJNQmNkM+z+b5rJn/ncSOsO/Y3mO2QwTL0y8MPHCxAsTL0y8MPHCxAsTL8y3zTAnoTCzGWY2w5yEwsxmmHhh4oWJFyZemHhh4oWJFyZemHhhvm2GOQmFmc2waV3X1zHGMJk9F6egLrMZJl6YeGHihYkXJl6YeGHihYkXJl7YZdu296MfwT5OQmFmM8xJKMxJKMxshokXJl6YeGHihYkXJl6YeGHihYkXJl6Ye16Ye16Y2Qybp2n6dfQj2GceY/w8+hHsYzbDxAsTL0y8MPHCxAsTL0y8MPHCxAubxxh/jn4E+zgJhZnNMCehMCehMLMZJl6YeGHihYkXJl6YeGHihYkXJl6Yk1CYk1CY2QxzEgpzEgozm2HihYkXJl6YeGHihYkXJl6YeGHihTkJhTkJhZnNMPHCxAsTL0y8MPHC/gKgOq5phE2zLAAAAABJRU5ErkJggg==\"></img></td>\n",
       "      <td id=\"T_aea09_row36_col5\" class=\"data row36 col5\" >0<br>(0.0%)</td>\n",
       "    </tr>\n",
       "  </tbody>\n",
       "</table>\n"
      ],
      "text/plain": [
       "<pandas.io.formats.style.Styler at 0x1bbc0c466d0>"
      ]
     },
     "execution_count": 33,
     "metadata": {},
     "output_type": "execute_result"
    }
   ],
   "source": [
    "# Generate a summary using dfSummary()\n",
    "summary = dfSummary(df)\n",
    "\n",
    "# Print the summary\n",
    "summary"
   ]
  },
  {
   "cell_type": "code",
   "execution_count": 34,
   "id": "c1ba3aef",
   "metadata": {},
   "outputs": [
    {
     "data": {
      "text/plain": [
       "(9240, 37)"
      ]
     },
     "execution_count": 34,
     "metadata": {},
     "output_type": "execute_result"
    }
   ],
   "source": [
    "df.shape"
   ]
  },
  {
   "cell_type": "code",
   "execution_count": 35,
   "id": "395cdd0f",
   "metadata": {},
   "outputs": [],
   "source": [
    "leads_df= df.loc[:, (df.isnull().sum()/len(df)*100) < 35]"
   ]
  },
  {
   "cell_type": "code",
   "execution_count": 36,
   "id": "9694ceab",
   "metadata": {},
   "outputs": [],
   "source": [
    "# removing the column Prospect ID; Lead Number is a unique value already\n",
    "leads_df = leads_df.drop('Prospect ID', axis=1)\n",
    "\n",
    "# removing the five columns which are constant across all rows; they don't add any value to the model\n",
    "leads_df = leads_df.drop('Magazine', axis=1)\n",
    "leads_df = leads_df.drop('Receive More Updates About Our Courses', axis=1)\n",
    "leads_df = leads_df.drop('Update me on Supply Chain Content', axis=1)\n",
    "leads_df = leads_df.drop('Get updates on DM Content', axis=1)\n",
    "leads_df = leads_df.drop('I agree to pay the amount through cheque', axis=1)"
   ]
  },
  {
   "cell_type": "code",
   "execution_count": 37,
   "id": "3677ae92",
   "metadata": {
    "scrolled": false
   },
   "outputs": [
    {
     "data": {
      "text/html": [
       "<style type=\"text/css\">\n",
       "#T_fe6c0 thead>tr>th {\n",
       "  text-align: left;\n",
       "}\n",
       "#T_fe6c0_row0_col0, #T_fe6c0_row1_col0, #T_fe6c0_row2_col0, #T_fe6c0_row3_col0, #T_fe6c0_row4_col0, #T_fe6c0_row5_col0, #T_fe6c0_row6_col0, #T_fe6c0_row7_col0, #T_fe6c0_row8_col0, #T_fe6c0_row9_col0, #T_fe6c0_row10_col0, #T_fe6c0_row11_col0, #T_fe6c0_row12_col0, #T_fe6c0_row13_col0, #T_fe6c0_row14_col0, #T_fe6c0_row15_col0, #T_fe6c0_row16_col0, #T_fe6c0_row17_col0, #T_fe6c0_row18_col0, #T_fe6c0_row19_col0, #T_fe6c0_row20_col0, #T_fe6c0_row21_col0, #T_fe6c0_row22_col0, #T_fe6c0_row23_col0, #T_fe6c0_row24_col0 {\n",
       "  text-align: left;\n",
       "  font-size: 12px;\n",
       "  vertical-align: middle;\n",
       "  width: 5%;\n",
       "  max-width: 50px;\n",
       "  min-width: 20px;\n",
       "}\n",
       "#T_fe6c0_row0_col1, #T_fe6c0_row1_col1, #T_fe6c0_row2_col1, #T_fe6c0_row3_col1, #T_fe6c0_row4_col1, #T_fe6c0_row5_col1, #T_fe6c0_row6_col1, #T_fe6c0_row7_col1, #T_fe6c0_row8_col1, #T_fe6c0_row9_col1, #T_fe6c0_row10_col1, #T_fe6c0_row11_col1, #T_fe6c0_row12_col1, #T_fe6c0_row13_col1, #T_fe6c0_row14_col1, #T_fe6c0_row15_col1, #T_fe6c0_row16_col1, #T_fe6c0_row17_col1, #T_fe6c0_row18_col1, #T_fe6c0_row19_col1, #T_fe6c0_row20_col1, #T_fe6c0_row21_col1, #T_fe6c0_row22_col1, #T_fe6c0_row23_col1, #T_fe6c0_row24_col1 {\n",
       "  text-align: left;\n",
       "  font-size: 12px;\n",
       "  vertical-align: middle;\n",
       "  width: 15%;\n",
       "  max-width: 200px;\n",
       "  min-width: 100px;\n",
       "  word-break: break-word;\n",
       "}\n",
       "#T_fe6c0_row0_col2, #T_fe6c0_row1_col2, #T_fe6c0_row2_col2, #T_fe6c0_row3_col2, #T_fe6c0_row4_col2, #T_fe6c0_row5_col2, #T_fe6c0_row6_col2, #T_fe6c0_row7_col2, #T_fe6c0_row8_col2, #T_fe6c0_row9_col2, #T_fe6c0_row10_col2, #T_fe6c0_row11_col2, #T_fe6c0_row12_col2, #T_fe6c0_row13_col2, #T_fe6c0_row14_col2, #T_fe6c0_row15_col2, #T_fe6c0_row16_col2, #T_fe6c0_row17_col2, #T_fe6c0_row18_col2, #T_fe6c0_row19_col2, #T_fe6c0_row20_col2, #T_fe6c0_row21_col2, #T_fe6c0_row22_col2, #T_fe6c0_row23_col2, #T_fe6c0_row24_col2 {\n",
       "  text-align: left;\n",
       "  font-size: 12px;\n",
       "  vertical-align: middle;\n",
       "  width: 30%;\n",
       "  min-width: 100px;\n",
       "}\n",
       "#T_fe6c0_row0_col3, #T_fe6c0_row1_col3, #T_fe6c0_row2_col3, #T_fe6c0_row3_col3, #T_fe6c0_row4_col3, #T_fe6c0_row5_col3, #T_fe6c0_row6_col3, #T_fe6c0_row7_col3, #T_fe6c0_row8_col3, #T_fe6c0_row9_col3, #T_fe6c0_row10_col3, #T_fe6c0_row11_col3, #T_fe6c0_row12_col3, #T_fe6c0_row13_col3, #T_fe6c0_row14_col3, #T_fe6c0_row15_col3, #T_fe6c0_row16_col3, #T_fe6c0_row17_col3, #T_fe6c0_row18_col3, #T_fe6c0_row19_col3, #T_fe6c0_row20_col3, #T_fe6c0_row21_col3, #T_fe6c0_row22_col3, #T_fe6c0_row23_col3, #T_fe6c0_row24_col3 {\n",
       "  text-align: left;\n",
       "  font-size: 12px;\n",
       "  vertical-align: middle;\n",
       "  width: 25%;\n",
       "  min-width: 100px;\n",
       "}\n",
       "#T_fe6c0_row0_col4, #T_fe6c0_row1_col4, #T_fe6c0_row2_col4, #T_fe6c0_row3_col4, #T_fe6c0_row4_col4, #T_fe6c0_row5_col4, #T_fe6c0_row6_col4, #T_fe6c0_row7_col4, #T_fe6c0_row8_col4, #T_fe6c0_row9_col4, #T_fe6c0_row10_col4, #T_fe6c0_row11_col4, #T_fe6c0_row12_col4, #T_fe6c0_row13_col4, #T_fe6c0_row14_col4, #T_fe6c0_row15_col4, #T_fe6c0_row16_col4, #T_fe6c0_row17_col4, #T_fe6c0_row18_col4, #T_fe6c0_row19_col4, #T_fe6c0_row20_col4, #T_fe6c0_row21_col4, #T_fe6c0_row22_col4, #T_fe6c0_row23_col4, #T_fe6c0_row24_col4 {\n",
       "  text-align: left;\n",
       "  font-size: 12px;\n",
       "  vertical-align: middle;\n",
       "  width: 20%;\n",
       "  min-width: 150px;\n",
       "}\n",
       "#T_fe6c0_row0_col5, #T_fe6c0_row1_col5, #T_fe6c0_row2_col5, #T_fe6c0_row3_col5, #T_fe6c0_row4_col5, #T_fe6c0_row5_col5, #T_fe6c0_row6_col5, #T_fe6c0_row7_col5, #T_fe6c0_row8_col5, #T_fe6c0_row9_col5, #T_fe6c0_row10_col5, #T_fe6c0_row11_col5, #T_fe6c0_row12_col5, #T_fe6c0_row13_col5, #T_fe6c0_row14_col5, #T_fe6c0_row15_col5, #T_fe6c0_row16_col5, #T_fe6c0_row17_col5, #T_fe6c0_row18_col5, #T_fe6c0_row19_col5, #T_fe6c0_row20_col5, #T_fe6c0_row21_col5, #T_fe6c0_row22_col5, #T_fe6c0_row23_col5, #T_fe6c0_row24_col5 {\n",
       "  text-align: left;\n",
       "  font-size: 12px;\n",
       "  vertical-align: middle;\n",
       "  width: 10%;\n",
       "}\n",
       "</style>\n",
       "<table id=\"T_fe6c0\">\n",
       "  <caption><strong>Data Frame Summary</strong><br>leads_df<br>Dimensions: 9,240 x 25<br>Duplicates: 0</caption>\n",
       "  <thead>\n",
       "    <tr>\n",
       "      <th id=\"T_fe6c0_level0_col0\" class=\"col_heading level0 col0\" >No</th>\n",
       "      <th id=\"T_fe6c0_level0_col1\" class=\"col_heading level0 col1\" >Variable</th>\n",
       "      <th id=\"T_fe6c0_level0_col2\" class=\"col_heading level0 col2\" >Stats / Values</th>\n",
       "      <th id=\"T_fe6c0_level0_col3\" class=\"col_heading level0 col3\" >Freqs / (% of Valid)</th>\n",
       "      <th id=\"T_fe6c0_level0_col4\" class=\"col_heading level0 col4\" >Graph</th>\n",
       "      <th id=\"T_fe6c0_level0_col5\" class=\"col_heading level0 col5\" >Missing</th>\n",
       "    </tr>\n",
       "  </thead>\n",
       "  <tbody>\n",
       "    <tr>\n",
       "      <td id=\"T_fe6c0_row0_col0\" class=\"data row0 col0\" >1</td>\n",
       "      <td id=\"T_fe6c0_row0_col1\" class=\"data row0 col1\" ><strong>Lead Number</strong><br>[int64]</td>\n",
       "      <td id=\"T_fe6c0_row0_col2\" class=\"data row0 col2\" >Mean (sd) : 617188.4 (23406.0)<br>min < med < max:<br>579533.0 < 615479.0 < 660737.0<br>IQR (CV) : 40902.8 (26.4)</td>\n",
       "      <td id=\"T_fe6c0_row0_col3\" class=\"data row0 col3\" >9,240 distinct values</td>\n",
       "      <td id=\"T_fe6c0_row0_col4\" class=\"data row0 col4\" ><img src = \"data:image/png;base64, iVBORw0KGgoAAAANSUhEUgAAAHoAAAAyCAYAAACTUs/lAAAAOXRFWHRTb2Z0d2FyZQBNYXRwbG90bGliIHZlcnNpb24zLjUuMywgaHR0cHM6Ly9tYXRwbG90bGliLm9yZy/NK7nSAAAACXBIWXMAAAsTAAALEwEAmpwYAAABYUlEQVR4nO3YMU7DMBiGYYOQksGs6cCCfIFygZ6AiRN45UzZfAI2bsA9WBjInCVSpPQAUGoLx039vc9spZHeJr+dm2VZDOp3e+kbQBl3OS7Sdd2LtXYXs3Ycx+9hGN5y/C7inQydEq9t2733/j1mbQjhIfbmkM/J0Nbanff+K+YiIYRDvlvCGpjRIrLM6BTTND05515j1jLP8ykeumma+9iR0Pf9s3OOTV4GxUOnSPlTsMn7GzNaxKaf6GuTciQ1puy4IfQZa31PMKbsuCH0GbV8T2BGi6jmiU48nz9aaz9j1s7zvDfGRD3RW1ZN6MSj2MF7/xG79n93tg28ukUQWkQ1r+5rtNa+4rfzOaEvaMV9xY/zOa9uEYQWQWgRhBZBaBGEFkFoEYQWQWgRhBZBaBGEFkFoEYQWQWgRhBZBaBGEFkFoEYQWQWgRhBZBaBGEFkFoEYQWQWgRhBZBaBGEFnEECsVsoPpksxcAAAAASUVORK5CYII=\"></img></td>\n",
       "      <td id=\"T_fe6c0_row0_col5\" class=\"data row0 col5\" >0<br>(0.0%)</td>\n",
       "    </tr>\n",
       "    <tr>\n",
       "      <td id=\"T_fe6c0_row1_col0\" class=\"data row1 col0\" >2</td>\n",
       "      <td id=\"T_fe6c0_row1_col1\" class=\"data row1 col1\" ><strong>Lead Origin</strong><br>[object]</td>\n",
       "      <td id=\"T_fe6c0_row1_col2\" class=\"data row1 col2\" >1. Landing Page Submission<br>2. API<br>3. Lead Add Form<br>4. Lead Import<br>5. Quick Add Form</td>\n",
       "      <td id=\"T_fe6c0_row1_col3\" class=\"data row1 col3\" >4,886 (52.9%)<br>3,580 (38.7%)<br>718 (7.8%)<br>55 (0.6%)<br>1 (0.0%)</td>\n",
       "      <td id=\"T_fe6c0_row1_col4\" class=\"data row1 col4\" ><img src = \"data:image/png;base64, iVBORw0KGgoAAAANSUhEUgAAAG8AAABRCAYAAADctfi9AAAAOXRFWHRTb2Z0d2FyZQBNYXRwbG90bGliIHZlcnNpb24zLjUuMywgaHR0cHM6Ly9tYXRwbG90bGliLm9yZy/NK7nSAAAACXBIWXMAAAsTAAALEwEAmpwYAAABU0lEQVR4nO3asY3CQBBG4VnL4aYrAvKjHipwba7g+rmcwI439xVAghbE8ND7KhjpSX/gdTmOI8Q0ZR+gccYDK621a631lH3IO/Tet33ff7PveJW51npaluWWfcg7rOt6zr7hlZxNMOOBGQ/MeGDGAzMemPHAjAdmPDDjgRkPzA/TYMXHWC5nEww1m982e89Cved923vcs5xNMOOBGQ/MeGDGAzMemPHAjAdmPDDjgfltE8wnITBnE+yh2XSuPtNDT0I+xXwmZxPMeGDGAzMemPHAjAdmPDDjgRkPzHhgftsE80kIzNkEK621a0SEs8gzU36B0D1nE8x4YMYDMx6Y8cCMB2Y8MOOBGQ/MeGDGA5t771v2ERrjex6Yswk2lVIu2UdozBQRP9lHaIyzCWY8MOOBGQ/MeGDGAzMemPHAjAdmPLApIv6yj9AYn4TAnE0w44H9A8i+WFSLoU0CAAAAAElFTkSuQmCC\"></img></td>\n",
       "      <td id=\"T_fe6c0_row1_col5\" class=\"data row1 col5\" >0<br>(0.0%)</td>\n",
       "    </tr>\n",
       "    <tr>\n",
       "      <td id=\"T_fe6c0_row2_col0\" class=\"data row2 col0\" >3</td>\n",
       "      <td id=\"T_fe6c0_row2_col1\" class=\"data row2 col1\" ><strong>Lead Source</strong><br>[object]</td>\n",
       "      <td id=\"T_fe6c0_row2_col2\" class=\"data row2 col2\" >1. Google<br>2. Direct Traffic<br>3. Olark Chat<br>4. Organic Search<br>5. Reference<br>6. Welingak Website<br>7. Referral Sites<br>8. Facebook<br>9. nan<br>10. bing<br>11. other</td>\n",
       "      <td id=\"T_fe6c0_row2_col3\" class=\"data row2 col3\" >2,868 (31.0%)<br>2,543 (27.5%)<br>1,755 (19.0%)<br>1,154 (12.5%)<br>534 (5.8%)<br>142 (1.5%)<br>125 (1.4%)<br>55 (0.6%)<br>36 (0.4%)<br>6 (0.1%)<br>22 (0.2%)</td>\n",
       "      <td id=\"T_fe6c0_row2_col4\" class=\"data row2 col4\" ><img src = \"data:image/png;base64, iVBORw0KGgoAAAANSUhEUgAAAG8AAACzCAYAAACHOUI0AAAAOXRFWHRTb2Z0d2FyZQBNYXRwbG90bGliIHZlcnNpb24zLjUuMywgaHR0cHM6Ly9tYXRwbG90bGliLm9yZy/NK7nSAAAACXBIWXMAAAsTAAALEwEAmpwYAAACXklEQVR4nO3dMWobURhG0TeDymkHF+mT9XgFWptWkP2kT2HV0ytV0hnCGPvpwjkreHDhK+YXaHk8HoOmdfYDOE+8MPHCxAsTL0y8MPHCln3fX7dte5n9kDHGOI7j7X6//5z9jorLtm0v1+v19+yHjDHG7Xb7NvsNJWYzTLww8cLECxMvTLww8cLECxMvTLww3zbDFj9A6jKbYVNn00x+zNSTkBPQx5jNMPHCxAsTL0y8MPHCxAsTL0y8MPHCfNsMcxIKM5thnzKb5vBrfMpJyKnna5jNMPHCxAsTL0y8MPHCxAsTL0y8MPHCfNsMcxIKM5thp2fTNM53+iTk7DOf2QwTL0y8MPHCxAsTL0y8MPHCxAsTL8y3zTAnoTCzGfbubJrF5/fuScjJ5/mZzTDxwsQLEy9MvDDxwsQLEy9MvDDxwnzbDHMSCjObYf9m00z2rH9PQs/yH3r8P7MZJl6YeGHihYkXJl6YeGHihYkXJl6Yb5thTkJhZjPMbIY5CYWZzTDxwsQLEy9MvDDxwsQLEy9MvDDxwnzbDHMSCjObYcu+769jjGEyey5OQV1mM0y8MPHCxAsTL0y8MPHCxAsTL0y8MPHCLsdxvM1+BOe454WZzbB1WZYfsx/BOesY4/vsR3CO2QwTL0y8MPHCxAsTL0y8MPHCxAsTL2wdY/ya/QjOcRIKM5thTkJhTkJhZjNMvDDxwsQLEy9MvDDxwsQLEy9MvDAnoTAnoTCzGeYkFOYkFGY2w8QLEy9MvDDxwsQLEy9MvDDxwsQLcxIKcxIKM5th4oWJFyZemHhh4oX9Aa1bup4lhQM3AAAAAElFTkSuQmCC\"></img></td>\n",
       "      <td id=\"T_fe6c0_row2_col5\" class=\"data row2 col5\" >36<br>(0.4%)</td>\n",
       "    </tr>\n",
       "    <tr>\n",
       "      <td id=\"T_fe6c0_row3_col0\" class=\"data row3 col0\" >4</td>\n",
       "      <td id=\"T_fe6c0_row3_col1\" class=\"data row3 col1\" ><strong>Do Not Email</strong><br>[object]</td>\n",
       "      <td id=\"T_fe6c0_row3_col2\" class=\"data row3 col2\" >1. No<br>2. Yes</td>\n",
       "      <td id=\"T_fe6c0_row3_col3\" class=\"data row3 col3\" >8,506 (92.1%)<br>734 (7.9%)</td>\n",
       "      <td id=\"T_fe6c0_row3_col4\" class=\"data row3 col4\" ><img src = \"data:image/png;base64, iVBORw0KGgoAAAANSUhEUgAAAG8AAAAgCAYAAAAcyybZAAAAOXRFWHRTb2Z0d2FyZQBNYXRwbG90bGliIHZlcnNpb24zLjUuMywgaHR0cHM6Ly9tYXRwbG90bGliLm9yZy/NK7nSAAAACXBIWXMAAAsTAAALEwEAmpwYAAAArUlEQVR4nO3ZMQ4CIRBAUTGW05ItPJUn4GycwFNZSE2PBzC6FGbxJ/+1NCQ/TMGkMcZJTCnnfIuIbfVF9K73/myt3T+dXyJiK6U8jryU5tRar9/Oz0ddRL9nPDDjgRkPzHhgxgMzHpjxwIwHZjww44H5Mf3H9j6mkyshLscm2NTY3Hu+WmNqn7e3V9Iajk0w44EZD8x4YMYDMx6Y8cCMB2Y8MOOBGQ/MeGBuFcBe0V4uo38SomoAAAAASUVORK5CYII=\"></img></td>\n",
       "      <td id=\"T_fe6c0_row3_col5\" class=\"data row3 col5\" >0<br>(0.0%)</td>\n",
       "    </tr>\n",
       "    <tr>\n",
       "      <td id=\"T_fe6c0_row4_col0\" class=\"data row4 col0\" >5</td>\n",
       "      <td id=\"T_fe6c0_row4_col1\" class=\"data row4 col1\" ><strong>Do Not Call</strong><br>[object]</td>\n",
       "      <td id=\"T_fe6c0_row4_col2\" class=\"data row4 col2\" >1. No<br>2. Yes</td>\n",
       "      <td id=\"T_fe6c0_row4_col3\" class=\"data row4 col3\" >9,238 (100.0%)<br>2 (0.0%)</td>\n",
       "      <td id=\"T_fe6c0_row4_col4\" class=\"data row4 col4\" ><img src = \"data:image/png;base64, iVBORw0KGgoAAAANSUhEUgAAAG8AAAAgCAYAAAAcyybZAAAAOXRFWHRTb2Z0d2FyZQBNYXRwbG90bGliIHZlcnNpb24zLjUuMywgaHR0cHM6Ly9tYXRwbG90bGliLm9yZy/NK7nSAAAACXBIWXMAAAsTAAALEwEAmpwYAAAAmElEQVR4nO3ZsQkDMRAF0V3hcFNxHZzrcQXq27nrkGs4JcvAvAo+DGwg5d47xJRzzk9VXd1D9Nyrqq611q97iJ4b3QN0znhgxgMzHpjxwIwHZjww44EZD8x4YMYD82EaLP0S4vJsgo3MfHeP0JkREXf3CJ3xbIIZD8x4YMYDMx6Y8cCMB2Y8MOOBGQ/MeGDGAxsR8e0eoTN/QDELNpHAS3UAAAAASUVORK5CYII=\"></img></td>\n",
       "      <td id=\"T_fe6c0_row4_col5\" class=\"data row4 col5\" >0<br>(0.0%)</td>\n",
       "    </tr>\n",
       "    <tr>\n",
       "      <td id=\"T_fe6c0_row5_col0\" class=\"data row5 col0\" >6</td>\n",
       "      <td id=\"T_fe6c0_row5_col1\" class=\"data row5 col1\" ><strong>Converted</strong><br>[int64]</td>\n",
       "      <td id=\"T_fe6c0_row5_col2\" class=\"data row5 col2\" >Mean (sd) : 0.4 (0.5)<br>min < med < max:<br>0.0 < 0.0 < 1.0<br>IQR (CV) : 1.0 (0.8)</td>\n",
       "      <td id=\"T_fe6c0_row5_col3\" class=\"data row5 col3\" >2 distinct values</td>\n",
       "      <td id=\"T_fe6c0_row5_col4\" class=\"data row5 col4\" ><img src = \"data:image/png;base64, iVBORw0KGgoAAAANSUhEUgAAAHoAAAAyCAYAAACTUs/lAAAAOXRFWHRTb2Z0d2FyZQBNYXRwbG90bGliIHZlcnNpb24zLjUuMywgaHR0cHM6Ly9tYXRwbG90bGliLm9yZy/NK7nSAAAACXBIWXMAAAsTAAALEwEAmpwYAAAA1klEQVR4nO3auwkDMRAAUZ9xuLEucFWuQLWpAlflwIqVyxUIDk7n38xLBWJhYKNdeu8n/b/zpwfQe1xGDymlW0SsWz5prT1rrfd5Y2m2YeiIWHPOjy2flFKu80bSEVzdEIaGMDSEoSEMDWFoCENDGBrC0BCGhjA0hKEhDA1haAhDQxgaYnh4oO+y9+LH0D9i78WPqxvC0BCGhjA0hKEhDA1haAhDQxgawtAQhoYwNIShIQwNYWgIQ0MYGsLQEIaGMDSEoSEMDWFoCENDGBrC0BCGhjA0xAtJ3hvfZNT9sQAAAABJRU5ErkJggg==\"></img></td>\n",
       "      <td id=\"T_fe6c0_row5_col5\" class=\"data row5 col5\" >0<br>(0.0%)</td>\n",
       "    </tr>\n",
       "    <tr>\n",
       "      <td id=\"T_fe6c0_row6_col0\" class=\"data row6 col0\" >7</td>\n",
       "      <td id=\"T_fe6c0_row6_col1\" class=\"data row6 col1\" ><strong>TotalVisits</strong><br>[float64]</td>\n",
       "      <td id=\"T_fe6c0_row6_col2\" class=\"data row6 col2\" >Mean (sd) : 3.4 (4.9)<br>min < med < max:<br>0.0 < 3.0 < 251.0<br>IQR (CV) : 4.0 (0.7)</td>\n",
       "      <td id=\"T_fe6c0_row6_col3\" class=\"data row6 col3\" >41 distinct values</td>\n",
       "      <td id=\"T_fe6c0_row6_col4\" class=\"data row6 col4\" ><img src = \"data:image/png;base64, iVBORw0KGgoAAAANSUhEUgAAAHoAAAAyCAYAAACTUs/lAAAAOXRFWHRTb2Z0d2FyZQBNYXRwbG90bGliIHZlcnNpb24zLjUuMywgaHR0cHM6Ly9tYXRwbG90bGliLm9yZy/NK7nSAAAACXBIWXMAAAsTAAALEwEAmpwYAAAAy0lEQVR4nO3UsWnDUBhGUce4fLVcZCpPoNk0gadKEdXqlQkMLmQHfM9pH/x8cOF97ft+4vOd/3sA73F59DBN022McX3myLZtv+u63o+bxdEehh5jXOd5/nnmyLIs38dN4hV83RFCRwgdIXSE0BFCRwgdIXSE0BFCRwgdIXSE0BFCRwgdIXSE0BFCRwgdIXSE0BFCRwgdIXSE0BFCRwgdIXSE0BFCRwgdIXSE0BFCRwgdIXSE0BFCRwgdIXSE0BFCRwgdIXSE0BFCR/wBhBUPoA75qXkAAAAASUVORK5CYII=\"></img></td>\n",
       "      <td id=\"T_fe6c0_row6_col5\" class=\"data row6 col5\" >137<br>(1.5%)</td>\n",
       "    </tr>\n",
       "    <tr>\n",
       "      <td id=\"T_fe6c0_row7_col0\" class=\"data row7 col0\" >8</td>\n",
       "      <td id=\"T_fe6c0_row7_col1\" class=\"data row7 col1\" ><strong>Total Time Spent on Website</strong><br>[int64]</td>\n",
       "      <td id=\"T_fe6c0_row7_col2\" class=\"data row7 col2\" >Mean (sd) : 487.7 (548.0)<br>min < med < max:<br>0.0 < 248.0 < 2272.0<br>IQR (CV) : 924.0 (0.9)</td>\n",
       "      <td id=\"T_fe6c0_row7_col3\" class=\"data row7 col3\" >1,731 distinct values</td>\n",
       "      <td id=\"T_fe6c0_row7_col4\" class=\"data row7 col4\" ><img src = \"data:image/png;base64, iVBORw0KGgoAAAANSUhEUgAAAHoAAAAyCAYAAACTUs/lAAAAOXRFWHRTb2Z0d2FyZQBNYXRwbG90bGliIHZlcnNpb24zLjUuMywgaHR0cHM6Ly9tYXRwbG90bGliLm9yZy/NK7nSAAAACXBIWXMAAAsTAAALEwEAmpwYAAABTElEQVR4nO3csWnDQBSH8UsISMVzKxdpghZwFvAQnuC1WUsTpMsG2cONi6hWIxDIEwjuyOXk3P/7tT6OQx88ZIH0tK5rQP2e9z4AynjZ+qHruouZHWM2mabpZxzHz3zHQm6boc3s6O63mE2GYXjNdyT8BUa3CEKLILQIQosgtAhCiyC0CEKLILQIQosgtAhCiyC0CEKLILQIQosgtAhCiyC0CEKLILQIQosgtAhCiyC0CEKLILQIQosgtIjNtylTzPP83vf9R8xaXrHdR5bQTdMceMX2sTG6RRBaBKFFEFoEoUUQWgShRWT5H/3fKH5DrZrQKfHatj25+1fM2loe8FQTOvEDeOfYfWt5vFs8dOKFezOza8zaZVlOIYSo0ClqebxbPHTihTu7+3fs2t+drG7VjO5HkDKtQig76gmdUcq0CqHsqCf0jkre6N0BP9VuAPZ04D8AAAAASUVORK5CYII=\"></img></td>\n",
       "      <td id=\"T_fe6c0_row7_col5\" class=\"data row7 col5\" >0<br>(0.0%)</td>\n",
       "    </tr>\n",
       "    <tr>\n",
       "      <td id=\"T_fe6c0_row8_col0\" class=\"data row8 col0\" >9</td>\n",
       "      <td id=\"T_fe6c0_row8_col1\" class=\"data row8 col1\" ><strong>Page Views Per Visit</strong><br>[float64]</td>\n",
       "      <td id=\"T_fe6c0_row8_col2\" class=\"data row8 col2\" >Mean (sd) : 2.4 (2.2)<br>min < med < max:<br>0.0 < 2.0 < 55.0<br>IQR (CV) : 2.0 (1.1)</td>\n",
       "      <td id=\"T_fe6c0_row8_col3\" class=\"data row8 col3\" >114 distinct values</td>\n",
       "      <td id=\"T_fe6c0_row8_col4\" class=\"data row8 col4\" ><img src = \"data:image/png;base64, iVBORw0KGgoAAAANSUhEUgAAAHoAAAAyCAYAAACTUs/lAAAAOXRFWHRTb2Z0d2FyZQBNYXRwbG90bGliIHZlcnNpb24zLjUuMywgaHR0cHM6Ly9tYXRwbG90bGliLm9yZy/NK7nSAAAACXBIWXMAAAsTAAALEwEAmpwYAAAA6UlEQVR4nO3csQkCMRhAYRUhTWxzhd1N4CpOcK1r3QROZWHqa1KdEwQiRE9872sTwg8PUv77dV13+n+HrQfQdxxrBymla4xxaHlkWZZnzvnebyz1Vg0dYxymaXq0PDLP87nfSPoEv24IQ0MYGsLQEIaGMDSEoSEMDWFoCENDGBrC0BCGhjA0hKEhDA1haAhDQxgawtAQhoYwNIShIQwNYWgIQ0MYGsLQEIaGMDSEoSEMDWFoCENDGBrC0BCGhjA0hKEhDA1haAhDQxgaoroL9B2llMs4jreWuy6I3UaX0CGEkwtif5tfN8QLKsYe4U9Cr5IAAAAASUVORK5CYII=\"></img></td>\n",
       "      <td id=\"T_fe6c0_row8_col5\" class=\"data row8 col5\" >137<br>(1.5%)</td>\n",
       "    </tr>\n",
       "    <tr>\n",
       "      <td id=\"T_fe6c0_row9_col0\" class=\"data row9 col0\" >10</td>\n",
       "      <td id=\"T_fe6c0_row9_col1\" class=\"data row9 col1\" ><strong>Last Activity</strong><br>[object]</td>\n",
       "      <td id=\"T_fe6c0_row9_col2\" class=\"data row9 col2\" >1. Email Opened<br>2. SMS Sent<br>3. Olark Chat Conversation<br>4. Page Visited on Website<br>5. Converted to Lead<br>6. Email Bounced<br>7. Email Link Clicked<br>8. Form Submitted on Website<br>9. nan<br>10. Unreachable<br>11. other</td>\n",
       "      <td id=\"T_fe6c0_row9_col3\" class=\"data row9 col3\" >3,437 (37.2%)<br>2,745 (29.7%)<br>973 (10.5%)<br>640 (6.9%)<br>428 (4.6%)<br>326 (3.5%)<br>267 (2.9%)<br>116 (1.3%)<br>103 (1.1%)<br>93 (1.0%)<br>112 (1.2%)</td>\n",
       "      <td id=\"T_fe6c0_row9_col4\" class=\"data row9 col4\" ><img src = \"data:image/png;base64, iVBORw0KGgoAAAANSUhEUgAAAG8AAACzCAYAAACHOUI0AAAAOXRFWHRTb2Z0d2FyZQBNYXRwbG90bGliIHZlcnNpb24zLjUuMywgaHR0cHM6Ly9tYXRwbG90bGliLm9yZy/NK7nSAAAACXBIWXMAAAsTAAALEwEAmpwYAAACSklEQVR4nO3dMYrCUBhG0WSwTBummFW5AtfmCmZVU2id3qlFQbTJu3DOCgIXvuL9gvPtdpto+tr7A/iceGHihYkXJl6YeGHihc3ruh6XZfne+0Ne2bbtcr1ef/f+jpEclmX5Pp1Of3t/yCvn8/ln728YjdkMEy9MvDDxwsQLEy9MvDDxwsQLEy/M22bY7AdIXWYzbIjZNImfGeIk5NzzGbMZJl6YeGHihYkXJl6YeGHihYkXJl6Yt80wJ6Ewsxn29myauHG8fRJyvhmH2QwTL0y8MPHCxAsTL0y8MPHCxAsTL8zbZpiTUJjZDHs5m2ZyXC9PQk5A4zKbYeKFiRcmXph4YeKFiRcmXph4YeKFedsMcxIKM5thT2fTVDY8PQk5AzWYzTDxwsQLEy9MvDDxwsQLEy9MvDDxwrxthjkJhZnNsIfZNJkdDych56AOsxkmXph4YeKFiRcmXph4YeKFiRcmXpi3zTAnoTCzGXY3myaz5e4k5BzUYjbDxAsTL0y8MPHCxAsTL0y8MPHCxAvzthnmJBRmNsPmdV2P0zRN5rLn8M5/5zEWsxkmXph4YeKFiRcmXph4YeKFiRcmXph4YYdt2y57fwSfcc8LM5th7nlh7nlhZjNMvDDxwsQLEy9MvDDxwsQLEy9MvDAnoTAnoTCzGeYkFOYkFGY2w8QLEy9MvDDxwsQLEy9MvDDxwsQLcxIKcxIKM5thTkJhTkJhZjNMvDDxwsQLEy9MvDDxwsQLEy9MvDAnoTAnoTCzGSZemHhh4oWJFyZe2D/aVNKqqCy46AAAAABJRU5ErkJggg==\"></img></td>\n",
       "      <td id=\"T_fe6c0_row9_col5\" class=\"data row9 col5\" >103<br>(1.1%)</td>\n",
       "    </tr>\n",
       "    <tr>\n",
       "      <td id=\"T_fe6c0_row10_col0\" class=\"data row10 col0\" >11</td>\n",
       "      <td id=\"T_fe6c0_row10_col1\" class=\"data row10 col1\" ><strong>Country</strong><br>[object]</td>\n",
       "      <td id=\"T_fe6c0_row10_col2\" class=\"data row10 col2\" >1. India<br>2. nan<br>3. United States<br>4. United Arab Emirates<br>5. Singapore<br>6. Saudi Arabia<br>7. United Kingdom<br>8. Australia<br>9. Qatar<br>10. Bahrain<br>11. other</td>\n",
       "      <td id=\"T_fe6c0_row10_col3\" class=\"data row10 col3\" >6,492 (70.3%)<br>2,461 (26.6%)<br>69 (0.7%)<br>53 (0.6%)<br>24 (0.3%)<br>21 (0.2%)<br>15 (0.2%)<br>13 (0.1%)<br>10 (0.1%)<br>7 (0.1%)<br>75 (0.8%)</td>\n",
       "      <td id=\"T_fe6c0_row10_col4\" class=\"data row10 col4\" ><img src = \"data:image/png;base64, iVBORw0KGgoAAAANSUhEUgAAAG8AAACzCAYAAACHOUI0AAAAOXRFWHRTb2Z0d2FyZQBNYXRwbG90bGliIHZlcnNpb24zLjUuMywgaHR0cHM6Ly9tYXRwbG90bGliLm9yZy/NK7nSAAAACXBIWXMAAAsTAAALEwEAmpwYAAACUElEQVR4nO3aoY3jUBhG0eco0NQKWL5TTypIbalg+lk+IMbmmRrW5OVK51TwpCv9wJ+X9/s9aLrMfgDniRcmXph4YeKFiRcmXtiybdt9Xdfb7IfUHMfx2vf9e+Ybruu63h6Px8/MRxQ9n88/s9/gbIaJFyZemHhh4oWJFyZemHhh4oWJF+bb5kmf8G1z8QNSl7MZNu1sfsLZqZs2CX3CpFLnbIaJFyZemHhh4oWJFyZemHhh4oWJF+bbZphJKMzZDFu2bbuPMYYT1nP1C0SXsxkmXph4YeKFiRcmXph4YeKFiRcmXtj1OI7X7EdwjkkozNkMMwmFmYTCnM0w8cLECxMvTLww8cLECxMvTLww8cJMQmEmoTBnM+yyLMvX7EdwzmWM8Xf2IzjH2QwTL0y8MPHCxAsTL0y8MPHCxAsTL+wyxvg3+xGcYxIKczbDTEJhJqEwZzNMvDDxwsQLEy9MvDDxwsQLEy9MvDCTUJhJKMzZDDMJhZmEwpzNMPHCxAsTL0y8MPHCxAsTL0y8MPHCTEJhJqEwZzPMJBRmEgpzNsPECxMvTLww8cLECxMvTLww8cLECxMvzJ4XZs8LczbD7Hlh9rwwZzNMvDDxwsQLEy9MvDDxwsQLEy9MvDCTUJhJKMzZDDMJhZmEwpzNMPHCxAsTL0y8MPHCxAsTL0y8MPHCTEJhJqEwZzNs2bbtPsYY+75/z34M/+e6rutt9iM4x9kMEy9MvDDxwsQLEy9MvDDxwsQLEy/sehzHa/YjOMckFOZshokXJl6YeGHihYkX9gs3CWydPTACSQAAAABJRU5ErkJggg==\"></img></td>\n",
       "      <td id=\"T_fe6c0_row10_col5\" class=\"data row10 col5\" >2,461<br>(26.6%)</td>\n",
       "    </tr>\n",
       "    <tr>\n",
       "      <td id=\"T_fe6c0_row11_col0\" class=\"data row11 col0\" >12</td>\n",
       "      <td id=\"T_fe6c0_row11_col1\" class=\"data row11 col1\" ><strong>Specialization</strong><br>[object]</td>\n",
       "      <td id=\"T_fe6c0_row11_col2\" class=\"data row11 col2\" >1. Select<br>2. nan<br>3. Finance Management<br>4. Human Resource Management<br>5. Marketing Management<br>6. Operations Management<br>7. Business Administration<br>8. IT Projects Management<br>9. Supply Chain Management<br>10. Banking, Investment And Insura<br>11. other</td>\n",
       "      <td id=\"T_fe6c0_row11_col3\" class=\"data row11 col3\" >1,942 (21.0%)<br>1,438 (15.6%)<br>976 (10.6%)<br>848 (9.2%)<br>838 (9.1%)<br>503 (5.4%)<br>403 (4.4%)<br>366 (4.0%)<br>349 (3.8%)<br>338 (3.7%)<br>1,239 (13.4%)</td>\n",
       "      <td id=\"T_fe6c0_row11_col4\" class=\"data row11 col4\" ><img src = \"data:image/png;base64, iVBORw0KGgoAAAANSUhEUgAAAG8AAACzCAYAAACHOUI0AAAAOXRFWHRTb2Z0d2FyZQBNYXRwbG90bGliIHZlcnNpb24zLjUuMywgaHR0cHM6Ly9tYXRwbG90bGliLm9yZy/NK7nSAAAACXBIWXMAAAsTAAALEwEAmpwYAAACR0lEQVR4nO3dsWnDYBhFUTukVGtcZKpMoNk8QaZKEdfqnSKlZZCDhXThnAFE4MIr/i/g4+12O9D0tvUfwP+JFyZemHhh4oWJFyZe2PF0On0Ow3Be4+PTNP1cr9evNb7N4fA+DMN5HMfvNT5+uVw+1vguf8xmmHhh4oWJFyZemHhh4oWJFyZemHhh3jbDjv4Bqctshr1kNs3jNl5yEnL62YbZDBMvTLww8cLECxMvTLww8cLECxMvzNtmmJNQmNkMe3o2TeR+PH0Scv7ZD7MZJl6YeGHihYkXJl6YeGHihYkXJl6Yt80wJ6Ewsxm2eDbN5f4sPgk5Be2P2QwTL0y8MPHCxAsTL0y8MPHCxAsTL8zbZpiTUJjZDDObYU5CYWYzTLww8cLECxMvTLww8cLECxMvTLwwb5thTkJhZjPs4Wyayf17eBJyAto/sxkmXph4YeKFiRcmXph4YeKFiRcmXpi3zTAnoTCzGTY7myazYfYk5BzUYDbDxAsTL0y8MPHCxAsTL0y8MPHCxAvzthnmJBRmNsPuZtNkdtydhJyDOsxmmHhh4oWJFyZemHhh4oWJFyZemHhh4oV5mA5zzwszm2FmM8w9L8xshokXJl6YeGHihYkXJl6YeGHihYkX5m0zzEkozGyGmc0wJ6EwsxkmXph4YeKFiRcmXph4YeKFiRcmXpi3zTAnoTCzGfbw9/OWMLHbmv0hqKWcj7ZlNsPECxMvTLww8cLECxMvTLww8cLEC/O2GeYkFGY2w8QLEy9MvDDxwsQL+wWJdAON5LcFdgAAAABJRU5ErkJggg==\"></img></td>\n",
       "      <td id=\"T_fe6c0_row11_col5\" class=\"data row11 col5\" >1,438<br>(15.6%)</td>\n",
       "    </tr>\n",
       "    <tr>\n",
       "      <td id=\"T_fe6c0_row12_col0\" class=\"data row12 col0\" >13</td>\n",
       "      <td id=\"T_fe6c0_row12_col1\" class=\"data row12 col1\" ><strong>How did you hear about X Education</strong><br>[object]</td>\n",
       "      <td id=\"T_fe6c0_row12_col2\" class=\"data row12 col2\" >1. Select<br>2. nan<br>3. Online Search<br>4. Word Of Mouth<br>5. Student of SomeSchool<br>6. Other<br>7. Multiple Sources<br>8. Advertisements<br>9. Social Media<br>10. Email<br>11. other</td>\n",
       "      <td id=\"T_fe6c0_row12_col3\" class=\"data row12 col3\" >5,043 (54.6%)<br>2,207 (23.9%)<br>808 (8.7%)<br>348 (3.8%)<br>310 (3.4%)<br>186 (2.0%)<br>152 (1.6%)<br>70 (0.8%)<br>67 (0.7%)<br>26 (0.3%)<br>23 (0.2%)</td>\n",
       "      <td id=\"T_fe6c0_row12_col4\" class=\"data row12 col4\" ><img src = \"data:image/png;base64, iVBORw0KGgoAAAANSUhEUgAAAG8AAACzCAYAAACHOUI0AAAAOXRFWHRTb2Z0d2FyZQBNYXRwbG90bGliIHZlcnNpb24zLjUuMywgaHR0cHM6Ly9tYXRwbG90bGliLm9yZy/NK7nSAAAACXBIWXMAAAsTAAALEwEAmpwYAAACWklEQVR4nO3dsW3bUBhG0UdCJVvCRfp4Hk+g2TRB9kmfwqrZy1XSuDGYQNRVzpngARf4Cv4CNN1ut0HTfPQD2E+8MPHCxAsTL0y8MPHCpnVd35ZleTn6Ife0bdv79Xr9cfQ7/tZpWZaX8/n86+iH3NPlcvl29Bv+BbMZJl6YeGHihYkXJl6YeGHihYkXJl6Yb5thkx8gdZnNsLvO5rPM1aO460noWU4xj8JshokXJl6YeGHihYkXJl6YeGHihYkX5ttmmJNQmNkM+/JsmrzH8+WTkHPO4zGbYeKFiRcmXph4YeKFiRcmXph4YeKF+bYZ5iQUZjbDPs2meez4dBJy+ukwm2HihYkXJl6YeGHihYkXJl6YeGHihfm2GeYkFGY2w8xmmJNQmNkMEy9MvDDxwsQLEy9MvDDxwsQLEy/Mt80wJ6Ewsxn2ZzbNZc/8+yT0v/2H3jMwm2HihYkXJl6YeGHihYkXJl6YeGHihfm2GeYkFGY2w8xmmJNQmNkMEy9MvDDxwsQLEy9MvDDxwsQLEy/Mt80wJ6Ewsxk2rev6NsYYJrPn5BTUZTbDxAsTL0y8MPHCxAsTL0y8MPHCxAsTL+y0bdv70Y9gH/e8MLMZ5p4X5p4XZjbDxAsTL0y8MPHCxAsTL0y8MPHCxAtzEgpzEgozm2HzNE2vRz+CfeYxxvejH8E+ZjNMvDDxwsQLEy9MvDDxwsQLEy9MvLB5jPHz6Eewj5NQmNkMcxIKcxIKM5th4oWJFyZemHhh4oWJFyZemHhh4oU5CYU5CYWZzTDxwsQLEy9MvDDxwj4A11PBdMHY/18AAAAASUVORK5CYII=\"></img></td>\n",
       "      <td id=\"T_fe6c0_row12_col5\" class=\"data row12 col5\" >2,207<br>(23.9%)</td>\n",
       "    </tr>\n",
       "    <tr>\n",
       "      <td id=\"T_fe6c0_row13_col0\" class=\"data row13 col0\" >14</td>\n",
       "      <td id=\"T_fe6c0_row13_col1\" class=\"data row13 col1\" ><strong>What is your current occupation</strong><br>[object]</td>\n",
       "      <td id=\"T_fe6c0_row13_col2\" class=\"data row13 col2\" >1. Unemployed<br>2. nan<br>3. Working Professional<br>4. Student<br>5. Other<br>6. Housewife<br>7. Businessman</td>\n",
       "      <td id=\"T_fe6c0_row13_col3\" class=\"data row13 col3\" >5,600 (60.6%)<br>2,690 (29.1%)<br>706 (7.6%)<br>210 (2.3%)<br>16 (0.2%)<br>10 (0.1%)<br>8 (0.1%)</td>\n",
       "      <td id=\"T_fe6c0_row13_col4\" class=\"data row13 col4\" ><img src = \"data:image/png;base64, iVBORw0KGgoAAAANSUhEUgAAAG8AAAByCAYAAABdjY8lAAAAOXRFWHRTb2Z0d2FyZQBNYXRwbG90bGliIHZlcnNpb24zLjUuMywgaHR0cHM6Ly9tYXRwbG90bGliLm9yZy/NK7nSAAAACXBIWXMAAAsTAAALEwEAmpwYAAABnUlEQVR4nO3ZoW3DUBhGUdsqNI0Cytt5OkFmywTdpzygweEpTpFl8nylcyZ40pU+8P75+XxONC2jH8B+4oWJFyZe2Hw6nb7WdT2PfshRPB6P3/v9/j36HVu8ret6vlwut9EPOYrr9fo++g1bmc0w8cLECxMvTLww8cLECxMvTLww8cL8bf5T+tucXdK7zGbY8NkszdTRDD8JlU4wR2M2w8QLEy9MvDDxwsQLEy9MvDDxwsQLEy/Mx3SYe16Y2QzbNJum7Zg23fPc3I7JbIaJFyZemHhh4oWJFyZemHhh4oWJF+ZvM8xJKMxshr3MpnlseTkJOf20mM0w8cLECxMvTLww8cLECxMvTLww8cL8bYY5CYWZzbBlnufP0Y9gn2Wapo/Rj2AfsxkmXph4YeKFiRcmXph4YeKFiRcmXtgyTdPP6Eewj5NQmNkMcxIKcxIKM5th4oWJFyZemHhh4oWJFyZemHhh4oWJF+aeF+aeF2Y2w9zzwtzzwsxmmHhh4oWJFyZemHhh4oWJFyZemHhhTkJhTkJhZjNMvDDxwv4A/bJtFxrxYHsAAAAASUVORK5CYII=\"></img></td>\n",
       "      <td id=\"T_fe6c0_row13_col5\" class=\"data row13 col5\" >2,690<br>(29.1%)</td>\n",
       "    </tr>\n",
       "    <tr>\n",
       "      <td id=\"T_fe6c0_row14_col0\" class=\"data row14 col0\" >15</td>\n",
       "      <td id=\"T_fe6c0_row14_col1\" class=\"data row14 col1\" ><strong>What matters most to you in choosing a course</strong><br>[object]</td>\n",
       "      <td id=\"T_fe6c0_row14_col2\" class=\"data row14 col2\" >1. Better Career Prospects<br>2. nan<br>3. Flexibility & Convenience<br>4. Other</td>\n",
       "      <td id=\"T_fe6c0_row14_col3\" class=\"data row14 col3\" >6,528 (70.6%)<br>2,709 (29.3%)<br>2 (0.0%)<br>1 (0.0%)</td>\n",
       "      <td id=\"T_fe6c0_row14_col4\" class=\"data row14 col4\" ><img src = \"data:image/png;base64, iVBORw0KGgoAAAANSUhEUgAAAG8AAABBCAYAAADfY/omAAAAOXRFWHRTb2Z0d2FyZQBNYXRwbG90bGliIHZlcnNpb24zLjUuMywgaHR0cHM6Ly9tYXRwbG90bGliLm9yZy/NK7nSAAAACXBIWXMAAAsTAAALEwEAmpwYAAABEUlEQVR4nO3ZoQ3DMBBA0bNVaGoFlLfzdILMlgm6T3lAg8PdHVxw+dJ/C/ikLx3wlTFGiKlmD6B5xgMrvfdXa23JHoToPM/vcRzvrPdvrbVlXdc9awCybdvume+7NsGMB2Y8MOOBGQ/MeGDGAzMemPHAjAfm3+Yfsv82i/c8Ltcm2CXWZvb6obrESSj7tELl2gQzHpjxwIwHZjww44EZD8x4YMYDMx6Y8cD8mAbzngfm2gSrpZRn9hCaUyPikT2E5rg2wYwHZjww44EZD8x4YMYDMx6Y8cCMB1Yj4pM9hOZ4EgJzbYIZD8x7Hpj3PDDXJpjxwIwHZjww44EZD8x4YMYDMx6Y8cC854F5zwNzbYL9AGpNOi2zOt0zAAAAAElFTkSuQmCC\"></img></td>\n",
       "      <td id=\"T_fe6c0_row14_col5\" class=\"data row14 col5\" >2,709<br>(29.3%)</td>\n",
       "    </tr>\n",
       "    <tr>\n",
       "      <td id=\"T_fe6c0_row15_col0\" class=\"data row15 col0\" >16</td>\n",
       "      <td id=\"T_fe6c0_row15_col1\" class=\"data row15 col1\" ><strong>Search</strong><br>[object]</td>\n",
       "      <td id=\"T_fe6c0_row15_col2\" class=\"data row15 col2\" >1. No<br>2. Yes</td>\n",
       "      <td id=\"T_fe6c0_row15_col3\" class=\"data row15 col3\" >9,226 (99.8%)<br>14 (0.2%)</td>\n",
       "      <td id=\"T_fe6c0_row15_col4\" class=\"data row15 col4\" ><img src = \"data:image/png;base64, iVBORw0KGgoAAAANSUhEUgAAAG8AAAAgCAYAAAAcyybZAAAAOXRFWHRTb2Z0d2FyZQBNYXRwbG90bGliIHZlcnNpb24zLjUuMywgaHR0cHM6Ly9tYXRwbG90bGliLm9yZy/NK7nSAAAACXBIWXMAAAsTAAALEwEAmpwYAAAAmElEQVR4nO3ZsQkDMRAF0V3hcFNxHZzrcQXq27nrkGs4JcvAvAo+DGwg5d47xJRzzk9VXd1D9Nyrqq611q97iJ4b3QN0znhgxgMzHpjxwIwHZjww44EZD8x4YMYD82EaLP0S4vJsgo3MfHeP0JkREXf3CJ3xbIIZD8x4YMYDMx6Y8cCMB2Y8MOOBGQ/MeGDGAxsR8e0eoTN/QDELNpHAS3UAAAAASUVORK5CYII=\"></img></td>\n",
       "      <td id=\"T_fe6c0_row15_col5\" class=\"data row15 col5\" >0<br>(0.0%)</td>\n",
       "    </tr>\n",
       "    <tr>\n",
       "      <td id=\"T_fe6c0_row16_col0\" class=\"data row16 col0\" >17</td>\n",
       "      <td id=\"T_fe6c0_row16_col1\" class=\"data row16 col1\" ><strong>Newspaper Article</strong><br>[object]</td>\n",
       "      <td id=\"T_fe6c0_row16_col2\" class=\"data row16 col2\" >1. No<br>2. Yes</td>\n",
       "      <td id=\"T_fe6c0_row16_col3\" class=\"data row16 col3\" >9,238 (100.0%)<br>2 (0.0%)</td>\n",
       "      <td id=\"T_fe6c0_row16_col4\" class=\"data row16 col4\" ><img src = \"data:image/png;base64, iVBORw0KGgoAAAANSUhEUgAAAG8AAAAgCAYAAAAcyybZAAAAOXRFWHRTb2Z0d2FyZQBNYXRwbG90bGliIHZlcnNpb24zLjUuMywgaHR0cHM6Ly9tYXRwbG90bGliLm9yZy/NK7nSAAAACXBIWXMAAAsTAAALEwEAmpwYAAAAmElEQVR4nO3ZsQkDMRAF0V3hcFNxHZzrcQXq27nrkGs4JcvAvAo+DGwg5d47xJRzzk9VXd1D9Nyrqq611q97iJ4b3QN0znhgxgMzHpjxwIwHZjww44EZD8x4YMYD82EaLP0S4vJsgo3MfHeP0JkREXf3CJ3xbIIZD8x4YMYDMx6Y8cCMB2Y8MOOBGQ/MeGDGAxsR8e0eoTN/QDELNpHAS3UAAAAASUVORK5CYII=\"></img></td>\n",
       "      <td id=\"T_fe6c0_row16_col5\" class=\"data row16 col5\" >0<br>(0.0%)</td>\n",
       "    </tr>\n",
       "    <tr>\n",
       "      <td id=\"T_fe6c0_row17_col0\" class=\"data row17 col0\" >18</td>\n",
       "      <td id=\"T_fe6c0_row17_col1\" class=\"data row17 col1\" ><strong>X Education Forums</strong><br>[object]</td>\n",
       "      <td id=\"T_fe6c0_row17_col2\" class=\"data row17 col2\" >1. No<br>2. Yes</td>\n",
       "      <td id=\"T_fe6c0_row17_col3\" class=\"data row17 col3\" >9,239 (100.0%)<br>1 (0.0%)</td>\n",
       "      <td id=\"T_fe6c0_row17_col4\" class=\"data row17 col4\" ><img src = \"data:image/png;base64, iVBORw0KGgoAAAANSUhEUgAAAG8AAAAgCAYAAAAcyybZAAAAOXRFWHRTb2Z0d2FyZQBNYXRwbG90bGliIHZlcnNpb24zLjUuMywgaHR0cHM6Ly9tYXRwbG90bGliLm9yZy/NK7nSAAAACXBIWXMAAAsTAAALEwEAmpwYAAAAmElEQVR4nO3ZsQkDMRAF0V3hcFNxHZzrcQXq27nrkGs4JcvAvAo+DGwg5d47xJRzzk9VXd1D9Nyrqq611q97iJ4b3QN0znhgxgMzHpjxwIwHZjww44EZD8x4YMYD82EaLP0S4vJsgo3MfHeP0JkREXf3CJ3xbIIZD8x4YMYDMx6Y8cCMB2Y8MOOBGQ/MeGDGAxsR8e0eoTN/QDELNpHAS3UAAAAASUVORK5CYII=\"></img></td>\n",
       "      <td id=\"T_fe6c0_row17_col5\" class=\"data row17 col5\" >0<br>(0.0%)</td>\n",
       "    </tr>\n",
       "    <tr>\n",
       "      <td id=\"T_fe6c0_row18_col0\" class=\"data row18 col0\" >19</td>\n",
       "      <td id=\"T_fe6c0_row18_col1\" class=\"data row18 col1\" ><strong>Newspaper</strong><br>[object]</td>\n",
       "      <td id=\"T_fe6c0_row18_col2\" class=\"data row18 col2\" >1. No<br>2. Yes</td>\n",
       "      <td id=\"T_fe6c0_row18_col3\" class=\"data row18 col3\" >9,239 (100.0%)<br>1 (0.0%)</td>\n",
       "      <td id=\"T_fe6c0_row18_col4\" class=\"data row18 col4\" ><img src = \"data:image/png;base64, iVBORw0KGgoAAAANSUhEUgAAAG8AAAAgCAYAAAAcyybZAAAAOXRFWHRTb2Z0d2FyZQBNYXRwbG90bGliIHZlcnNpb24zLjUuMywgaHR0cHM6Ly9tYXRwbG90bGliLm9yZy/NK7nSAAAACXBIWXMAAAsTAAALEwEAmpwYAAAAmElEQVR4nO3ZsQkDMRAF0V3hcFNxHZzrcQXq27nrkGs4JcvAvAo+DGwg5d47xJRzzk9VXd1D9Nyrqq611q97iJ4b3QN0znhgxgMzHpjxwIwHZjww44EZD8x4YMYD82EaLP0S4vJsgo3MfHeP0JkREXf3CJ3xbIIZD8x4YMYDMx6Y8cCMB2Y8MOOBGQ/MeGDGAxsR8e0eoTN/QDELNpHAS3UAAAAASUVORK5CYII=\"></img></td>\n",
       "      <td id=\"T_fe6c0_row18_col5\" class=\"data row18 col5\" >0<br>(0.0%)</td>\n",
       "    </tr>\n",
       "    <tr>\n",
       "      <td id=\"T_fe6c0_row19_col0\" class=\"data row19 col0\" >20</td>\n",
       "      <td id=\"T_fe6c0_row19_col1\" class=\"data row19 col1\" ><strong>Digital Advertisement</strong><br>[object]</td>\n",
       "      <td id=\"T_fe6c0_row19_col2\" class=\"data row19 col2\" >1. No<br>2. Yes</td>\n",
       "      <td id=\"T_fe6c0_row19_col3\" class=\"data row19 col3\" >9,236 (100.0%)<br>4 (0.0%)</td>\n",
       "      <td id=\"T_fe6c0_row19_col4\" class=\"data row19 col4\" ><img src = \"data:image/png;base64, iVBORw0KGgoAAAANSUhEUgAAAG8AAAAgCAYAAAAcyybZAAAAOXRFWHRTb2Z0d2FyZQBNYXRwbG90bGliIHZlcnNpb24zLjUuMywgaHR0cHM6Ly9tYXRwbG90bGliLm9yZy/NK7nSAAAACXBIWXMAAAsTAAALEwEAmpwYAAAAmElEQVR4nO3ZsQkDMRAF0V3hcFNxHZzrcQXq27nrkGs4JcvAvAo+DGwg5d47xJRzzk9VXd1D9Nyrqq611q97iJ4b3QN0znhgxgMzHpjxwIwHZjww44EZD8x4YMYD82EaLP0S4vJsgo3MfHeP0JkREXf3CJ3xbIIZD8x4YMYDMx6Y8cCMB2Y8MOOBGQ/MeGDGAxsR8e0eoTN/QDELNpHAS3UAAAAASUVORK5CYII=\"></img></td>\n",
       "      <td id=\"T_fe6c0_row19_col5\" class=\"data row19 col5\" >0<br>(0.0%)</td>\n",
       "    </tr>\n",
       "    <tr>\n",
       "      <td id=\"T_fe6c0_row20_col0\" class=\"data row20 col0\" >21</td>\n",
       "      <td id=\"T_fe6c0_row20_col1\" class=\"data row20 col1\" ><strong>Through Recommendations</strong><br>[object]</td>\n",
       "      <td id=\"T_fe6c0_row20_col2\" class=\"data row20 col2\" >1. No<br>2. Yes</td>\n",
       "      <td id=\"T_fe6c0_row20_col3\" class=\"data row20 col3\" >9,233 (99.9%)<br>7 (0.1%)</td>\n",
       "      <td id=\"T_fe6c0_row20_col4\" class=\"data row20 col4\" ><img src = \"data:image/png;base64, iVBORw0KGgoAAAANSUhEUgAAAG8AAAAgCAYAAAAcyybZAAAAOXRFWHRTb2Z0d2FyZQBNYXRwbG90bGliIHZlcnNpb24zLjUuMywgaHR0cHM6Ly9tYXRwbG90bGliLm9yZy/NK7nSAAAACXBIWXMAAAsTAAALEwEAmpwYAAAAmElEQVR4nO3ZsQkDMRAF0V3hcFNxHZzrcQXq27nrkGs4JcvAvAo+DGwg5d47xJRzzk9VXd1D9Nyrqq611q97iJ4b3QN0znhgxgMzHpjxwIwHZjww44EZD8x4YMYD82EaLP0S4vJsgo3MfHeP0JkREXf3CJ3xbIIZD8x4YMYDMx6Y8cCMB2Y8MOOBGQ/MeGDGAxsR8e0eoTN/QDELNpHAS3UAAAAASUVORK5CYII=\"></img></td>\n",
       "      <td id=\"T_fe6c0_row20_col5\" class=\"data row20 col5\" >0<br>(0.0%)</td>\n",
       "    </tr>\n",
       "    <tr>\n",
       "      <td id=\"T_fe6c0_row21_col0\" class=\"data row21 col0\" >22</td>\n",
       "      <td id=\"T_fe6c0_row21_col1\" class=\"data row21 col1\" ><strong>Lead Profile</strong><br>[object]</td>\n",
       "      <td id=\"T_fe6c0_row21_col2\" class=\"data row21 col2\" >1. Select<br>2. nan<br>3. Potential Lead<br>4. Other Leads<br>5. Student of SomeSchool<br>6. Lateral Student<br>7. Dual Specialization Student</td>\n",
       "      <td id=\"T_fe6c0_row21_col3\" class=\"data row21 col3\" >4,146 (44.9%)<br>2,709 (29.3%)<br>1,613 (17.5%)<br>487 (5.3%)<br>241 (2.6%)<br>24 (0.3%)<br>20 (0.2%)</td>\n",
       "      <td id=\"T_fe6c0_row21_col4\" class=\"data row21 col4\" ><img src = \"data:image/png;base64, iVBORw0KGgoAAAANSUhEUgAAAG8AAAByCAYAAABdjY8lAAAAOXRFWHRTb2Z0d2FyZQBNYXRwbG90bGliIHZlcnNpb24zLjUuMywgaHR0cHM6Ly9tYXRwbG90bGliLm9yZy/NK7nSAAAACXBIWXMAAAsTAAALEwEAmpwYAAABpElEQVR4nO3ZsW3CUBhGURuldIso0ifzZAJmY4Lskz5FqOlJTUFjLOwrzpngSVf6iveP1+t1oGm39gOYT7ww8cLECxv3+/3XNE2HtR/yqMvl8nc+n7/XfsczvU3TdDgej79rP+RRp9Ppfe03PJvZDBMvTLww8cLECxMvTLww8cLECxMvzN9m2OiS3mU2wzYxm684eUvYxEnoFc85SzCbYeKFiRcmXph4YeKFiRcmXph4YeKFiRfmYzrMPS/MbIYtOpvm77kWvee5yz2X2QwTL0y8MPHCxAsTL0y8MPHCxAsTL8zfZpiTUJjZDLs7myZw++6ehJx3ts9shokXJl6YeGHihYkXJl6YeGHihYkX5m8zzEkozGyG3cymqWy5OQk5A7WYzTDxwsQLEy9MvDDxwsQLEy9MvDDxwvxthjkJhZnNsN04jp9rP4J5dsMwfKz9COYxm2HihYkXJl6YeGHihYkXJl6YeGHihYkXthuG4WftRzCPe16Y2Qxzzwtzzwszm2HihYkXJl6YeGHihYkXJl6YeGHihTkJhTkJhZnNMPHCxAv7B0CfgCKZGJkjAAAAAElFTkSuQmCC\"></img></td>\n",
       "      <td id=\"T_fe6c0_row21_col5\" class=\"data row21 col5\" >2,709<br>(29.3%)</td>\n",
       "    </tr>\n",
       "    <tr>\n",
       "      <td id=\"T_fe6c0_row22_col0\" class=\"data row22 col0\" >23</td>\n",
       "      <td id=\"T_fe6c0_row22_col1\" class=\"data row22 col1\" ><strong>City</strong><br>[object]</td>\n",
       "      <td id=\"T_fe6c0_row22_col2\" class=\"data row22 col2\" >1. Mumbai<br>2. Select<br>3. nan<br>4. Thane & Outskirts<br>5. Other Cities<br>6. Other Cities of Maharashtra<br>7. Other Metro Cities<br>8. Tier II Cities</td>\n",
       "      <td id=\"T_fe6c0_row22_col3\" class=\"data row22 col3\" >3,222 (34.9%)<br>2,249 (24.3%)<br>1,420 (15.4%)<br>752 (8.1%)<br>686 (7.4%)<br>457 (4.9%)<br>380 (4.1%)<br>74 (0.8%)</td>\n",
       "      <td id=\"T_fe6c0_row22_col4\" class=\"data row22 col4\" ><img src = \"data:image/png;base64, iVBORw0KGgoAAAANSUhEUgAAAG8AAACCCAYAAABIH5Y8AAAAOXRFWHRTb2Z0d2FyZQBNYXRwbG90bGliIHZlcnNpb24zLjUuMywgaHR0cHM6Ly9tYXRwbG90bGliLm9yZy/NK7nSAAAACXBIWXMAAAsTAAALEwEAmpwYAAAB1UlEQVR4nO3dsW3CUBhGURNRurVSZComYDYmyFQpQu2eLAACEcTzlc6ZwNKVvuL9SOwul8tE08foD+B54oWJFyZe2G5ZlsM8z5+jP+SadV1/z+fz9+jv2Kr9PM+fx+PxZ/SHXHM6nb5Gf8OWmc0w8cLECxMvTLww8cLECxMvTLww8cLEC/MwHbbzM4gusxn21tk0g6/11nue+9xrmc0w8cLECxMvTLww8cLECxMvTLww8cK8bYY5CYWZzbCXzKY5HOMlJyGnnjHMZph4YeKFiRcmXph4YeKFiRcmXph4Yd42w5yEwsxm2EOzaRa36aGTkJPPNpnNMPHCxAsTL0y8MPHCxAsTL0y8MPHCvG2GOQmFmc2wu7NpMrfr7knIOWi7zGaYeGHihYkXJl6YeGHihYkXJl6YeGHeNsOchMLMZtjN2TSX23fzJOQUtH1mM0y8MPHCxAsTL0y8MPHCxAsTL0y8MPHCPEyHueeFmc2wq7NpMhuu3vPc8hrMZph4YeKFiRcmXph4YeKFiRcmXph4Yd42w5yEwsxm2G5ZlsM0TZOZ7Nn/948PGcdshokXJl6YeGHihYkXJl6YeGHihYkXtl/X9Xf0R/AcJ6EwsxkmXph4YeKF/QE91rFUw7OPSQAAAABJRU5ErkJggg==\"></img></td>\n",
       "      <td id=\"T_fe6c0_row22_col5\" class=\"data row22 col5\" >1,420<br>(15.4%)</td>\n",
       "    </tr>\n",
       "    <tr>\n",
       "      <td id=\"T_fe6c0_row23_col0\" class=\"data row23 col0\" >24</td>\n",
       "      <td id=\"T_fe6c0_row23_col1\" class=\"data row23 col1\" ><strong>A free copy of Mastering The Interview</strong><br>[object]</td>\n",
       "      <td id=\"T_fe6c0_row23_col2\" class=\"data row23 col2\" >1. No<br>2. Yes</td>\n",
       "      <td id=\"T_fe6c0_row23_col3\" class=\"data row23 col3\" >6,352 (68.7%)<br>2,888 (31.3%)</td>\n",
       "      <td id=\"T_fe6c0_row23_col4\" class=\"data row23 col4\" ><img src = \"data:image/png;base64, iVBORw0KGgoAAAANSUhEUgAAAG8AAAAgCAYAAAAcyybZAAAAOXRFWHRTb2Z0d2FyZQBNYXRwbG90bGliIHZlcnNpb24zLjUuMywgaHR0cHM6Ly9tYXRwbG90bGliLm9yZy/NK7nSAAAACXBIWXMAAAsTAAALEwEAmpwYAAAAqklEQVR4nO3ZsQ1DIQwAUROldIt+kakyAbMxQaZKEWp6ssNv4KR7E1g6yYVd1lohplJrfWfmtXsQkjnnb4zx2T3HMzOv1tp39yAkvffX7hkiIh67B9B9xgMzHpjxwIwHZjww44EZD8x4YMYDMx6Yh+kbTjlMF19CXK5NsKPW5inriOKof94pfzIK1yaY8cCMB2Y8MOOBGQ/MeGDGAzMemPHAjAdmPDC/CmB/0V4uo1uSRf0AAAAASUVORK5CYII=\"></img></td>\n",
       "      <td id=\"T_fe6c0_row23_col5\" class=\"data row23 col5\" >0<br>(0.0%)</td>\n",
       "    </tr>\n",
       "    <tr>\n",
       "      <td id=\"T_fe6c0_row24_col0\" class=\"data row24 col0\" >25</td>\n",
       "      <td id=\"T_fe6c0_row24_col1\" class=\"data row24 col1\" ><strong>Last Notable Activity</strong><br>[object]</td>\n",
       "      <td id=\"T_fe6c0_row24_col2\" class=\"data row24 col2\" >1. Modified<br>2. Email Opened<br>3. SMS Sent<br>4. Page Visited on Website<br>5. Olark Chat Conversation<br>6. Email Link Clicked<br>7. Email Bounced<br>8. Unsubscribed<br>9. Unreachable<br>10. Had a Phone Conversation<br>11. other</td>\n",
       "      <td id=\"T_fe6c0_row24_col3\" class=\"data row24 col3\" >3,407 (36.9%)<br>2,827 (30.6%)<br>2,172 (23.5%)<br>318 (3.4%)<br>183 (2.0%)<br>173 (1.9%)<br>60 (0.6%)<br>47 (0.5%)<br>32 (0.3%)<br>14 (0.2%)<br>7 (0.1%)</td>\n",
       "      <td id=\"T_fe6c0_row24_col4\" class=\"data row24 col4\" ><img src = \"data:image/png;base64, iVBORw0KGgoAAAANSUhEUgAAAG8AAACzCAYAAACHOUI0AAAAOXRFWHRTb2Z0d2FyZQBNYXRwbG90bGliIHZlcnNpb24zLjUuMywgaHR0cHM6Ly9tYXRwbG90bGliLm9yZy/NK7nSAAAACXBIWXMAAAsTAAALEwEAmpwYAAACVklEQVR4nO3bsW3bUBhG0UdCJVvCRfpkHk+g2TRB9knvwqrZK1XSGDAgwjB5gXMmeMAFvoK/ND0ej0HTfPQD2E+8MPHCxAsTL0y8MPHCpnVdX5dleTn6IZ/Ztu39fr//PvodZ3NZluXler2+Hf2Qz9xutx9Hv+GMzGaYeGHihYkXJl6YeGHihYkXJl6YeGG+bYZNfoDUZTbDTjObpvF5pzkJOfs8z2yGiRcmXph4YeKFiRcmXph4YeKFiRfm22aYk1CY2Qz7ttk0i1/v205CTj5fz2yGiRcmXph4YeKFiRcmXph4YeKFiRfm22aYk1CY2Qz7MJvmrePDScjppsNshokXJl6YeGHihYkXJl6YeGHihYkX5ttmmJNQmNkM+z+b5rJn/ncSOsO/Y3mO2QwTL0y8MPHCxAsTL0y8MPHCxAsTL8y3zTAnoTCzGWY2w5yEwsxmmHhh4oWJFyZemHhh4oWJFyZemHhhvm2GOQmFmc2waV3X1zHGMJk9F6egLrMZJl6YeGHihYkXJl6YeGHihYkXJl7YZdu296MfwT5OQmFmM8xJKMxJKMxshokXJl6YeGHihYkXJl6YeGHihYkXJl6Ye16Ye16Y2Qybp2n6dfQj2GceY/w8+hHsYzbDxAsTL0y8MPHCxAsTL0y8MPHCxAubxxh/jn4E+zgJhZnNMCehMCehMLMZJl6YeGHihYkXJl6YeGHihYkXJl6Yk1CYk1CY2QxzEgpzEgozm2HihYkXJl6YeGHihYkXJl6YeGHihTkJhTkJhZnNMPHCxAsTL0y8MPHC/gKgOq5phE2zLAAAAABJRU5ErkJggg==\"></img></td>\n",
       "      <td id=\"T_fe6c0_row24_col5\" class=\"data row24 col5\" >0<br>(0.0%)</td>\n",
       "    </tr>\n",
       "  </tbody>\n",
       "</table>\n"
      ],
      "text/plain": [
       "<pandas.io.formats.style.Styler at 0x1bbc0c7f100>"
      ]
     },
     "execution_count": 37,
     "metadata": {},
     "output_type": "execute_result"
    }
   ],
   "source": [
    "# Generate a summary using dfSummary()\n",
    "summary = dfSummary(leads_df)\n",
    "\n",
    "# Print the summary\n",
    "summary"
   ]
  },
  {
   "cell_type": "code",
   "execution_count": 38,
   "id": "86b5560d",
   "metadata": {},
   "outputs": [
    {
     "data": {
      "text/plain": [
       "(9240, 25)"
      ]
     },
     "execution_count": 38,
     "metadata": {},
     "output_type": "execute_result"
    }
   ],
   "source": [
    "leads_df.shape"
   ]
  },
  {
   "cell_type": "code",
   "execution_count": 39,
   "id": "c849c4a2",
   "metadata": {},
   "outputs": [],
   "source": [
    "object_cols = leads_df.select_dtypes(include=['object']).columns"
   ]
  },
  {
   "cell_type": "code",
   "execution_count": 40,
   "id": "b1ee2a95",
   "metadata": {
    "scrolled": false
   },
   "outputs": [
    {
     "data": {
      "text/plain": [
       "Index(['Lead Origin', 'Lead Source', 'Do Not Email', 'Do Not Call',\n",
       "       'Last Activity', 'Country', 'Specialization',\n",
       "       'How did you hear about X Education', 'What is your current occupation',\n",
       "       'What matters most to you in choosing a course', 'Search',\n",
       "       'Newspaper Article', 'X Education Forums', 'Newspaper',\n",
       "       'Digital Advertisement', 'Through Recommendations', 'Lead Profile',\n",
       "       'City', 'A free copy of Mastering The Interview',\n",
       "       'Last Notable Activity'],\n",
       "      dtype='object')"
      ]
     },
     "execution_count": 40,
     "metadata": {},
     "output_type": "execute_result"
    }
   ],
   "source": [
    "object_cols"
   ]
  },
  {
   "cell_type": "code",
   "execution_count": 55,
   "id": "397e4fbb",
   "metadata": {
    "scrolled": false
   },
   "outputs": [],
   "source": [
    "def barplot(i):\n",
    "    fig = px.bar(x=leads_df[i].value_counts().index,y=leads_df[i].value_counts().values,text_auto='.2s')\n",
    "    fig.update_layout(showlegend=False, title_text=f\"{i} Distribution\",title_x=0.5)  # add title here\n",
    "    fig.update_xaxes(title_text=i,showgrid=False)#updating the X_axis1 title\n",
    "    fig.update_yaxes(title_text=\"Counts\",showgrid=False)#updating the X_axis1 title\n",
    "    fig.update_traces(marker_color='blue')  # change color to red\n",
    "    fig.show()"
   ]
  },
  {
   "cell_type": "code",
   "execution_count": 56,
   "id": "3a65435b",
   "metadata": {},
   "outputs": [
    {
     "data": {
      "application/vnd.plotly.v1+json": {
       "config": {
        "plotlyServerURL": "https://plot.ly"
       },
       "data": [
        {
         "alignmentgroup": "True",
         "hovertemplate": "x=%{x}<br>y=%{y}<extra></extra>",
         "legendgroup": "",
         "marker": {
          "color": "blue",
          "pattern": {
           "shape": ""
          }
         },
         "name": "",
         "offsetgroup": "",
         "orientation": "v",
         "showlegend": false,
         "textposition": "auto",
         "texttemplate": "%{y:.2s}",
         "type": "bar",
         "x": [
          "Landing Page Submission",
          "API",
          "Lead Add Form",
          "Lead Import",
          "Quick Add Form"
         ],
         "xaxis": "x",
         "y": [
          4886,
          3580,
          718,
          55,
          1
         ],
         "yaxis": "y"
        }
       ],
       "layout": {
        "barmode": "relative",
        "legend": {
         "tracegroupgap": 0
        },
        "margin": {
         "t": 60
        },
        "showlegend": false,
        "template": {
         "data": {
          "bar": [
           {
            "error_x": {
             "color": "#2a3f5f"
            },
            "error_y": {
             "color": "#2a3f5f"
            },
            "marker": {
             "line": {
              "color": "#E5ECF6",
              "width": 0.5
             },
             "pattern": {
              "fillmode": "overlay",
              "size": 10,
              "solidity": 0.2
             }
            },
            "type": "bar"
           }
          ],
          "barpolar": [
           {
            "marker": {
             "line": {
              "color": "#E5ECF6",
              "width": 0.5
             },
             "pattern": {
              "fillmode": "overlay",
              "size": 10,
              "solidity": 0.2
             }
            },
            "type": "barpolar"
           }
          ],
          "carpet": [
           {
            "aaxis": {
             "endlinecolor": "#2a3f5f",
             "gridcolor": "white",
             "linecolor": "white",
             "minorgridcolor": "white",
             "startlinecolor": "#2a3f5f"
            },
            "baxis": {
             "endlinecolor": "#2a3f5f",
             "gridcolor": "white",
             "linecolor": "white",
             "minorgridcolor": "white",
             "startlinecolor": "#2a3f5f"
            },
            "type": "carpet"
           }
          ],
          "choropleth": [
           {
            "colorbar": {
             "outlinewidth": 0,
             "ticks": ""
            },
            "type": "choropleth"
           }
          ],
          "contour": [
           {
            "colorbar": {
             "outlinewidth": 0,
             "ticks": ""
            },
            "colorscale": [
             [
              0,
              "#0d0887"
             ],
             [
              0.1111111111111111,
              "#46039f"
             ],
             [
              0.2222222222222222,
              "#7201a8"
             ],
             [
              0.3333333333333333,
              "#9c179e"
             ],
             [
              0.4444444444444444,
              "#bd3786"
             ],
             [
              0.5555555555555556,
              "#d8576b"
             ],
             [
              0.6666666666666666,
              "#ed7953"
             ],
             [
              0.7777777777777778,
              "#fb9f3a"
             ],
             [
              0.8888888888888888,
              "#fdca26"
             ],
             [
              1,
              "#f0f921"
             ]
            ],
            "type": "contour"
           }
          ],
          "contourcarpet": [
           {
            "colorbar": {
             "outlinewidth": 0,
             "ticks": ""
            },
            "type": "contourcarpet"
           }
          ],
          "heatmap": [
           {
            "colorbar": {
             "outlinewidth": 0,
             "ticks": ""
            },
            "colorscale": [
             [
              0,
              "#0d0887"
             ],
             [
              0.1111111111111111,
              "#46039f"
             ],
             [
              0.2222222222222222,
              "#7201a8"
             ],
             [
              0.3333333333333333,
              "#9c179e"
             ],
             [
              0.4444444444444444,
              "#bd3786"
             ],
             [
              0.5555555555555556,
              "#d8576b"
             ],
             [
              0.6666666666666666,
              "#ed7953"
             ],
             [
              0.7777777777777778,
              "#fb9f3a"
             ],
             [
              0.8888888888888888,
              "#fdca26"
             ],
             [
              1,
              "#f0f921"
             ]
            ],
            "type": "heatmap"
           }
          ],
          "heatmapgl": [
           {
            "colorbar": {
             "outlinewidth": 0,
             "ticks": ""
            },
            "colorscale": [
             [
              0,
              "#0d0887"
             ],
             [
              0.1111111111111111,
              "#46039f"
             ],
             [
              0.2222222222222222,
              "#7201a8"
             ],
             [
              0.3333333333333333,
              "#9c179e"
             ],
             [
              0.4444444444444444,
              "#bd3786"
             ],
             [
              0.5555555555555556,
              "#d8576b"
             ],
             [
              0.6666666666666666,
              "#ed7953"
             ],
             [
              0.7777777777777778,
              "#fb9f3a"
             ],
             [
              0.8888888888888888,
              "#fdca26"
             ],
             [
              1,
              "#f0f921"
             ]
            ],
            "type": "heatmapgl"
           }
          ],
          "histogram": [
           {
            "marker": {
             "pattern": {
              "fillmode": "overlay",
              "size": 10,
              "solidity": 0.2
             }
            },
            "type": "histogram"
           }
          ],
          "histogram2d": [
           {
            "colorbar": {
             "outlinewidth": 0,
             "ticks": ""
            },
            "colorscale": [
             [
              0,
              "#0d0887"
             ],
             [
              0.1111111111111111,
              "#46039f"
             ],
             [
              0.2222222222222222,
              "#7201a8"
             ],
             [
              0.3333333333333333,
              "#9c179e"
             ],
             [
              0.4444444444444444,
              "#bd3786"
             ],
             [
              0.5555555555555556,
              "#d8576b"
             ],
             [
              0.6666666666666666,
              "#ed7953"
             ],
             [
              0.7777777777777778,
              "#fb9f3a"
             ],
             [
              0.8888888888888888,
              "#fdca26"
             ],
             [
              1,
              "#f0f921"
             ]
            ],
            "type": "histogram2d"
           }
          ],
          "histogram2dcontour": [
           {
            "colorbar": {
             "outlinewidth": 0,
             "ticks": ""
            },
            "colorscale": [
             [
              0,
              "#0d0887"
             ],
             [
              0.1111111111111111,
              "#46039f"
             ],
             [
              0.2222222222222222,
              "#7201a8"
             ],
             [
              0.3333333333333333,
              "#9c179e"
             ],
             [
              0.4444444444444444,
              "#bd3786"
             ],
             [
              0.5555555555555556,
              "#d8576b"
             ],
             [
              0.6666666666666666,
              "#ed7953"
             ],
             [
              0.7777777777777778,
              "#fb9f3a"
             ],
             [
              0.8888888888888888,
              "#fdca26"
             ],
             [
              1,
              "#f0f921"
             ]
            ],
            "type": "histogram2dcontour"
           }
          ],
          "mesh3d": [
           {
            "colorbar": {
             "outlinewidth": 0,
             "ticks": ""
            },
            "type": "mesh3d"
           }
          ],
          "parcoords": [
           {
            "line": {
             "colorbar": {
              "outlinewidth": 0,
              "ticks": ""
             }
            },
            "type": "parcoords"
           }
          ],
          "pie": [
           {
            "automargin": true,
            "type": "pie"
           }
          ],
          "scatter": [
           {
            "marker": {
             "colorbar": {
              "outlinewidth": 0,
              "ticks": ""
             }
            },
            "type": "scatter"
           }
          ],
          "scatter3d": [
           {
            "line": {
             "colorbar": {
              "outlinewidth": 0,
              "ticks": ""
             }
            },
            "marker": {
             "colorbar": {
              "outlinewidth": 0,
              "ticks": ""
             }
            },
            "type": "scatter3d"
           }
          ],
          "scattercarpet": [
           {
            "marker": {
             "colorbar": {
              "outlinewidth": 0,
              "ticks": ""
             }
            },
            "type": "scattercarpet"
           }
          ],
          "scattergeo": [
           {
            "marker": {
             "colorbar": {
              "outlinewidth": 0,
              "ticks": ""
             }
            },
            "type": "scattergeo"
           }
          ],
          "scattergl": [
           {
            "marker": {
             "colorbar": {
              "outlinewidth": 0,
              "ticks": ""
             }
            },
            "type": "scattergl"
           }
          ],
          "scattermapbox": [
           {
            "marker": {
             "colorbar": {
              "outlinewidth": 0,
              "ticks": ""
             }
            },
            "type": "scattermapbox"
           }
          ],
          "scatterpolar": [
           {
            "marker": {
             "colorbar": {
              "outlinewidth": 0,
              "ticks": ""
             }
            },
            "type": "scatterpolar"
           }
          ],
          "scatterpolargl": [
           {
            "marker": {
             "colorbar": {
              "outlinewidth": 0,
              "ticks": ""
             }
            },
            "type": "scatterpolargl"
           }
          ],
          "scatterternary": [
           {
            "marker": {
             "colorbar": {
              "outlinewidth": 0,
              "ticks": ""
             }
            },
            "type": "scatterternary"
           }
          ],
          "surface": [
           {
            "colorbar": {
             "outlinewidth": 0,
             "ticks": ""
            },
            "colorscale": [
             [
              0,
              "#0d0887"
             ],
             [
              0.1111111111111111,
              "#46039f"
             ],
             [
              0.2222222222222222,
              "#7201a8"
             ],
             [
              0.3333333333333333,
              "#9c179e"
             ],
             [
              0.4444444444444444,
              "#bd3786"
             ],
             [
              0.5555555555555556,
              "#d8576b"
             ],
             [
              0.6666666666666666,
              "#ed7953"
             ],
             [
              0.7777777777777778,
              "#fb9f3a"
             ],
             [
              0.8888888888888888,
              "#fdca26"
             ],
             [
              1,
              "#f0f921"
             ]
            ],
            "type": "surface"
           }
          ],
          "table": [
           {
            "cells": {
             "fill": {
              "color": "#EBF0F8"
             },
             "line": {
              "color": "white"
             }
            },
            "header": {
             "fill": {
              "color": "#C8D4E3"
             },
             "line": {
              "color": "white"
             }
            },
            "type": "table"
           }
          ]
         },
         "layout": {
          "annotationdefaults": {
           "arrowcolor": "#2a3f5f",
           "arrowhead": 0,
           "arrowwidth": 1
          },
          "autotypenumbers": "strict",
          "coloraxis": {
           "colorbar": {
            "outlinewidth": 0,
            "ticks": ""
           }
          },
          "colorscale": {
           "diverging": [
            [
             0,
             "#8e0152"
            ],
            [
             0.1,
             "#c51b7d"
            ],
            [
             0.2,
             "#de77ae"
            ],
            [
             0.3,
             "#f1b6da"
            ],
            [
             0.4,
             "#fde0ef"
            ],
            [
             0.5,
             "#f7f7f7"
            ],
            [
             0.6,
             "#e6f5d0"
            ],
            [
             0.7,
             "#b8e186"
            ],
            [
             0.8,
             "#7fbc41"
            ],
            [
             0.9,
             "#4d9221"
            ],
            [
             1,
             "#276419"
            ]
           ],
           "sequential": [
            [
             0,
             "#0d0887"
            ],
            [
             0.1111111111111111,
             "#46039f"
            ],
            [
             0.2222222222222222,
             "#7201a8"
            ],
            [
             0.3333333333333333,
             "#9c179e"
            ],
            [
             0.4444444444444444,
             "#bd3786"
            ],
            [
             0.5555555555555556,
             "#d8576b"
            ],
            [
             0.6666666666666666,
             "#ed7953"
            ],
            [
             0.7777777777777778,
             "#fb9f3a"
            ],
            [
             0.8888888888888888,
             "#fdca26"
            ],
            [
             1,
             "#f0f921"
            ]
           ],
           "sequentialminus": [
            [
             0,
             "#0d0887"
            ],
            [
             0.1111111111111111,
             "#46039f"
            ],
            [
             0.2222222222222222,
             "#7201a8"
            ],
            [
             0.3333333333333333,
             "#9c179e"
            ],
            [
             0.4444444444444444,
             "#bd3786"
            ],
            [
             0.5555555555555556,
             "#d8576b"
            ],
            [
             0.6666666666666666,
             "#ed7953"
            ],
            [
             0.7777777777777778,
             "#fb9f3a"
            ],
            [
             0.8888888888888888,
             "#fdca26"
            ],
            [
             1,
             "#f0f921"
            ]
           ]
          },
          "colorway": [
           "#636efa",
           "#EF553B",
           "#00cc96",
           "#ab63fa",
           "#FFA15A",
           "#19d3f3",
           "#FF6692",
           "#B6E880",
           "#FF97FF",
           "#FECB52"
          ],
          "font": {
           "color": "#2a3f5f"
          },
          "geo": {
           "bgcolor": "white",
           "lakecolor": "white",
           "landcolor": "#E5ECF6",
           "showlakes": true,
           "showland": true,
           "subunitcolor": "white"
          },
          "hoverlabel": {
           "align": "left"
          },
          "hovermode": "closest",
          "mapbox": {
           "style": "light"
          },
          "paper_bgcolor": "white",
          "plot_bgcolor": "#E5ECF6",
          "polar": {
           "angularaxis": {
            "gridcolor": "white",
            "linecolor": "white",
            "ticks": ""
           },
           "bgcolor": "#E5ECF6",
           "radialaxis": {
            "gridcolor": "white",
            "linecolor": "white",
            "ticks": ""
           }
          },
          "scene": {
           "xaxis": {
            "backgroundcolor": "#E5ECF6",
            "gridcolor": "white",
            "gridwidth": 2,
            "linecolor": "white",
            "showbackground": true,
            "ticks": "",
            "zerolinecolor": "white"
           },
           "yaxis": {
            "backgroundcolor": "#E5ECF6",
            "gridcolor": "white",
            "gridwidth": 2,
            "linecolor": "white",
            "showbackground": true,
            "ticks": "",
            "zerolinecolor": "white"
           },
           "zaxis": {
            "backgroundcolor": "#E5ECF6",
            "gridcolor": "white",
            "gridwidth": 2,
            "linecolor": "white",
            "showbackground": true,
            "ticks": "",
            "zerolinecolor": "white"
           }
          },
          "shapedefaults": {
           "line": {
            "color": "#2a3f5f"
           }
          },
          "ternary": {
           "aaxis": {
            "gridcolor": "white",
            "linecolor": "white",
            "ticks": ""
           },
           "baxis": {
            "gridcolor": "white",
            "linecolor": "white",
            "ticks": ""
           },
           "bgcolor": "#E5ECF6",
           "caxis": {
            "gridcolor": "white",
            "linecolor": "white",
            "ticks": ""
           }
          },
          "title": {
           "x": 0.05
          },
          "xaxis": {
           "automargin": true,
           "gridcolor": "white",
           "linecolor": "white",
           "ticks": "",
           "title": {
            "standoff": 15
           },
           "zerolinecolor": "white",
           "zerolinewidth": 2
          },
          "yaxis": {
           "automargin": true,
           "gridcolor": "white",
           "linecolor": "white",
           "ticks": "",
           "title": {
            "standoff": 15
           },
           "zerolinecolor": "white",
           "zerolinewidth": 2
          }
         }
        },
        "title": {
         "text": "Lead Origin Distribution",
         "x": 0.5
        },
        "xaxis": {
         "anchor": "y",
         "domain": [
          0,
          1
         ],
         "showgrid": false,
         "title": {
          "text": "Lead Origin"
         }
        },
        "yaxis": {
         "anchor": "x",
         "domain": [
          0,
          1
         ],
         "showgrid": false,
         "title": {
          "text": "Counts"
         }
        }
       }
      },
      "text/html": [
       "<div>                            <div id=\"e13abb47-1632-4bec-873e-ad63be4150b0\" class=\"plotly-graph-div\" style=\"height:525px; width:100%;\"></div>            <script type=\"text/javascript\">                require([\"plotly\"], function(Plotly) {                    window.PLOTLYENV=window.PLOTLYENV || {};                                    if (document.getElementById(\"e13abb47-1632-4bec-873e-ad63be4150b0\")) {                    Plotly.newPlot(                        \"e13abb47-1632-4bec-873e-ad63be4150b0\",                        [{\"alignmentgroup\":\"True\",\"hovertemplate\":\"x=%{x}<br>y=%{y}<extra></extra>\",\"legendgroup\":\"\",\"marker\":{\"color\":\"blue\",\"pattern\":{\"shape\":\"\"}},\"name\":\"\",\"offsetgroup\":\"\",\"orientation\":\"v\",\"showlegend\":false,\"textposition\":\"auto\",\"texttemplate\":\"%{y:.2s}\",\"x\":[\"Landing Page Submission\",\"API\",\"Lead Add Form\",\"Lead Import\",\"Quick Add Form\"],\"xaxis\":\"x\",\"y\":[4886,3580,718,55,1],\"yaxis\":\"y\",\"type\":\"bar\"}],                        {\"template\":{\"data\":{\"bar\":[{\"error_x\":{\"color\":\"#2a3f5f\"},\"error_y\":{\"color\":\"#2a3f5f\"},\"marker\":{\"line\":{\"color\":\"#E5ECF6\",\"width\":0.5},\"pattern\":{\"fillmode\":\"overlay\",\"size\":10,\"solidity\":0.2}},\"type\":\"bar\"}],\"barpolar\":[{\"marker\":{\"line\":{\"color\":\"#E5ECF6\",\"width\":0.5},\"pattern\":{\"fillmode\":\"overlay\",\"size\":10,\"solidity\":0.2}},\"type\":\"barpolar\"}],\"carpet\":[{\"aaxis\":{\"endlinecolor\":\"#2a3f5f\",\"gridcolor\":\"white\",\"linecolor\":\"white\",\"minorgridcolor\":\"white\",\"startlinecolor\":\"#2a3f5f\"},\"baxis\":{\"endlinecolor\":\"#2a3f5f\",\"gridcolor\":\"white\",\"linecolor\":\"white\",\"minorgridcolor\":\"white\",\"startlinecolor\":\"#2a3f5f\"},\"type\":\"carpet\"}],\"choropleth\":[{\"colorbar\":{\"outlinewidth\":0,\"ticks\":\"\"},\"type\":\"choropleth\"}],\"contour\":[{\"colorbar\":{\"outlinewidth\":0,\"ticks\":\"\"},\"colorscale\":[[0.0,\"#0d0887\"],[0.1111111111111111,\"#46039f\"],[0.2222222222222222,\"#7201a8\"],[0.3333333333333333,\"#9c179e\"],[0.4444444444444444,\"#bd3786\"],[0.5555555555555556,\"#d8576b\"],[0.6666666666666666,\"#ed7953\"],[0.7777777777777778,\"#fb9f3a\"],[0.8888888888888888,\"#fdca26\"],[1.0,\"#f0f921\"]],\"type\":\"contour\"}],\"contourcarpet\":[{\"colorbar\":{\"outlinewidth\":0,\"ticks\":\"\"},\"type\":\"contourcarpet\"}],\"heatmap\":[{\"colorbar\":{\"outlinewidth\":0,\"ticks\":\"\"},\"colorscale\":[[0.0,\"#0d0887\"],[0.1111111111111111,\"#46039f\"],[0.2222222222222222,\"#7201a8\"],[0.3333333333333333,\"#9c179e\"],[0.4444444444444444,\"#bd3786\"],[0.5555555555555556,\"#d8576b\"],[0.6666666666666666,\"#ed7953\"],[0.7777777777777778,\"#fb9f3a\"],[0.8888888888888888,\"#fdca26\"],[1.0,\"#f0f921\"]],\"type\":\"heatmap\"}],\"heatmapgl\":[{\"colorbar\":{\"outlinewidth\":0,\"ticks\":\"\"},\"colorscale\":[[0.0,\"#0d0887\"],[0.1111111111111111,\"#46039f\"],[0.2222222222222222,\"#7201a8\"],[0.3333333333333333,\"#9c179e\"],[0.4444444444444444,\"#bd3786\"],[0.5555555555555556,\"#d8576b\"],[0.6666666666666666,\"#ed7953\"],[0.7777777777777778,\"#fb9f3a\"],[0.8888888888888888,\"#fdca26\"],[1.0,\"#f0f921\"]],\"type\":\"heatmapgl\"}],\"histogram\":[{\"marker\":{\"pattern\":{\"fillmode\":\"overlay\",\"size\":10,\"solidity\":0.2}},\"type\":\"histogram\"}],\"histogram2d\":[{\"colorbar\":{\"outlinewidth\":0,\"ticks\":\"\"},\"colorscale\":[[0.0,\"#0d0887\"],[0.1111111111111111,\"#46039f\"],[0.2222222222222222,\"#7201a8\"],[0.3333333333333333,\"#9c179e\"],[0.4444444444444444,\"#bd3786\"],[0.5555555555555556,\"#d8576b\"],[0.6666666666666666,\"#ed7953\"],[0.7777777777777778,\"#fb9f3a\"],[0.8888888888888888,\"#fdca26\"],[1.0,\"#f0f921\"]],\"type\":\"histogram2d\"}],\"histogram2dcontour\":[{\"colorbar\":{\"outlinewidth\":0,\"ticks\":\"\"},\"colorscale\":[[0.0,\"#0d0887\"],[0.1111111111111111,\"#46039f\"],[0.2222222222222222,\"#7201a8\"],[0.3333333333333333,\"#9c179e\"],[0.4444444444444444,\"#bd3786\"],[0.5555555555555556,\"#d8576b\"],[0.6666666666666666,\"#ed7953\"],[0.7777777777777778,\"#fb9f3a\"],[0.8888888888888888,\"#fdca26\"],[1.0,\"#f0f921\"]],\"type\":\"histogram2dcontour\"}],\"mesh3d\":[{\"colorbar\":{\"outlinewidth\":0,\"ticks\":\"\"},\"type\":\"mesh3d\"}],\"parcoords\":[{\"line\":{\"colorbar\":{\"outlinewidth\":0,\"ticks\":\"\"}},\"type\":\"parcoords\"}],\"pie\":[{\"automargin\":true,\"type\":\"pie\"}],\"scatter\":[{\"marker\":{\"colorbar\":{\"outlinewidth\":0,\"ticks\":\"\"}},\"type\":\"scatter\"}],\"scatter3d\":[{\"line\":{\"colorbar\":{\"outlinewidth\":0,\"ticks\":\"\"}},\"marker\":{\"colorbar\":{\"outlinewidth\":0,\"ticks\":\"\"}},\"type\":\"scatter3d\"}],\"scattercarpet\":[{\"marker\":{\"colorbar\":{\"outlinewidth\":0,\"ticks\":\"\"}},\"type\":\"scattercarpet\"}],\"scattergeo\":[{\"marker\":{\"colorbar\":{\"outlinewidth\":0,\"ticks\":\"\"}},\"type\":\"scattergeo\"}],\"scattergl\":[{\"marker\":{\"colorbar\":{\"outlinewidth\":0,\"ticks\":\"\"}},\"type\":\"scattergl\"}],\"scattermapbox\":[{\"marker\":{\"colorbar\":{\"outlinewidth\":0,\"ticks\":\"\"}},\"type\":\"scattermapbox\"}],\"scatterpolar\":[{\"marker\":{\"colorbar\":{\"outlinewidth\":0,\"ticks\":\"\"}},\"type\":\"scatterpolar\"}],\"scatterpolargl\":[{\"marker\":{\"colorbar\":{\"outlinewidth\":0,\"ticks\":\"\"}},\"type\":\"scatterpolargl\"}],\"scatterternary\":[{\"marker\":{\"colorbar\":{\"outlinewidth\":0,\"ticks\":\"\"}},\"type\":\"scatterternary\"}],\"surface\":[{\"colorbar\":{\"outlinewidth\":0,\"ticks\":\"\"},\"colorscale\":[[0.0,\"#0d0887\"],[0.1111111111111111,\"#46039f\"],[0.2222222222222222,\"#7201a8\"],[0.3333333333333333,\"#9c179e\"],[0.4444444444444444,\"#bd3786\"],[0.5555555555555556,\"#d8576b\"],[0.6666666666666666,\"#ed7953\"],[0.7777777777777778,\"#fb9f3a\"],[0.8888888888888888,\"#fdca26\"],[1.0,\"#f0f921\"]],\"type\":\"surface\"}],\"table\":[{\"cells\":{\"fill\":{\"color\":\"#EBF0F8\"},\"line\":{\"color\":\"white\"}},\"header\":{\"fill\":{\"color\":\"#C8D4E3\"},\"line\":{\"color\":\"white\"}},\"type\":\"table\"}]},\"layout\":{\"annotationdefaults\":{\"arrowcolor\":\"#2a3f5f\",\"arrowhead\":0,\"arrowwidth\":1},\"autotypenumbers\":\"strict\",\"coloraxis\":{\"colorbar\":{\"outlinewidth\":0,\"ticks\":\"\"}},\"colorscale\":{\"diverging\":[[0,\"#8e0152\"],[0.1,\"#c51b7d\"],[0.2,\"#de77ae\"],[0.3,\"#f1b6da\"],[0.4,\"#fde0ef\"],[0.5,\"#f7f7f7\"],[0.6,\"#e6f5d0\"],[0.7,\"#b8e186\"],[0.8,\"#7fbc41\"],[0.9,\"#4d9221\"],[1,\"#276419\"]],\"sequential\":[[0.0,\"#0d0887\"],[0.1111111111111111,\"#46039f\"],[0.2222222222222222,\"#7201a8\"],[0.3333333333333333,\"#9c179e\"],[0.4444444444444444,\"#bd3786\"],[0.5555555555555556,\"#d8576b\"],[0.6666666666666666,\"#ed7953\"],[0.7777777777777778,\"#fb9f3a\"],[0.8888888888888888,\"#fdca26\"],[1.0,\"#f0f921\"]],\"sequentialminus\":[[0.0,\"#0d0887\"],[0.1111111111111111,\"#46039f\"],[0.2222222222222222,\"#7201a8\"],[0.3333333333333333,\"#9c179e\"],[0.4444444444444444,\"#bd3786\"],[0.5555555555555556,\"#d8576b\"],[0.6666666666666666,\"#ed7953\"],[0.7777777777777778,\"#fb9f3a\"],[0.8888888888888888,\"#fdca26\"],[1.0,\"#f0f921\"]]},\"colorway\":[\"#636efa\",\"#EF553B\",\"#00cc96\",\"#ab63fa\",\"#FFA15A\",\"#19d3f3\",\"#FF6692\",\"#B6E880\",\"#FF97FF\",\"#FECB52\"],\"font\":{\"color\":\"#2a3f5f\"},\"geo\":{\"bgcolor\":\"white\",\"lakecolor\":\"white\",\"landcolor\":\"#E5ECF6\",\"showlakes\":true,\"showland\":true,\"subunitcolor\":\"white\"},\"hoverlabel\":{\"align\":\"left\"},\"hovermode\":\"closest\",\"mapbox\":{\"style\":\"light\"},\"paper_bgcolor\":\"white\",\"plot_bgcolor\":\"#E5ECF6\",\"polar\":{\"angularaxis\":{\"gridcolor\":\"white\",\"linecolor\":\"white\",\"ticks\":\"\"},\"bgcolor\":\"#E5ECF6\",\"radialaxis\":{\"gridcolor\":\"white\",\"linecolor\":\"white\",\"ticks\":\"\"}},\"scene\":{\"xaxis\":{\"backgroundcolor\":\"#E5ECF6\",\"gridcolor\":\"white\",\"gridwidth\":2,\"linecolor\":\"white\",\"showbackground\":true,\"ticks\":\"\",\"zerolinecolor\":\"white\"},\"yaxis\":{\"backgroundcolor\":\"#E5ECF6\",\"gridcolor\":\"white\",\"gridwidth\":2,\"linecolor\":\"white\",\"showbackground\":true,\"ticks\":\"\",\"zerolinecolor\":\"white\"},\"zaxis\":{\"backgroundcolor\":\"#E5ECF6\",\"gridcolor\":\"white\",\"gridwidth\":2,\"linecolor\":\"white\",\"showbackground\":true,\"ticks\":\"\",\"zerolinecolor\":\"white\"}},\"shapedefaults\":{\"line\":{\"color\":\"#2a3f5f\"}},\"ternary\":{\"aaxis\":{\"gridcolor\":\"white\",\"linecolor\":\"white\",\"ticks\":\"\"},\"baxis\":{\"gridcolor\":\"white\",\"linecolor\":\"white\",\"ticks\":\"\"},\"bgcolor\":\"#E5ECF6\",\"caxis\":{\"gridcolor\":\"white\",\"linecolor\":\"white\",\"ticks\":\"\"}},\"title\":{\"x\":0.05},\"xaxis\":{\"automargin\":true,\"gridcolor\":\"white\",\"linecolor\":\"white\",\"ticks\":\"\",\"title\":{\"standoff\":15},\"zerolinecolor\":\"white\",\"zerolinewidth\":2},\"yaxis\":{\"automargin\":true,\"gridcolor\":\"white\",\"linecolor\":\"white\",\"ticks\":\"\",\"title\":{\"standoff\":15},\"zerolinecolor\":\"white\",\"zerolinewidth\":2}}},\"xaxis\":{\"anchor\":\"y\",\"domain\":[0.0,1.0],\"title\":{\"text\":\"Lead Origin\"},\"showgrid\":false},\"yaxis\":{\"anchor\":\"x\",\"domain\":[0.0,1.0],\"title\":{\"text\":\"Counts\"},\"showgrid\":false},\"legend\":{\"tracegroupgap\":0},\"margin\":{\"t\":60},\"barmode\":\"relative\",\"title\":{\"text\":\"Lead Origin Distribution\",\"x\":0.5},\"showlegend\":false},                        {\"responsive\": true}                    ).then(function(){\n",
       "                            \n",
       "var gd = document.getElementById('e13abb47-1632-4bec-873e-ad63be4150b0');\n",
       "var x = new MutationObserver(function (mutations, observer) {{\n",
       "        var display = window.getComputedStyle(gd).display;\n",
       "        if (!display || display === 'none') {{\n",
       "            console.log([gd, 'removed!']);\n",
       "            Plotly.purge(gd);\n",
       "            observer.disconnect();\n",
       "        }}\n",
       "}});\n",
       "\n",
       "// Listen for the removal of the full notebook cells\n",
       "var notebookContainer = gd.closest('#notebook-container');\n",
       "if (notebookContainer) {{\n",
       "    x.observe(notebookContainer, {childList: true});\n",
       "}}\n",
       "\n",
       "// Listen for the clearing of the current output cell\n",
       "var outputEl = gd.closest('.output');\n",
       "if (outputEl) {{\n",
       "    x.observe(outputEl, {childList: true});\n",
       "}}\n",
       "\n",
       "                        })                };                });            </script>        </div>"
      ]
     },
     "metadata": {},
     "output_type": "display_data"
    }
   ],
   "source": [
    "barplot('Lead Origin')"
   ]
  },
  {
   "cell_type": "code",
   "execution_count": null,
   "id": "be6eb4ae",
   "metadata": {},
   "outputs": [],
   "source": []
  },
  {
   "cell_type": "code",
   "execution_count": 57,
   "id": "acc82681",
   "metadata": {},
   "outputs": [
    {
     "data": {
      "application/vnd.plotly.v1+json": {
       "config": {
        "plotlyServerURL": "https://plot.ly"
       },
       "data": [
        {
         "alignmentgroup": "True",
         "hovertemplate": "x=%{x}<br>y=%{y}<extra></extra>",
         "legendgroup": "",
         "marker": {
          "color": "blue",
          "pattern": {
           "shape": ""
          }
         },
         "name": "",
         "offsetgroup": "",
         "orientation": "v",
         "showlegend": false,
         "textposition": "auto",
         "texttemplate": "%{y:.2s}",
         "type": "bar",
         "x": [
          "Google",
          "Direct Traffic",
          "Olark Chat",
          "Organic Search",
          "Reference",
          "Welingak Website",
          "Referral Sites",
          "Facebook",
          "bing",
          "google",
          "Click2call",
          "Press_Release",
          "Social Media",
          "Live Chat",
          "youtubechannel",
          "testone",
          "Pay per Click Ads",
          "welearnblog_Home",
          "WeLearn",
          "blog",
          "NC_EDM"
         ],
         "xaxis": "x",
         "y": [
          2868,
          2543,
          1755,
          1154,
          534,
          142,
          125,
          55,
          6,
          5,
          4,
          2,
          2,
          2,
          1,
          1,
          1,
          1,
          1,
          1,
          1
         ],
         "yaxis": "y"
        }
       ],
       "layout": {
        "barmode": "relative",
        "legend": {
         "tracegroupgap": 0
        },
        "margin": {
         "t": 60
        },
        "showlegend": false,
        "template": {
         "data": {
          "bar": [
           {
            "error_x": {
             "color": "#2a3f5f"
            },
            "error_y": {
             "color": "#2a3f5f"
            },
            "marker": {
             "line": {
              "color": "#E5ECF6",
              "width": 0.5
             },
             "pattern": {
              "fillmode": "overlay",
              "size": 10,
              "solidity": 0.2
             }
            },
            "type": "bar"
           }
          ],
          "barpolar": [
           {
            "marker": {
             "line": {
              "color": "#E5ECF6",
              "width": 0.5
             },
             "pattern": {
              "fillmode": "overlay",
              "size": 10,
              "solidity": 0.2
             }
            },
            "type": "barpolar"
           }
          ],
          "carpet": [
           {
            "aaxis": {
             "endlinecolor": "#2a3f5f",
             "gridcolor": "white",
             "linecolor": "white",
             "minorgridcolor": "white",
             "startlinecolor": "#2a3f5f"
            },
            "baxis": {
             "endlinecolor": "#2a3f5f",
             "gridcolor": "white",
             "linecolor": "white",
             "minorgridcolor": "white",
             "startlinecolor": "#2a3f5f"
            },
            "type": "carpet"
           }
          ],
          "choropleth": [
           {
            "colorbar": {
             "outlinewidth": 0,
             "ticks": ""
            },
            "type": "choropleth"
           }
          ],
          "contour": [
           {
            "colorbar": {
             "outlinewidth": 0,
             "ticks": ""
            },
            "colorscale": [
             [
              0,
              "#0d0887"
             ],
             [
              0.1111111111111111,
              "#46039f"
             ],
             [
              0.2222222222222222,
              "#7201a8"
             ],
             [
              0.3333333333333333,
              "#9c179e"
             ],
             [
              0.4444444444444444,
              "#bd3786"
             ],
             [
              0.5555555555555556,
              "#d8576b"
             ],
             [
              0.6666666666666666,
              "#ed7953"
             ],
             [
              0.7777777777777778,
              "#fb9f3a"
             ],
             [
              0.8888888888888888,
              "#fdca26"
             ],
             [
              1,
              "#f0f921"
             ]
            ],
            "type": "contour"
           }
          ],
          "contourcarpet": [
           {
            "colorbar": {
             "outlinewidth": 0,
             "ticks": ""
            },
            "type": "contourcarpet"
           }
          ],
          "heatmap": [
           {
            "colorbar": {
             "outlinewidth": 0,
             "ticks": ""
            },
            "colorscale": [
             [
              0,
              "#0d0887"
             ],
             [
              0.1111111111111111,
              "#46039f"
             ],
             [
              0.2222222222222222,
              "#7201a8"
             ],
             [
              0.3333333333333333,
              "#9c179e"
             ],
             [
              0.4444444444444444,
              "#bd3786"
             ],
             [
              0.5555555555555556,
              "#d8576b"
             ],
             [
              0.6666666666666666,
              "#ed7953"
             ],
             [
              0.7777777777777778,
              "#fb9f3a"
             ],
             [
              0.8888888888888888,
              "#fdca26"
             ],
             [
              1,
              "#f0f921"
             ]
            ],
            "type": "heatmap"
           }
          ],
          "heatmapgl": [
           {
            "colorbar": {
             "outlinewidth": 0,
             "ticks": ""
            },
            "colorscale": [
             [
              0,
              "#0d0887"
             ],
             [
              0.1111111111111111,
              "#46039f"
             ],
             [
              0.2222222222222222,
              "#7201a8"
             ],
             [
              0.3333333333333333,
              "#9c179e"
             ],
             [
              0.4444444444444444,
              "#bd3786"
             ],
             [
              0.5555555555555556,
              "#d8576b"
             ],
             [
              0.6666666666666666,
              "#ed7953"
             ],
             [
              0.7777777777777778,
              "#fb9f3a"
             ],
             [
              0.8888888888888888,
              "#fdca26"
             ],
             [
              1,
              "#f0f921"
             ]
            ],
            "type": "heatmapgl"
           }
          ],
          "histogram": [
           {
            "marker": {
             "pattern": {
              "fillmode": "overlay",
              "size": 10,
              "solidity": 0.2
             }
            },
            "type": "histogram"
           }
          ],
          "histogram2d": [
           {
            "colorbar": {
             "outlinewidth": 0,
             "ticks": ""
            },
            "colorscale": [
             [
              0,
              "#0d0887"
             ],
             [
              0.1111111111111111,
              "#46039f"
             ],
             [
              0.2222222222222222,
              "#7201a8"
             ],
             [
              0.3333333333333333,
              "#9c179e"
             ],
             [
              0.4444444444444444,
              "#bd3786"
             ],
             [
              0.5555555555555556,
              "#d8576b"
             ],
             [
              0.6666666666666666,
              "#ed7953"
             ],
             [
              0.7777777777777778,
              "#fb9f3a"
             ],
             [
              0.8888888888888888,
              "#fdca26"
             ],
             [
              1,
              "#f0f921"
             ]
            ],
            "type": "histogram2d"
           }
          ],
          "histogram2dcontour": [
           {
            "colorbar": {
             "outlinewidth": 0,
             "ticks": ""
            },
            "colorscale": [
             [
              0,
              "#0d0887"
             ],
             [
              0.1111111111111111,
              "#46039f"
             ],
             [
              0.2222222222222222,
              "#7201a8"
             ],
             [
              0.3333333333333333,
              "#9c179e"
             ],
             [
              0.4444444444444444,
              "#bd3786"
             ],
             [
              0.5555555555555556,
              "#d8576b"
             ],
             [
              0.6666666666666666,
              "#ed7953"
             ],
             [
              0.7777777777777778,
              "#fb9f3a"
             ],
             [
              0.8888888888888888,
              "#fdca26"
             ],
             [
              1,
              "#f0f921"
             ]
            ],
            "type": "histogram2dcontour"
           }
          ],
          "mesh3d": [
           {
            "colorbar": {
             "outlinewidth": 0,
             "ticks": ""
            },
            "type": "mesh3d"
           }
          ],
          "parcoords": [
           {
            "line": {
             "colorbar": {
              "outlinewidth": 0,
              "ticks": ""
             }
            },
            "type": "parcoords"
           }
          ],
          "pie": [
           {
            "automargin": true,
            "type": "pie"
           }
          ],
          "scatter": [
           {
            "marker": {
             "colorbar": {
              "outlinewidth": 0,
              "ticks": ""
             }
            },
            "type": "scatter"
           }
          ],
          "scatter3d": [
           {
            "line": {
             "colorbar": {
              "outlinewidth": 0,
              "ticks": ""
             }
            },
            "marker": {
             "colorbar": {
              "outlinewidth": 0,
              "ticks": ""
             }
            },
            "type": "scatter3d"
           }
          ],
          "scattercarpet": [
           {
            "marker": {
             "colorbar": {
              "outlinewidth": 0,
              "ticks": ""
             }
            },
            "type": "scattercarpet"
           }
          ],
          "scattergeo": [
           {
            "marker": {
             "colorbar": {
              "outlinewidth": 0,
              "ticks": ""
             }
            },
            "type": "scattergeo"
           }
          ],
          "scattergl": [
           {
            "marker": {
             "colorbar": {
              "outlinewidth": 0,
              "ticks": ""
             }
            },
            "type": "scattergl"
           }
          ],
          "scattermapbox": [
           {
            "marker": {
             "colorbar": {
              "outlinewidth": 0,
              "ticks": ""
             }
            },
            "type": "scattermapbox"
           }
          ],
          "scatterpolar": [
           {
            "marker": {
             "colorbar": {
              "outlinewidth": 0,
              "ticks": ""
             }
            },
            "type": "scatterpolar"
           }
          ],
          "scatterpolargl": [
           {
            "marker": {
             "colorbar": {
              "outlinewidth": 0,
              "ticks": ""
             }
            },
            "type": "scatterpolargl"
           }
          ],
          "scatterternary": [
           {
            "marker": {
             "colorbar": {
              "outlinewidth": 0,
              "ticks": ""
             }
            },
            "type": "scatterternary"
           }
          ],
          "surface": [
           {
            "colorbar": {
             "outlinewidth": 0,
             "ticks": ""
            },
            "colorscale": [
             [
              0,
              "#0d0887"
             ],
             [
              0.1111111111111111,
              "#46039f"
             ],
             [
              0.2222222222222222,
              "#7201a8"
             ],
             [
              0.3333333333333333,
              "#9c179e"
             ],
             [
              0.4444444444444444,
              "#bd3786"
             ],
             [
              0.5555555555555556,
              "#d8576b"
             ],
             [
              0.6666666666666666,
              "#ed7953"
             ],
             [
              0.7777777777777778,
              "#fb9f3a"
             ],
             [
              0.8888888888888888,
              "#fdca26"
             ],
             [
              1,
              "#f0f921"
             ]
            ],
            "type": "surface"
           }
          ],
          "table": [
           {
            "cells": {
             "fill": {
              "color": "#EBF0F8"
             },
             "line": {
              "color": "white"
             }
            },
            "header": {
             "fill": {
              "color": "#C8D4E3"
             },
             "line": {
              "color": "white"
             }
            },
            "type": "table"
           }
          ]
         },
         "layout": {
          "annotationdefaults": {
           "arrowcolor": "#2a3f5f",
           "arrowhead": 0,
           "arrowwidth": 1
          },
          "autotypenumbers": "strict",
          "coloraxis": {
           "colorbar": {
            "outlinewidth": 0,
            "ticks": ""
           }
          },
          "colorscale": {
           "diverging": [
            [
             0,
             "#8e0152"
            ],
            [
             0.1,
             "#c51b7d"
            ],
            [
             0.2,
             "#de77ae"
            ],
            [
             0.3,
             "#f1b6da"
            ],
            [
             0.4,
             "#fde0ef"
            ],
            [
             0.5,
             "#f7f7f7"
            ],
            [
             0.6,
             "#e6f5d0"
            ],
            [
             0.7,
             "#b8e186"
            ],
            [
             0.8,
             "#7fbc41"
            ],
            [
             0.9,
             "#4d9221"
            ],
            [
             1,
             "#276419"
            ]
           ],
           "sequential": [
            [
             0,
             "#0d0887"
            ],
            [
             0.1111111111111111,
             "#46039f"
            ],
            [
             0.2222222222222222,
             "#7201a8"
            ],
            [
             0.3333333333333333,
             "#9c179e"
            ],
            [
             0.4444444444444444,
             "#bd3786"
            ],
            [
             0.5555555555555556,
             "#d8576b"
            ],
            [
             0.6666666666666666,
             "#ed7953"
            ],
            [
             0.7777777777777778,
             "#fb9f3a"
            ],
            [
             0.8888888888888888,
             "#fdca26"
            ],
            [
             1,
             "#f0f921"
            ]
           ],
           "sequentialminus": [
            [
             0,
             "#0d0887"
            ],
            [
             0.1111111111111111,
             "#46039f"
            ],
            [
             0.2222222222222222,
             "#7201a8"
            ],
            [
             0.3333333333333333,
             "#9c179e"
            ],
            [
             0.4444444444444444,
             "#bd3786"
            ],
            [
             0.5555555555555556,
             "#d8576b"
            ],
            [
             0.6666666666666666,
             "#ed7953"
            ],
            [
             0.7777777777777778,
             "#fb9f3a"
            ],
            [
             0.8888888888888888,
             "#fdca26"
            ],
            [
             1,
             "#f0f921"
            ]
           ]
          },
          "colorway": [
           "#636efa",
           "#EF553B",
           "#00cc96",
           "#ab63fa",
           "#FFA15A",
           "#19d3f3",
           "#FF6692",
           "#B6E880",
           "#FF97FF",
           "#FECB52"
          ],
          "font": {
           "color": "#2a3f5f"
          },
          "geo": {
           "bgcolor": "white",
           "lakecolor": "white",
           "landcolor": "#E5ECF6",
           "showlakes": true,
           "showland": true,
           "subunitcolor": "white"
          },
          "hoverlabel": {
           "align": "left"
          },
          "hovermode": "closest",
          "mapbox": {
           "style": "light"
          },
          "paper_bgcolor": "white",
          "plot_bgcolor": "#E5ECF6",
          "polar": {
           "angularaxis": {
            "gridcolor": "white",
            "linecolor": "white",
            "ticks": ""
           },
           "bgcolor": "#E5ECF6",
           "radialaxis": {
            "gridcolor": "white",
            "linecolor": "white",
            "ticks": ""
           }
          },
          "scene": {
           "xaxis": {
            "backgroundcolor": "#E5ECF6",
            "gridcolor": "white",
            "gridwidth": 2,
            "linecolor": "white",
            "showbackground": true,
            "ticks": "",
            "zerolinecolor": "white"
           },
           "yaxis": {
            "backgroundcolor": "#E5ECF6",
            "gridcolor": "white",
            "gridwidth": 2,
            "linecolor": "white",
            "showbackground": true,
            "ticks": "",
            "zerolinecolor": "white"
           },
           "zaxis": {
            "backgroundcolor": "#E5ECF6",
            "gridcolor": "white",
            "gridwidth": 2,
            "linecolor": "white",
            "showbackground": true,
            "ticks": "",
            "zerolinecolor": "white"
           }
          },
          "shapedefaults": {
           "line": {
            "color": "#2a3f5f"
           }
          },
          "ternary": {
           "aaxis": {
            "gridcolor": "white",
            "linecolor": "white",
            "ticks": ""
           },
           "baxis": {
            "gridcolor": "white",
            "linecolor": "white",
            "ticks": ""
           },
           "bgcolor": "#E5ECF6",
           "caxis": {
            "gridcolor": "white",
            "linecolor": "white",
            "ticks": ""
           }
          },
          "title": {
           "x": 0.05
          },
          "xaxis": {
           "automargin": true,
           "gridcolor": "white",
           "linecolor": "white",
           "ticks": "",
           "title": {
            "standoff": 15
           },
           "zerolinecolor": "white",
           "zerolinewidth": 2
          },
          "yaxis": {
           "automargin": true,
           "gridcolor": "white",
           "linecolor": "white",
           "ticks": "",
           "title": {
            "standoff": 15
           },
           "zerolinecolor": "white",
           "zerolinewidth": 2
          }
         }
        },
        "title": {
         "text": "Lead Source Distribution",
         "x": 0.5
        },
        "xaxis": {
         "anchor": "y",
         "domain": [
          0,
          1
         ],
         "showgrid": false,
         "title": {
          "text": "Lead Source"
         }
        },
        "yaxis": {
         "anchor": "x",
         "domain": [
          0,
          1
         ],
         "showgrid": false,
         "title": {
          "text": "Counts"
         }
        }
       }
      },
      "text/html": [
       "<div>                            <div id=\"110bcb25-98d6-4e5e-ac4d-35e2dcf6ea56\" class=\"plotly-graph-div\" style=\"height:525px; width:100%;\"></div>            <script type=\"text/javascript\">                require([\"plotly\"], function(Plotly) {                    window.PLOTLYENV=window.PLOTLYENV || {};                                    if (document.getElementById(\"110bcb25-98d6-4e5e-ac4d-35e2dcf6ea56\")) {                    Plotly.newPlot(                        \"110bcb25-98d6-4e5e-ac4d-35e2dcf6ea56\",                        [{\"alignmentgroup\":\"True\",\"hovertemplate\":\"x=%{x}<br>y=%{y}<extra></extra>\",\"legendgroup\":\"\",\"marker\":{\"color\":\"blue\",\"pattern\":{\"shape\":\"\"}},\"name\":\"\",\"offsetgroup\":\"\",\"orientation\":\"v\",\"showlegend\":false,\"textposition\":\"auto\",\"texttemplate\":\"%{y:.2s}\",\"x\":[\"Google\",\"Direct Traffic\",\"Olark Chat\",\"Organic Search\",\"Reference\",\"Welingak Website\",\"Referral Sites\",\"Facebook\",\"bing\",\"google\",\"Click2call\",\"Press_Release\",\"Social Media\",\"Live Chat\",\"youtubechannel\",\"testone\",\"Pay per Click Ads\",\"welearnblog_Home\",\"WeLearn\",\"blog\",\"NC_EDM\"],\"xaxis\":\"x\",\"y\":[2868,2543,1755,1154,534,142,125,55,6,5,4,2,2,2,1,1,1,1,1,1,1],\"yaxis\":\"y\",\"type\":\"bar\"}],                        {\"template\":{\"data\":{\"bar\":[{\"error_x\":{\"color\":\"#2a3f5f\"},\"error_y\":{\"color\":\"#2a3f5f\"},\"marker\":{\"line\":{\"color\":\"#E5ECF6\",\"width\":0.5},\"pattern\":{\"fillmode\":\"overlay\",\"size\":10,\"solidity\":0.2}},\"type\":\"bar\"}],\"barpolar\":[{\"marker\":{\"line\":{\"color\":\"#E5ECF6\",\"width\":0.5},\"pattern\":{\"fillmode\":\"overlay\",\"size\":10,\"solidity\":0.2}},\"type\":\"barpolar\"}],\"carpet\":[{\"aaxis\":{\"endlinecolor\":\"#2a3f5f\",\"gridcolor\":\"white\",\"linecolor\":\"white\",\"minorgridcolor\":\"white\",\"startlinecolor\":\"#2a3f5f\"},\"baxis\":{\"endlinecolor\":\"#2a3f5f\",\"gridcolor\":\"white\",\"linecolor\":\"white\",\"minorgridcolor\":\"white\",\"startlinecolor\":\"#2a3f5f\"},\"type\":\"carpet\"}],\"choropleth\":[{\"colorbar\":{\"outlinewidth\":0,\"ticks\":\"\"},\"type\":\"choropleth\"}],\"contour\":[{\"colorbar\":{\"outlinewidth\":0,\"ticks\":\"\"},\"colorscale\":[[0.0,\"#0d0887\"],[0.1111111111111111,\"#46039f\"],[0.2222222222222222,\"#7201a8\"],[0.3333333333333333,\"#9c179e\"],[0.4444444444444444,\"#bd3786\"],[0.5555555555555556,\"#d8576b\"],[0.6666666666666666,\"#ed7953\"],[0.7777777777777778,\"#fb9f3a\"],[0.8888888888888888,\"#fdca26\"],[1.0,\"#f0f921\"]],\"type\":\"contour\"}],\"contourcarpet\":[{\"colorbar\":{\"outlinewidth\":0,\"ticks\":\"\"},\"type\":\"contourcarpet\"}],\"heatmap\":[{\"colorbar\":{\"outlinewidth\":0,\"ticks\":\"\"},\"colorscale\":[[0.0,\"#0d0887\"],[0.1111111111111111,\"#46039f\"],[0.2222222222222222,\"#7201a8\"],[0.3333333333333333,\"#9c179e\"],[0.4444444444444444,\"#bd3786\"],[0.5555555555555556,\"#d8576b\"],[0.6666666666666666,\"#ed7953\"],[0.7777777777777778,\"#fb9f3a\"],[0.8888888888888888,\"#fdca26\"],[1.0,\"#f0f921\"]],\"type\":\"heatmap\"}],\"heatmapgl\":[{\"colorbar\":{\"outlinewidth\":0,\"ticks\":\"\"},\"colorscale\":[[0.0,\"#0d0887\"],[0.1111111111111111,\"#46039f\"],[0.2222222222222222,\"#7201a8\"],[0.3333333333333333,\"#9c179e\"],[0.4444444444444444,\"#bd3786\"],[0.5555555555555556,\"#d8576b\"],[0.6666666666666666,\"#ed7953\"],[0.7777777777777778,\"#fb9f3a\"],[0.8888888888888888,\"#fdca26\"],[1.0,\"#f0f921\"]],\"type\":\"heatmapgl\"}],\"histogram\":[{\"marker\":{\"pattern\":{\"fillmode\":\"overlay\",\"size\":10,\"solidity\":0.2}},\"type\":\"histogram\"}],\"histogram2d\":[{\"colorbar\":{\"outlinewidth\":0,\"ticks\":\"\"},\"colorscale\":[[0.0,\"#0d0887\"],[0.1111111111111111,\"#46039f\"],[0.2222222222222222,\"#7201a8\"],[0.3333333333333333,\"#9c179e\"],[0.4444444444444444,\"#bd3786\"],[0.5555555555555556,\"#d8576b\"],[0.6666666666666666,\"#ed7953\"],[0.7777777777777778,\"#fb9f3a\"],[0.8888888888888888,\"#fdca26\"],[1.0,\"#f0f921\"]],\"type\":\"histogram2d\"}],\"histogram2dcontour\":[{\"colorbar\":{\"outlinewidth\":0,\"ticks\":\"\"},\"colorscale\":[[0.0,\"#0d0887\"],[0.1111111111111111,\"#46039f\"],[0.2222222222222222,\"#7201a8\"],[0.3333333333333333,\"#9c179e\"],[0.4444444444444444,\"#bd3786\"],[0.5555555555555556,\"#d8576b\"],[0.6666666666666666,\"#ed7953\"],[0.7777777777777778,\"#fb9f3a\"],[0.8888888888888888,\"#fdca26\"],[1.0,\"#f0f921\"]],\"type\":\"histogram2dcontour\"}],\"mesh3d\":[{\"colorbar\":{\"outlinewidth\":0,\"ticks\":\"\"},\"type\":\"mesh3d\"}],\"parcoords\":[{\"line\":{\"colorbar\":{\"outlinewidth\":0,\"ticks\":\"\"}},\"type\":\"parcoords\"}],\"pie\":[{\"automargin\":true,\"type\":\"pie\"}],\"scatter\":[{\"marker\":{\"colorbar\":{\"outlinewidth\":0,\"ticks\":\"\"}},\"type\":\"scatter\"}],\"scatter3d\":[{\"line\":{\"colorbar\":{\"outlinewidth\":0,\"ticks\":\"\"}},\"marker\":{\"colorbar\":{\"outlinewidth\":0,\"ticks\":\"\"}},\"type\":\"scatter3d\"}],\"scattercarpet\":[{\"marker\":{\"colorbar\":{\"outlinewidth\":0,\"ticks\":\"\"}},\"type\":\"scattercarpet\"}],\"scattergeo\":[{\"marker\":{\"colorbar\":{\"outlinewidth\":0,\"ticks\":\"\"}},\"type\":\"scattergeo\"}],\"scattergl\":[{\"marker\":{\"colorbar\":{\"outlinewidth\":0,\"ticks\":\"\"}},\"type\":\"scattergl\"}],\"scattermapbox\":[{\"marker\":{\"colorbar\":{\"outlinewidth\":0,\"ticks\":\"\"}},\"type\":\"scattermapbox\"}],\"scatterpolar\":[{\"marker\":{\"colorbar\":{\"outlinewidth\":0,\"ticks\":\"\"}},\"type\":\"scatterpolar\"}],\"scatterpolargl\":[{\"marker\":{\"colorbar\":{\"outlinewidth\":0,\"ticks\":\"\"}},\"type\":\"scatterpolargl\"}],\"scatterternary\":[{\"marker\":{\"colorbar\":{\"outlinewidth\":0,\"ticks\":\"\"}},\"type\":\"scatterternary\"}],\"surface\":[{\"colorbar\":{\"outlinewidth\":0,\"ticks\":\"\"},\"colorscale\":[[0.0,\"#0d0887\"],[0.1111111111111111,\"#46039f\"],[0.2222222222222222,\"#7201a8\"],[0.3333333333333333,\"#9c179e\"],[0.4444444444444444,\"#bd3786\"],[0.5555555555555556,\"#d8576b\"],[0.6666666666666666,\"#ed7953\"],[0.7777777777777778,\"#fb9f3a\"],[0.8888888888888888,\"#fdca26\"],[1.0,\"#f0f921\"]],\"type\":\"surface\"}],\"table\":[{\"cells\":{\"fill\":{\"color\":\"#EBF0F8\"},\"line\":{\"color\":\"white\"}},\"header\":{\"fill\":{\"color\":\"#C8D4E3\"},\"line\":{\"color\":\"white\"}},\"type\":\"table\"}]},\"layout\":{\"annotationdefaults\":{\"arrowcolor\":\"#2a3f5f\",\"arrowhead\":0,\"arrowwidth\":1},\"autotypenumbers\":\"strict\",\"coloraxis\":{\"colorbar\":{\"outlinewidth\":0,\"ticks\":\"\"}},\"colorscale\":{\"diverging\":[[0,\"#8e0152\"],[0.1,\"#c51b7d\"],[0.2,\"#de77ae\"],[0.3,\"#f1b6da\"],[0.4,\"#fde0ef\"],[0.5,\"#f7f7f7\"],[0.6,\"#e6f5d0\"],[0.7,\"#b8e186\"],[0.8,\"#7fbc41\"],[0.9,\"#4d9221\"],[1,\"#276419\"]],\"sequential\":[[0.0,\"#0d0887\"],[0.1111111111111111,\"#46039f\"],[0.2222222222222222,\"#7201a8\"],[0.3333333333333333,\"#9c179e\"],[0.4444444444444444,\"#bd3786\"],[0.5555555555555556,\"#d8576b\"],[0.6666666666666666,\"#ed7953\"],[0.7777777777777778,\"#fb9f3a\"],[0.8888888888888888,\"#fdca26\"],[1.0,\"#f0f921\"]],\"sequentialminus\":[[0.0,\"#0d0887\"],[0.1111111111111111,\"#46039f\"],[0.2222222222222222,\"#7201a8\"],[0.3333333333333333,\"#9c179e\"],[0.4444444444444444,\"#bd3786\"],[0.5555555555555556,\"#d8576b\"],[0.6666666666666666,\"#ed7953\"],[0.7777777777777778,\"#fb9f3a\"],[0.8888888888888888,\"#fdca26\"],[1.0,\"#f0f921\"]]},\"colorway\":[\"#636efa\",\"#EF553B\",\"#00cc96\",\"#ab63fa\",\"#FFA15A\",\"#19d3f3\",\"#FF6692\",\"#B6E880\",\"#FF97FF\",\"#FECB52\"],\"font\":{\"color\":\"#2a3f5f\"},\"geo\":{\"bgcolor\":\"white\",\"lakecolor\":\"white\",\"landcolor\":\"#E5ECF6\",\"showlakes\":true,\"showland\":true,\"subunitcolor\":\"white\"},\"hoverlabel\":{\"align\":\"left\"},\"hovermode\":\"closest\",\"mapbox\":{\"style\":\"light\"},\"paper_bgcolor\":\"white\",\"plot_bgcolor\":\"#E5ECF6\",\"polar\":{\"angularaxis\":{\"gridcolor\":\"white\",\"linecolor\":\"white\",\"ticks\":\"\"},\"bgcolor\":\"#E5ECF6\",\"radialaxis\":{\"gridcolor\":\"white\",\"linecolor\":\"white\",\"ticks\":\"\"}},\"scene\":{\"xaxis\":{\"backgroundcolor\":\"#E5ECF6\",\"gridcolor\":\"white\",\"gridwidth\":2,\"linecolor\":\"white\",\"showbackground\":true,\"ticks\":\"\",\"zerolinecolor\":\"white\"},\"yaxis\":{\"backgroundcolor\":\"#E5ECF6\",\"gridcolor\":\"white\",\"gridwidth\":2,\"linecolor\":\"white\",\"showbackground\":true,\"ticks\":\"\",\"zerolinecolor\":\"white\"},\"zaxis\":{\"backgroundcolor\":\"#E5ECF6\",\"gridcolor\":\"white\",\"gridwidth\":2,\"linecolor\":\"white\",\"showbackground\":true,\"ticks\":\"\",\"zerolinecolor\":\"white\"}},\"shapedefaults\":{\"line\":{\"color\":\"#2a3f5f\"}},\"ternary\":{\"aaxis\":{\"gridcolor\":\"white\",\"linecolor\":\"white\",\"ticks\":\"\"},\"baxis\":{\"gridcolor\":\"white\",\"linecolor\":\"white\",\"ticks\":\"\"},\"bgcolor\":\"#E5ECF6\",\"caxis\":{\"gridcolor\":\"white\",\"linecolor\":\"white\",\"ticks\":\"\"}},\"title\":{\"x\":0.05},\"xaxis\":{\"automargin\":true,\"gridcolor\":\"white\",\"linecolor\":\"white\",\"ticks\":\"\",\"title\":{\"standoff\":15},\"zerolinecolor\":\"white\",\"zerolinewidth\":2},\"yaxis\":{\"automargin\":true,\"gridcolor\":\"white\",\"linecolor\":\"white\",\"ticks\":\"\",\"title\":{\"standoff\":15},\"zerolinecolor\":\"white\",\"zerolinewidth\":2}}},\"xaxis\":{\"anchor\":\"y\",\"domain\":[0.0,1.0],\"title\":{\"text\":\"Lead Source\"},\"showgrid\":false},\"yaxis\":{\"anchor\":\"x\",\"domain\":[0.0,1.0],\"title\":{\"text\":\"Counts\"},\"showgrid\":false},\"legend\":{\"tracegroupgap\":0},\"margin\":{\"t\":60},\"barmode\":\"relative\",\"title\":{\"text\":\"Lead Source Distribution\",\"x\":0.5},\"showlegend\":false},                        {\"responsive\": true}                    ).then(function(){\n",
       "                            \n",
       "var gd = document.getElementById('110bcb25-98d6-4e5e-ac4d-35e2dcf6ea56');\n",
       "var x = new MutationObserver(function (mutations, observer) {{\n",
       "        var display = window.getComputedStyle(gd).display;\n",
       "        if (!display || display === 'none') {{\n",
       "            console.log([gd, 'removed!']);\n",
       "            Plotly.purge(gd);\n",
       "            observer.disconnect();\n",
       "        }}\n",
       "}});\n",
       "\n",
       "// Listen for the removal of the full notebook cells\n",
       "var notebookContainer = gd.closest('#notebook-container');\n",
       "if (notebookContainer) {{\n",
       "    x.observe(notebookContainer, {childList: true});\n",
       "}}\n",
       "\n",
       "// Listen for the clearing of the current output cell\n",
       "var outputEl = gd.closest('.output');\n",
       "if (outputEl) {{\n",
       "    x.observe(outputEl, {childList: true});\n",
       "}}\n",
       "\n",
       "                        })                };                });            </script>        </div>"
      ]
     },
     "metadata": {},
     "output_type": "display_data"
    }
   ],
   "source": [
    "barplot('Lead Source')"
   ]
  },
  {
   "cell_type": "code",
   "execution_count": null,
   "id": "a7d2fcba",
   "metadata": {},
   "outputs": [],
   "source": []
  },
  {
   "cell_type": "code",
   "execution_count": 58,
   "id": "5f16d5a2",
   "metadata": {},
   "outputs": [
    {
     "data": {
      "application/vnd.plotly.v1+json": {
       "config": {
        "plotlyServerURL": "https://plot.ly"
       },
       "data": [
        {
         "alignmentgroup": "True",
         "hovertemplate": "x=%{x}<br>y=%{y}<extra></extra>",
         "legendgroup": "",
         "marker": {
          "color": "blue",
          "pattern": {
           "shape": ""
          }
         },
         "name": "",
         "offsetgroup": "",
         "orientation": "v",
         "showlegend": false,
         "textposition": "auto",
         "texttemplate": "%{y:.2s}",
         "type": "bar",
         "x": [
          "No",
          "Yes"
         ],
         "xaxis": "x",
         "y": [
          8506,
          734
         ],
         "yaxis": "y"
        }
       ],
       "layout": {
        "barmode": "relative",
        "legend": {
         "tracegroupgap": 0
        },
        "margin": {
         "t": 60
        },
        "showlegend": false,
        "template": {
         "data": {
          "bar": [
           {
            "error_x": {
             "color": "#2a3f5f"
            },
            "error_y": {
             "color": "#2a3f5f"
            },
            "marker": {
             "line": {
              "color": "#E5ECF6",
              "width": 0.5
             },
             "pattern": {
              "fillmode": "overlay",
              "size": 10,
              "solidity": 0.2
             }
            },
            "type": "bar"
           }
          ],
          "barpolar": [
           {
            "marker": {
             "line": {
              "color": "#E5ECF6",
              "width": 0.5
             },
             "pattern": {
              "fillmode": "overlay",
              "size": 10,
              "solidity": 0.2
             }
            },
            "type": "barpolar"
           }
          ],
          "carpet": [
           {
            "aaxis": {
             "endlinecolor": "#2a3f5f",
             "gridcolor": "white",
             "linecolor": "white",
             "minorgridcolor": "white",
             "startlinecolor": "#2a3f5f"
            },
            "baxis": {
             "endlinecolor": "#2a3f5f",
             "gridcolor": "white",
             "linecolor": "white",
             "minorgridcolor": "white",
             "startlinecolor": "#2a3f5f"
            },
            "type": "carpet"
           }
          ],
          "choropleth": [
           {
            "colorbar": {
             "outlinewidth": 0,
             "ticks": ""
            },
            "type": "choropleth"
           }
          ],
          "contour": [
           {
            "colorbar": {
             "outlinewidth": 0,
             "ticks": ""
            },
            "colorscale": [
             [
              0,
              "#0d0887"
             ],
             [
              0.1111111111111111,
              "#46039f"
             ],
             [
              0.2222222222222222,
              "#7201a8"
             ],
             [
              0.3333333333333333,
              "#9c179e"
             ],
             [
              0.4444444444444444,
              "#bd3786"
             ],
             [
              0.5555555555555556,
              "#d8576b"
             ],
             [
              0.6666666666666666,
              "#ed7953"
             ],
             [
              0.7777777777777778,
              "#fb9f3a"
             ],
             [
              0.8888888888888888,
              "#fdca26"
             ],
             [
              1,
              "#f0f921"
             ]
            ],
            "type": "contour"
           }
          ],
          "contourcarpet": [
           {
            "colorbar": {
             "outlinewidth": 0,
             "ticks": ""
            },
            "type": "contourcarpet"
           }
          ],
          "heatmap": [
           {
            "colorbar": {
             "outlinewidth": 0,
             "ticks": ""
            },
            "colorscale": [
             [
              0,
              "#0d0887"
             ],
             [
              0.1111111111111111,
              "#46039f"
             ],
             [
              0.2222222222222222,
              "#7201a8"
             ],
             [
              0.3333333333333333,
              "#9c179e"
             ],
             [
              0.4444444444444444,
              "#bd3786"
             ],
             [
              0.5555555555555556,
              "#d8576b"
             ],
             [
              0.6666666666666666,
              "#ed7953"
             ],
             [
              0.7777777777777778,
              "#fb9f3a"
             ],
             [
              0.8888888888888888,
              "#fdca26"
             ],
             [
              1,
              "#f0f921"
             ]
            ],
            "type": "heatmap"
           }
          ],
          "heatmapgl": [
           {
            "colorbar": {
             "outlinewidth": 0,
             "ticks": ""
            },
            "colorscale": [
             [
              0,
              "#0d0887"
             ],
             [
              0.1111111111111111,
              "#46039f"
             ],
             [
              0.2222222222222222,
              "#7201a8"
             ],
             [
              0.3333333333333333,
              "#9c179e"
             ],
             [
              0.4444444444444444,
              "#bd3786"
             ],
             [
              0.5555555555555556,
              "#d8576b"
             ],
             [
              0.6666666666666666,
              "#ed7953"
             ],
             [
              0.7777777777777778,
              "#fb9f3a"
             ],
             [
              0.8888888888888888,
              "#fdca26"
             ],
             [
              1,
              "#f0f921"
             ]
            ],
            "type": "heatmapgl"
           }
          ],
          "histogram": [
           {
            "marker": {
             "pattern": {
              "fillmode": "overlay",
              "size": 10,
              "solidity": 0.2
             }
            },
            "type": "histogram"
           }
          ],
          "histogram2d": [
           {
            "colorbar": {
             "outlinewidth": 0,
             "ticks": ""
            },
            "colorscale": [
             [
              0,
              "#0d0887"
             ],
             [
              0.1111111111111111,
              "#46039f"
             ],
             [
              0.2222222222222222,
              "#7201a8"
             ],
             [
              0.3333333333333333,
              "#9c179e"
             ],
             [
              0.4444444444444444,
              "#bd3786"
             ],
             [
              0.5555555555555556,
              "#d8576b"
             ],
             [
              0.6666666666666666,
              "#ed7953"
             ],
             [
              0.7777777777777778,
              "#fb9f3a"
             ],
             [
              0.8888888888888888,
              "#fdca26"
             ],
             [
              1,
              "#f0f921"
             ]
            ],
            "type": "histogram2d"
           }
          ],
          "histogram2dcontour": [
           {
            "colorbar": {
             "outlinewidth": 0,
             "ticks": ""
            },
            "colorscale": [
             [
              0,
              "#0d0887"
             ],
             [
              0.1111111111111111,
              "#46039f"
             ],
             [
              0.2222222222222222,
              "#7201a8"
             ],
             [
              0.3333333333333333,
              "#9c179e"
             ],
             [
              0.4444444444444444,
              "#bd3786"
             ],
             [
              0.5555555555555556,
              "#d8576b"
             ],
             [
              0.6666666666666666,
              "#ed7953"
             ],
             [
              0.7777777777777778,
              "#fb9f3a"
             ],
             [
              0.8888888888888888,
              "#fdca26"
             ],
             [
              1,
              "#f0f921"
             ]
            ],
            "type": "histogram2dcontour"
           }
          ],
          "mesh3d": [
           {
            "colorbar": {
             "outlinewidth": 0,
             "ticks": ""
            },
            "type": "mesh3d"
           }
          ],
          "parcoords": [
           {
            "line": {
             "colorbar": {
              "outlinewidth": 0,
              "ticks": ""
             }
            },
            "type": "parcoords"
           }
          ],
          "pie": [
           {
            "automargin": true,
            "type": "pie"
           }
          ],
          "scatter": [
           {
            "marker": {
             "colorbar": {
              "outlinewidth": 0,
              "ticks": ""
             }
            },
            "type": "scatter"
           }
          ],
          "scatter3d": [
           {
            "line": {
             "colorbar": {
              "outlinewidth": 0,
              "ticks": ""
             }
            },
            "marker": {
             "colorbar": {
              "outlinewidth": 0,
              "ticks": ""
             }
            },
            "type": "scatter3d"
           }
          ],
          "scattercarpet": [
           {
            "marker": {
             "colorbar": {
              "outlinewidth": 0,
              "ticks": ""
             }
            },
            "type": "scattercarpet"
           }
          ],
          "scattergeo": [
           {
            "marker": {
             "colorbar": {
              "outlinewidth": 0,
              "ticks": ""
             }
            },
            "type": "scattergeo"
           }
          ],
          "scattergl": [
           {
            "marker": {
             "colorbar": {
              "outlinewidth": 0,
              "ticks": ""
             }
            },
            "type": "scattergl"
           }
          ],
          "scattermapbox": [
           {
            "marker": {
             "colorbar": {
              "outlinewidth": 0,
              "ticks": ""
             }
            },
            "type": "scattermapbox"
           }
          ],
          "scatterpolar": [
           {
            "marker": {
             "colorbar": {
              "outlinewidth": 0,
              "ticks": ""
             }
            },
            "type": "scatterpolar"
           }
          ],
          "scatterpolargl": [
           {
            "marker": {
             "colorbar": {
              "outlinewidth": 0,
              "ticks": ""
             }
            },
            "type": "scatterpolargl"
           }
          ],
          "scatterternary": [
           {
            "marker": {
             "colorbar": {
              "outlinewidth": 0,
              "ticks": ""
             }
            },
            "type": "scatterternary"
           }
          ],
          "surface": [
           {
            "colorbar": {
             "outlinewidth": 0,
             "ticks": ""
            },
            "colorscale": [
             [
              0,
              "#0d0887"
             ],
             [
              0.1111111111111111,
              "#46039f"
             ],
             [
              0.2222222222222222,
              "#7201a8"
             ],
             [
              0.3333333333333333,
              "#9c179e"
             ],
             [
              0.4444444444444444,
              "#bd3786"
             ],
             [
              0.5555555555555556,
              "#d8576b"
             ],
             [
              0.6666666666666666,
              "#ed7953"
             ],
             [
              0.7777777777777778,
              "#fb9f3a"
             ],
             [
              0.8888888888888888,
              "#fdca26"
             ],
             [
              1,
              "#f0f921"
             ]
            ],
            "type": "surface"
           }
          ],
          "table": [
           {
            "cells": {
             "fill": {
              "color": "#EBF0F8"
             },
             "line": {
              "color": "white"
             }
            },
            "header": {
             "fill": {
              "color": "#C8D4E3"
             },
             "line": {
              "color": "white"
             }
            },
            "type": "table"
           }
          ]
         },
         "layout": {
          "annotationdefaults": {
           "arrowcolor": "#2a3f5f",
           "arrowhead": 0,
           "arrowwidth": 1
          },
          "autotypenumbers": "strict",
          "coloraxis": {
           "colorbar": {
            "outlinewidth": 0,
            "ticks": ""
           }
          },
          "colorscale": {
           "diverging": [
            [
             0,
             "#8e0152"
            ],
            [
             0.1,
             "#c51b7d"
            ],
            [
             0.2,
             "#de77ae"
            ],
            [
             0.3,
             "#f1b6da"
            ],
            [
             0.4,
             "#fde0ef"
            ],
            [
             0.5,
             "#f7f7f7"
            ],
            [
             0.6,
             "#e6f5d0"
            ],
            [
             0.7,
             "#b8e186"
            ],
            [
             0.8,
             "#7fbc41"
            ],
            [
             0.9,
             "#4d9221"
            ],
            [
             1,
             "#276419"
            ]
           ],
           "sequential": [
            [
             0,
             "#0d0887"
            ],
            [
             0.1111111111111111,
             "#46039f"
            ],
            [
             0.2222222222222222,
             "#7201a8"
            ],
            [
             0.3333333333333333,
             "#9c179e"
            ],
            [
             0.4444444444444444,
             "#bd3786"
            ],
            [
             0.5555555555555556,
             "#d8576b"
            ],
            [
             0.6666666666666666,
             "#ed7953"
            ],
            [
             0.7777777777777778,
             "#fb9f3a"
            ],
            [
             0.8888888888888888,
             "#fdca26"
            ],
            [
             1,
             "#f0f921"
            ]
           ],
           "sequentialminus": [
            [
             0,
             "#0d0887"
            ],
            [
             0.1111111111111111,
             "#46039f"
            ],
            [
             0.2222222222222222,
             "#7201a8"
            ],
            [
             0.3333333333333333,
             "#9c179e"
            ],
            [
             0.4444444444444444,
             "#bd3786"
            ],
            [
             0.5555555555555556,
             "#d8576b"
            ],
            [
             0.6666666666666666,
             "#ed7953"
            ],
            [
             0.7777777777777778,
             "#fb9f3a"
            ],
            [
             0.8888888888888888,
             "#fdca26"
            ],
            [
             1,
             "#f0f921"
            ]
           ]
          },
          "colorway": [
           "#636efa",
           "#EF553B",
           "#00cc96",
           "#ab63fa",
           "#FFA15A",
           "#19d3f3",
           "#FF6692",
           "#B6E880",
           "#FF97FF",
           "#FECB52"
          ],
          "font": {
           "color": "#2a3f5f"
          },
          "geo": {
           "bgcolor": "white",
           "lakecolor": "white",
           "landcolor": "#E5ECF6",
           "showlakes": true,
           "showland": true,
           "subunitcolor": "white"
          },
          "hoverlabel": {
           "align": "left"
          },
          "hovermode": "closest",
          "mapbox": {
           "style": "light"
          },
          "paper_bgcolor": "white",
          "plot_bgcolor": "#E5ECF6",
          "polar": {
           "angularaxis": {
            "gridcolor": "white",
            "linecolor": "white",
            "ticks": ""
           },
           "bgcolor": "#E5ECF6",
           "radialaxis": {
            "gridcolor": "white",
            "linecolor": "white",
            "ticks": ""
           }
          },
          "scene": {
           "xaxis": {
            "backgroundcolor": "#E5ECF6",
            "gridcolor": "white",
            "gridwidth": 2,
            "linecolor": "white",
            "showbackground": true,
            "ticks": "",
            "zerolinecolor": "white"
           },
           "yaxis": {
            "backgroundcolor": "#E5ECF6",
            "gridcolor": "white",
            "gridwidth": 2,
            "linecolor": "white",
            "showbackground": true,
            "ticks": "",
            "zerolinecolor": "white"
           },
           "zaxis": {
            "backgroundcolor": "#E5ECF6",
            "gridcolor": "white",
            "gridwidth": 2,
            "linecolor": "white",
            "showbackground": true,
            "ticks": "",
            "zerolinecolor": "white"
           }
          },
          "shapedefaults": {
           "line": {
            "color": "#2a3f5f"
           }
          },
          "ternary": {
           "aaxis": {
            "gridcolor": "white",
            "linecolor": "white",
            "ticks": ""
           },
           "baxis": {
            "gridcolor": "white",
            "linecolor": "white",
            "ticks": ""
           },
           "bgcolor": "#E5ECF6",
           "caxis": {
            "gridcolor": "white",
            "linecolor": "white",
            "ticks": ""
           }
          },
          "title": {
           "x": 0.05
          },
          "xaxis": {
           "automargin": true,
           "gridcolor": "white",
           "linecolor": "white",
           "ticks": "",
           "title": {
            "standoff": 15
           },
           "zerolinecolor": "white",
           "zerolinewidth": 2
          },
          "yaxis": {
           "automargin": true,
           "gridcolor": "white",
           "linecolor": "white",
           "ticks": "",
           "title": {
            "standoff": 15
           },
           "zerolinecolor": "white",
           "zerolinewidth": 2
          }
         }
        },
        "title": {
         "text": "Do Not Email Distribution",
         "x": 0.5
        },
        "xaxis": {
         "anchor": "y",
         "domain": [
          0,
          1
         ],
         "showgrid": false,
         "title": {
          "text": "Do Not Email"
         }
        },
        "yaxis": {
         "anchor": "x",
         "domain": [
          0,
          1
         ],
         "showgrid": false,
         "title": {
          "text": "Counts"
         }
        }
       }
      },
      "text/html": [
       "<div>                            <div id=\"6f750065-7057-4235-ba56-46b60c7717f4\" class=\"plotly-graph-div\" style=\"height:525px; width:100%;\"></div>            <script type=\"text/javascript\">                require([\"plotly\"], function(Plotly) {                    window.PLOTLYENV=window.PLOTLYENV || {};                                    if (document.getElementById(\"6f750065-7057-4235-ba56-46b60c7717f4\")) {                    Plotly.newPlot(                        \"6f750065-7057-4235-ba56-46b60c7717f4\",                        [{\"alignmentgroup\":\"True\",\"hovertemplate\":\"x=%{x}<br>y=%{y}<extra></extra>\",\"legendgroup\":\"\",\"marker\":{\"color\":\"blue\",\"pattern\":{\"shape\":\"\"}},\"name\":\"\",\"offsetgroup\":\"\",\"orientation\":\"v\",\"showlegend\":false,\"textposition\":\"auto\",\"texttemplate\":\"%{y:.2s}\",\"x\":[\"No\",\"Yes\"],\"xaxis\":\"x\",\"y\":[8506,734],\"yaxis\":\"y\",\"type\":\"bar\"}],                        {\"template\":{\"data\":{\"bar\":[{\"error_x\":{\"color\":\"#2a3f5f\"},\"error_y\":{\"color\":\"#2a3f5f\"},\"marker\":{\"line\":{\"color\":\"#E5ECF6\",\"width\":0.5},\"pattern\":{\"fillmode\":\"overlay\",\"size\":10,\"solidity\":0.2}},\"type\":\"bar\"}],\"barpolar\":[{\"marker\":{\"line\":{\"color\":\"#E5ECF6\",\"width\":0.5},\"pattern\":{\"fillmode\":\"overlay\",\"size\":10,\"solidity\":0.2}},\"type\":\"barpolar\"}],\"carpet\":[{\"aaxis\":{\"endlinecolor\":\"#2a3f5f\",\"gridcolor\":\"white\",\"linecolor\":\"white\",\"minorgridcolor\":\"white\",\"startlinecolor\":\"#2a3f5f\"},\"baxis\":{\"endlinecolor\":\"#2a3f5f\",\"gridcolor\":\"white\",\"linecolor\":\"white\",\"minorgridcolor\":\"white\",\"startlinecolor\":\"#2a3f5f\"},\"type\":\"carpet\"}],\"choropleth\":[{\"colorbar\":{\"outlinewidth\":0,\"ticks\":\"\"},\"type\":\"choropleth\"}],\"contour\":[{\"colorbar\":{\"outlinewidth\":0,\"ticks\":\"\"},\"colorscale\":[[0.0,\"#0d0887\"],[0.1111111111111111,\"#46039f\"],[0.2222222222222222,\"#7201a8\"],[0.3333333333333333,\"#9c179e\"],[0.4444444444444444,\"#bd3786\"],[0.5555555555555556,\"#d8576b\"],[0.6666666666666666,\"#ed7953\"],[0.7777777777777778,\"#fb9f3a\"],[0.8888888888888888,\"#fdca26\"],[1.0,\"#f0f921\"]],\"type\":\"contour\"}],\"contourcarpet\":[{\"colorbar\":{\"outlinewidth\":0,\"ticks\":\"\"},\"type\":\"contourcarpet\"}],\"heatmap\":[{\"colorbar\":{\"outlinewidth\":0,\"ticks\":\"\"},\"colorscale\":[[0.0,\"#0d0887\"],[0.1111111111111111,\"#46039f\"],[0.2222222222222222,\"#7201a8\"],[0.3333333333333333,\"#9c179e\"],[0.4444444444444444,\"#bd3786\"],[0.5555555555555556,\"#d8576b\"],[0.6666666666666666,\"#ed7953\"],[0.7777777777777778,\"#fb9f3a\"],[0.8888888888888888,\"#fdca26\"],[1.0,\"#f0f921\"]],\"type\":\"heatmap\"}],\"heatmapgl\":[{\"colorbar\":{\"outlinewidth\":0,\"ticks\":\"\"},\"colorscale\":[[0.0,\"#0d0887\"],[0.1111111111111111,\"#46039f\"],[0.2222222222222222,\"#7201a8\"],[0.3333333333333333,\"#9c179e\"],[0.4444444444444444,\"#bd3786\"],[0.5555555555555556,\"#d8576b\"],[0.6666666666666666,\"#ed7953\"],[0.7777777777777778,\"#fb9f3a\"],[0.8888888888888888,\"#fdca26\"],[1.0,\"#f0f921\"]],\"type\":\"heatmapgl\"}],\"histogram\":[{\"marker\":{\"pattern\":{\"fillmode\":\"overlay\",\"size\":10,\"solidity\":0.2}},\"type\":\"histogram\"}],\"histogram2d\":[{\"colorbar\":{\"outlinewidth\":0,\"ticks\":\"\"},\"colorscale\":[[0.0,\"#0d0887\"],[0.1111111111111111,\"#46039f\"],[0.2222222222222222,\"#7201a8\"],[0.3333333333333333,\"#9c179e\"],[0.4444444444444444,\"#bd3786\"],[0.5555555555555556,\"#d8576b\"],[0.6666666666666666,\"#ed7953\"],[0.7777777777777778,\"#fb9f3a\"],[0.8888888888888888,\"#fdca26\"],[1.0,\"#f0f921\"]],\"type\":\"histogram2d\"}],\"histogram2dcontour\":[{\"colorbar\":{\"outlinewidth\":0,\"ticks\":\"\"},\"colorscale\":[[0.0,\"#0d0887\"],[0.1111111111111111,\"#46039f\"],[0.2222222222222222,\"#7201a8\"],[0.3333333333333333,\"#9c179e\"],[0.4444444444444444,\"#bd3786\"],[0.5555555555555556,\"#d8576b\"],[0.6666666666666666,\"#ed7953\"],[0.7777777777777778,\"#fb9f3a\"],[0.8888888888888888,\"#fdca26\"],[1.0,\"#f0f921\"]],\"type\":\"histogram2dcontour\"}],\"mesh3d\":[{\"colorbar\":{\"outlinewidth\":0,\"ticks\":\"\"},\"type\":\"mesh3d\"}],\"parcoords\":[{\"line\":{\"colorbar\":{\"outlinewidth\":0,\"ticks\":\"\"}},\"type\":\"parcoords\"}],\"pie\":[{\"automargin\":true,\"type\":\"pie\"}],\"scatter\":[{\"marker\":{\"colorbar\":{\"outlinewidth\":0,\"ticks\":\"\"}},\"type\":\"scatter\"}],\"scatter3d\":[{\"line\":{\"colorbar\":{\"outlinewidth\":0,\"ticks\":\"\"}},\"marker\":{\"colorbar\":{\"outlinewidth\":0,\"ticks\":\"\"}},\"type\":\"scatter3d\"}],\"scattercarpet\":[{\"marker\":{\"colorbar\":{\"outlinewidth\":0,\"ticks\":\"\"}},\"type\":\"scattercarpet\"}],\"scattergeo\":[{\"marker\":{\"colorbar\":{\"outlinewidth\":0,\"ticks\":\"\"}},\"type\":\"scattergeo\"}],\"scattergl\":[{\"marker\":{\"colorbar\":{\"outlinewidth\":0,\"ticks\":\"\"}},\"type\":\"scattergl\"}],\"scattermapbox\":[{\"marker\":{\"colorbar\":{\"outlinewidth\":0,\"ticks\":\"\"}},\"type\":\"scattermapbox\"}],\"scatterpolar\":[{\"marker\":{\"colorbar\":{\"outlinewidth\":0,\"ticks\":\"\"}},\"type\":\"scatterpolar\"}],\"scatterpolargl\":[{\"marker\":{\"colorbar\":{\"outlinewidth\":0,\"ticks\":\"\"}},\"type\":\"scatterpolargl\"}],\"scatterternary\":[{\"marker\":{\"colorbar\":{\"outlinewidth\":0,\"ticks\":\"\"}},\"type\":\"scatterternary\"}],\"surface\":[{\"colorbar\":{\"outlinewidth\":0,\"ticks\":\"\"},\"colorscale\":[[0.0,\"#0d0887\"],[0.1111111111111111,\"#46039f\"],[0.2222222222222222,\"#7201a8\"],[0.3333333333333333,\"#9c179e\"],[0.4444444444444444,\"#bd3786\"],[0.5555555555555556,\"#d8576b\"],[0.6666666666666666,\"#ed7953\"],[0.7777777777777778,\"#fb9f3a\"],[0.8888888888888888,\"#fdca26\"],[1.0,\"#f0f921\"]],\"type\":\"surface\"}],\"table\":[{\"cells\":{\"fill\":{\"color\":\"#EBF0F8\"},\"line\":{\"color\":\"white\"}},\"header\":{\"fill\":{\"color\":\"#C8D4E3\"},\"line\":{\"color\":\"white\"}},\"type\":\"table\"}]},\"layout\":{\"annotationdefaults\":{\"arrowcolor\":\"#2a3f5f\",\"arrowhead\":0,\"arrowwidth\":1},\"autotypenumbers\":\"strict\",\"coloraxis\":{\"colorbar\":{\"outlinewidth\":0,\"ticks\":\"\"}},\"colorscale\":{\"diverging\":[[0,\"#8e0152\"],[0.1,\"#c51b7d\"],[0.2,\"#de77ae\"],[0.3,\"#f1b6da\"],[0.4,\"#fde0ef\"],[0.5,\"#f7f7f7\"],[0.6,\"#e6f5d0\"],[0.7,\"#b8e186\"],[0.8,\"#7fbc41\"],[0.9,\"#4d9221\"],[1,\"#276419\"]],\"sequential\":[[0.0,\"#0d0887\"],[0.1111111111111111,\"#46039f\"],[0.2222222222222222,\"#7201a8\"],[0.3333333333333333,\"#9c179e\"],[0.4444444444444444,\"#bd3786\"],[0.5555555555555556,\"#d8576b\"],[0.6666666666666666,\"#ed7953\"],[0.7777777777777778,\"#fb9f3a\"],[0.8888888888888888,\"#fdca26\"],[1.0,\"#f0f921\"]],\"sequentialminus\":[[0.0,\"#0d0887\"],[0.1111111111111111,\"#46039f\"],[0.2222222222222222,\"#7201a8\"],[0.3333333333333333,\"#9c179e\"],[0.4444444444444444,\"#bd3786\"],[0.5555555555555556,\"#d8576b\"],[0.6666666666666666,\"#ed7953\"],[0.7777777777777778,\"#fb9f3a\"],[0.8888888888888888,\"#fdca26\"],[1.0,\"#f0f921\"]]},\"colorway\":[\"#636efa\",\"#EF553B\",\"#00cc96\",\"#ab63fa\",\"#FFA15A\",\"#19d3f3\",\"#FF6692\",\"#B6E880\",\"#FF97FF\",\"#FECB52\"],\"font\":{\"color\":\"#2a3f5f\"},\"geo\":{\"bgcolor\":\"white\",\"lakecolor\":\"white\",\"landcolor\":\"#E5ECF6\",\"showlakes\":true,\"showland\":true,\"subunitcolor\":\"white\"},\"hoverlabel\":{\"align\":\"left\"},\"hovermode\":\"closest\",\"mapbox\":{\"style\":\"light\"},\"paper_bgcolor\":\"white\",\"plot_bgcolor\":\"#E5ECF6\",\"polar\":{\"angularaxis\":{\"gridcolor\":\"white\",\"linecolor\":\"white\",\"ticks\":\"\"},\"bgcolor\":\"#E5ECF6\",\"radialaxis\":{\"gridcolor\":\"white\",\"linecolor\":\"white\",\"ticks\":\"\"}},\"scene\":{\"xaxis\":{\"backgroundcolor\":\"#E5ECF6\",\"gridcolor\":\"white\",\"gridwidth\":2,\"linecolor\":\"white\",\"showbackground\":true,\"ticks\":\"\",\"zerolinecolor\":\"white\"},\"yaxis\":{\"backgroundcolor\":\"#E5ECF6\",\"gridcolor\":\"white\",\"gridwidth\":2,\"linecolor\":\"white\",\"showbackground\":true,\"ticks\":\"\",\"zerolinecolor\":\"white\"},\"zaxis\":{\"backgroundcolor\":\"#E5ECF6\",\"gridcolor\":\"white\",\"gridwidth\":2,\"linecolor\":\"white\",\"showbackground\":true,\"ticks\":\"\",\"zerolinecolor\":\"white\"}},\"shapedefaults\":{\"line\":{\"color\":\"#2a3f5f\"}},\"ternary\":{\"aaxis\":{\"gridcolor\":\"white\",\"linecolor\":\"white\",\"ticks\":\"\"},\"baxis\":{\"gridcolor\":\"white\",\"linecolor\":\"white\",\"ticks\":\"\"},\"bgcolor\":\"#E5ECF6\",\"caxis\":{\"gridcolor\":\"white\",\"linecolor\":\"white\",\"ticks\":\"\"}},\"title\":{\"x\":0.05},\"xaxis\":{\"automargin\":true,\"gridcolor\":\"white\",\"linecolor\":\"white\",\"ticks\":\"\",\"title\":{\"standoff\":15},\"zerolinecolor\":\"white\",\"zerolinewidth\":2},\"yaxis\":{\"automargin\":true,\"gridcolor\":\"white\",\"linecolor\":\"white\",\"ticks\":\"\",\"title\":{\"standoff\":15},\"zerolinecolor\":\"white\",\"zerolinewidth\":2}}},\"xaxis\":{\"anchor\":\"y\",\"domain\":[0.0,1.0],\"title\":{\"text\":\"Do Not Email\"},\"showgrid\":false},\"yaxis\":{\"anchor\":\"x\",\"domain\":[0.0,1.0],\"title\":{\"text\":\"Counts\"},\"showgrid\":false},\"legend\":{\"tracegroupgap\":0},\"margin\":{\"t\":60},\"barmode\":\"relative\",\"title\":{\"text\":\"Do Not Email Distribution\",\"x\":0.5},\"showlegend\":false},                        {\"responsive\": true}                    ).then(function(){\n",
       "                            \n",
       "var gd = document.getElementById('6f750065-7057-4235-ba56-46b60c7717f4');\n",
       "var x = new MutationObserver(function (mutations, observer) {{\n",
       "        var display = window.getComputedStyle(gd).display;\n",
       "        if (!display || display === 'none') {{\n",
       "            console.log([gd, 'removed!']);\n",
       "            Plotly.purge(gd);\n",
       "            observer.disconnect();\n",
       "        }}\n",
       "}});\n",
       "\n",
       "// Listen for the removal of the full notebook cells\n",
       "var notebookContainer = gd.closest('#notebook-container');\n",
       "if (notebookContainer) {{\n",
       "    x.observe(notebookContainer, {childList: true});\n",
       "}}\n",
       "\n",
       "// Listen for the clearing of the current output cell\n",
       "var outputEl = gd.closest('.output');\n",
       "if (outputEl) {{\n",
       "    x.observe(outputEl, {childList: true});\n",
       "}}\n",
       "\n",
       "                        })                };                });            </script>        </div>"
      ]
     },
     "metadata": {},
     "output_type": "display_data"
    }
   ],
   "source": [
    "barplot('Do Not Email')"
   ]
  },
  {
   "cell_type": "code",
   "execution_count": null,
   "id": "8cedcd7f",
   "metadata": {},
   "outputs": [],
   "source": []
  },
  {
   "cell_type": "code",
   "execution_count": 59,
   "id": "47033984",
   "metadata": {},
   "outputs": [
    {
     "data": {
      "application/vnd.plotly.v1+json": {
       "config": {
        "plotlyServerURL": "https://plot.ly"
       },
       "data": [
        {
         "alignmentgroup": "True",
         "hovertemplate": "x=%{x}<br>y=%{y}<extra></extra>",
         "legendgroup": "",
         "marker": {
          "color": "blue",
          "pattern": {
           "shape": ""
          }
         },
         "name": "",
         "offsetgroup": "",
         "orientation": "v",
         "showlegend": false,
         "textposition": "auto",
         "texttemplate": "%{y:.2s}",
         "type": "bar",
         "x": [
          "No",
          "Yes"
         ],
         "xaxis": "x",
         "y": [
          9238,
          2
         ],
         "yaxis": "y"
        }
       ],
       "layout": {
        "barmode": "relative",
        "legend": {
         "tracegroupgap": 0
        },
        "margin": {
         "t": 60
        },
        "showlegend": false,
        "template": {
         "data": {
          "bar": [
           {
            "error_x": {
             "color": "#2a3f5f"
            },
            "error_y": {
             "color": "#2a3f5f"
            },
            "marker": {
             "line": {
              "color": "#E5ECF6",
              "width": 0.5
             },
             "pattern": {
              "fillmode": "overlay",
              "size": 10,
              "solidity": 0.2
             }
            },
            "type": "bar"
           }
          ],
          "barpolar": [
           {
            "marker": {
             "line": {
              "color": "#E5ECF6",
              "width": 0.5
             },
             "pattern": {
              "fillmode": "overlay",
              "size": 10,
              "solidity": 0.2
             }
            },
            "type": "barpolar"
           }
          ],
          "carpet": [
           {
            "aaxis": {
             "endlinecolor": "#2a3f5f",
             "gridcolor": "white",
             "linecolor": "white",
             "minorgridcolor": "white",
             "startlinecolor": "#2a3f5f"
            },
            "baxis": {
             "endlinecolor": "#2a3f5f",
             "gridcolor": "white",
             "linecolor": "white",
             "minorgridcolor": "white",
             "startlinecolor": "#2a3f5f"
            },
            "type": "carpet"
           }
          ],
          "choropleth": [
           {
            "colorbar": {
             "outlinewidth": 0,
             "ticks": ""
            },
            "type": "choropleth"
           }
          ],
          "contour": [
           {
            "colorbar": {
             "outlinewidth": 0,
             "ticks": ""
            },
            "colorscale": [
             [
              0,
              "#0d0887"
             ],
             [
              0.1111111111111111,
              "#46039f"
             ],
             [
              0.2222222222222222,
              "#7201a8"
             ],
             [
              0.3333333333333333,
              "#9c179e"
             ],
             [
              0.4444444444444444,
              "#bd3786"
             ],
             [
              0.5555555555555556,
              "#d8576b"
             ],
             [
              0.6666666666666666,
              "#ed7953"
             ],
             [
              0.7777777777777778,
              "#fb9f3a"
             ],
             [
              0.8888888888888888,
              "#fdca26"
             ],
             [
              1,
              "#f0f921"
             ]
            ],
            "type": "contour"
           }
          ],
          "contourcarpet": [
           {
            "colorbar": {
             "outlinewidth": 0,
             "ticks": ""
            },
            "type": "contourcarpet"
           }
          ],
          "heatmap": [
           {
            "colorbar": {
             "outlinewidth": 0,
             "ticks": ""
            },
            "colorscale": [
             [
              0,
              "#0d0887"
             ],
             [
              0.1111111111111111,
              "#46039f"
             ],
             [
              0.2222222222222222,
              "#7201a8"
             ],
             [
              0.3333333333333333,
              "#9c179e"
             ],
             [
              0.4444444444444444,
              "#bd3786"
             ],
             [
              0.5555555555555556,
              "#d8576b"
             ],
             [
              0.6666666666666666,
              "#ed7953"
             ],
             [
              0.7777777777777778,
              "#fb9f3a"
             ],
             [
              0.8888888888888888,
              "#fdca26"
             ],
             [
              1,
              "#f0f921"
             ]
            ],
            "type": "heatmap"
           }
          ],
          "heatmapgl": [
           {
            "colorbar": {
             "outlinewidth": 0,
             "ticks": ""
            },
            "colorscale": [
             [
              0,
              "#0d0887"
             ],
             [
              0.1111111111111111,
              "#46039f"
             ],
             [
              0.2222222222222222,
              "#7201a8"
             ],
             [
              0.3333333333333333,
              "#9c179e"
             ],
             [
              0.4444444444444444,
              "#bd3786"
             ],
             [
              0.5555555555555556,
              "#d8576b"
             ],
             [
              0.6666666666666666,
              "#ed7953"
             ],
             [
              0.7777777777777778,
              "#fb9f3a"
             ],
             [
              0.8888888888888888,
              "#fdca26"
             ],
             [
              1,
              "#f0f921"
             ]
            ],
            "type": "heatmapgl"
           }
          ],
          "histogram": [
           {
            "marker": {
             "pattern": {
              "fillmode": "overlay",
              "size": 10,
              "solidity": 0.2
             }
            },
            "type": "histogram"
           }
          ],
          "histogram2d": [
           {
            "colorbar": {
             "outlinewidth": 0,
             "ticks": ""
            },
            "colorscale": [
             [
              0,
              "#0d0887"
             ],
             [
              0.1111111111111111,
              "#46039f"
             ],
             [
              0.2222222222222222,
              "#7201a8"
             ],
             [
              0.3333333333333333,
              "#9c179e"
             ],
             [
              0.4444444444444444,
              "#bd3786"
             ],
             [
              0.5555555555555556,
              "#d8576b"
             ],
             [
              0.6666666666666666,
              "#ed7953"
             ],
             [
              0.7777777777777778,
              "#fb9f3a"
             ],
             [
              0.8888888888888888,
              "#fdca26"
             ],
             [
              1,
              "#f0f921"
             ]
            ],
            "type": "histogram2d"
           }
          ],
          "histogram2dcontour": [
           {
            "colorbar": {
             "outlinewidth": 0,
             "ticks": ""
            },
            "colorscale": [
             [
              0,
              "#0d0887"
             ],
             [
              0.1111111111111111,
              "#46039f"
             ],
             [
              0.2222222222222222,
              "#7201a8"
             ],
             [
              0.3333333333333333,
              "#9c179e"
             ],
             [
              0.4444444444444444,
              "#bd3786"
             ],
             [
              0.5555555555555556,
              "#d8576b"
             ],
             [
              0.6666666666666666,
              "#ed7953"
             ],
             [
              0.7777777777777778,
              "#fb9f3a"
             ],
             [
              0.8888888888888888,
              "#fdca26"
             ],
             [
              1,
              "#f0f921"
             ]
            ],
            "type": "histogram2dcontour"
           }
          ],
          "mesh3d": [
           {
            "colorbar": {
             "outlinewidth": 0,
             "ticks": ""
            },
            "type": "mesh3d"
           }
          ],
          "parcoords": [
           {
            "line": {
             "colorbar": {
              "outlinewidth": 0,
              "ticks": ""
             }
            },
            "type": "parcoords"
           }
          ],
          "pie": [
           {
            "automargin": true,
            "type": "pie"
           }
          ],
          "scatter": [
           {
            "marker": {
             "colorbar": {
              "outlinewidth": 0,
              "ticks": ""
             }
            },
            "type": "scatter"
           }
          ],
          "scatter3d": [
           {
            "line": {
             "colorbar": {
              "outlinewidth": 0,
              "ticks": ""
             }
            },
            "marker": {
             "colorbar": {
              "outlinewidth": 0,
              "ticks": ""
             }
            },
            "type": "scatter3d"
           }
          ],
          "scattercarpet": [
           {
            "marker": {
             "colorbar": {
              "outlinewidth": 0,
              "ticks": ""
             }
            },
            "type": "scattercarpet"
           }
          ],
          "scattergeo": [
           {
            "marker": {
             "colorbar": {
              "outlinewidth": 0,
              "ticks": ""
             }
            },
            "type": "scattergeo"
           }
          ],
          "scattergl": [
           {
            "marker": {
             "colorbar": {
              "outlinewidth": 0,
              "ticks": ""
             }
            },
            "type": "scattergl"
           }
          ],
          "scattermapbox": [
           {
            "marker": {
             "colorbar": {
              "outlinewidth": 0,
              "ticks": ""
             }
            },
            "type": "scattermapbox"
           }
          ],
          "scatterpolar": [
           {
            "marker": {
             "colorbar": {
              "outlinewidth": 0,
              "ticks": ""
             }
            },
            "type": "scatterpolar"
           }
          ],
          "scatterpolargl": [
           {
            "marker": {
             "colorbar": {
              "outlinewidth": 0,
              "ticks": ""
             }
            },
            "type": "scatterpolargl"
           }
          ],
          "scatterternary": [
           {
            "marker": {
             "colorbar": {
              "outlinewidth": 0,
              "ticks": ""
             }
            },
            "type": "scatterternary"
           }
          ],
          "surface": [
           {
            "colorbar": {
             "outlinewidth": 0,
             "ticks": ""
            },
            "colorscale": [
             [
              0,
              "#0d0887"
             ],
             [
              0.1111111111111111,
              "#46039f"
             ],
             [
              0.2222222222222222,
              "#7201a8"
             ],
             [
              0.3333333333333333,
              "#9c179e"
             ],
             [
              0.4444444444444444,
              "#bd3786"
             ],
             [
              0.5555555555555556,
              "#d8576b"
             ],
             [
              0.6666666666666666,
              "#ed7953"
             ],
             [
              0.7777777777777778,
              "#fb9f3a"
             ],
             [
              0.8888888888888888,
              "#fdca26"
             ],
             [
              1,
              "#f0f921"
             ]
            ],
            "type": "surface"
           }
          ],
          "table": [
           {
            "cells": {
             "fill": {
              "color": "#EBF0F8"
             },
             "line": {
              "color": "white"
             }
            },
            "header": {
             "fill": {
              "color": "#C8D4E3"
             },
             "line": {
              "color": "white"
             }
            },
            "type": "table"
           }
          ]
         },
         "layout": {
          "annotationdefaults": {
           "arrowcolor": "#2a3f5f",
           "arrowhead": 0,
           "arrowwidth": 1
          },
          "autotypenumbers": "strict",
          "coloraxis": {
           "colorbar": {
            "outlinewidth": 0,
            "ticks": ""
           }
          },
          "colorscale": {
           "diverging": [
            [
             0,
             "#8e0152"
            ],
            [
             0.1,
             "#c51b7d"
            ],
            [
             0.2,
             "#de77ae"
            ],
            [
             0.3,
             "#f1b6da"
            ],
            [
             0.4,
             "#fde0ef"
            ],
            [
             0.5,
             "#f7f7f7"
            ],
            [
             0.6,
             "#e6f5d0"
            ],
            [
             0.7,
             "#b8e186"
            ],
            [
             0.8,
             "#7fbc41"
            ],
            [
             0.9,
             "#4d9221"
            ],
            [
             1,
             "#276419"
            ]
           ],
           "sequential": [
            [
             0,
             "#0d0887"
            ],
            [
             0.1111111111111111,
             "#46039f"
            ],
            [
             0.2222222222222222,
             "#7201a8"
            ],
            [
             0.3333333333333333,
             "#9c179e"
            ],
            [
             0.4444444444444444,
             "#bd3786"
            ],
            [
             0.5555555555555556,
             "#d8576b"
            ],
            [
             0.6666666666666666,
             "#ed7953"
            ],
            [
             0.7777777777777778,
             "#fb9f3a"
            ],
            [
             0.8888888888888888,
             "#fdca26"
            ],
            [
             1,
             "#f0f921"
            ]
           ],
           "sequentialminus": [
            [
             0,
             "#0d0887"
            ],
            [
             0.1111111111111111,
             "#46039f"
            ],
            [
             0.2222222222222222,
             "#7201a8"
            ],
            [
             0.3333333333333333,
             "#9c179e"
            ],
            [
             0.4444444444444444,
             "#bd3786"
            ],
            [
             0.5555555555555556,
             "#d8576b"
            ],
            [
             0.6666666666666666,
             "#ed7953"
            ],
            [
             0.7777777777777778,
             "#fb9f3a"
            ],
            [
             0.8888888888888888,
             "#fdca26"
            ],
            [
             1,
             "#f0f921"
            ]
           ]
          },
          "colorway": [
           "#636efa",
           "#EF553B",
           "#00cc96",
           "#ab63fa",
           "#FFA15A",
           "#19d3f3",
           "#FF6692",
           "#B6E880",
           "#FF97FF",
           "#FECB52"
          ],
          "font": {
           "color": "#2a3f5f"
          },
          "geo": {
           "bgcolor": "white",
           "lakecolor": "white",
           "landcolor": "#E5ECF6",
           "showlakes": true,
           "showland": true,
           "subunitcolor": "white"
          },
          "hoverlabel": {
           "align": "left"
          },
          "hovermode": "closest",
          "mapbox": {
           "style": "light"
          },
          "paper_bgcolor": "white",
          "plot_bgcolor": "#E5ECF6",
          "polar": {
           "angularaxis": {
            "gridcolor": "white",
            "linecolor": "white",
            "ticks": ""
           },
           "bgcolor": "#E5ECF6",
           "radialaxis": {
            "gridcolor": "white",
            "linecolor": "white",
            "ticks": ""
           }
          },
          "scene": {
           "xaxis": {
            "backgroundcolor": "#E5ECF6",
            "gridcolor": "white",
            "gridwidth": 2,
            "linecolor": "white",
            "showbackground": true,
            "ticks": "",
            "zerolinecolor": "white"
           },
           "yaxis": {
            "backgroundcolor": "#E5ECF6",
            "gridcolor": "white",
            "gridwidth": 2,
            "linecolor": "white",
            "showbackground": true,
            "ticks": "",
            "zerolinecolor": "white"
           },
           "zaxis": {
            "backgroundcolor": "#E5ECF6",
            "gridcolor": "white",
            "gridwidth": 2,
            "linecolor": "white",
            "showbackground": true,
            "ticks": "",
            "zerolinecolor": "white"
           }
          },
          "shapedefaults": {
           "line": {
            "color": "#2a3f5f"
           }
          },
          "ternary": {
           "aaxis": {
            "gridcolor": "white",
            "linecolor": "white",
            "ticks": ""
           },
           "baxis": {
            "gridcolor": "white",
            "linecolor": "white",
            "ticks": ""
           },
           "bgcolor": "#E5ECF6",
           "caxis": {
            "gridcolor": "white",
            "linecolor": "white",
            "ticks": ""
           }
          },
          "title": {
           "x": 0.05
          },
          "xaxis": {
           "automargin": true,
           "gridcolor": "white",
           "linecolor": "white",
           "ticks": "",
           "title": {
            "standoff": 15
           },
           "zerolinecolor": "white",
           "zerolinewidth": 2
          },
          "yaxis": {
           "automargin": true,
           "gridcolor": "white",
           "linecolor": "white",
           "ticks": "",
           "title": {
            "standoff": 15
           },
           "zerolinecolor": "white",
           "zerolinewidth": 2
          }
         }
        },
        "title": {
         "text": "Do Not Call Distribution",
         "x": 0.5
        },
        "xaxis": {
         "anchor": "y",
         "domain": [
          0,
          1
         ],
         "showgrid": false,
         "title": {
          "text": "Do Not Call"
         }
        },
        "yaxis": {
         "anchor": "x",
         "domain": [
          0,
          1
         ],
         "showgrid": false,
         "title": {
          "text": "Counts"
         }
        }
       }
      },
      "text/html": [
       "<div>                            <div id=\"667d853a-c586-455b-b08b-16298ce497fd\" class=\"plotly-graph-div\" style=\"height:525px; width:100%;\"></div>            <script type=\"text/javascript\">                require([\"plotly\"], function(Plotly) {                    window.PLOTLYENV=window.PLOTLYENV || {};                                    if (document.getElementById(\"667d853a-c586-455b-b08b-16298ce497fd\")) {                    Plotly.newPlot(                        \"667d853a-c586-455b-b08b-16298ce497fd\",                        [{\"alignmentgroup\":\"True\",\"hovertemplate\":\"x=%{x}<br>y=%{y}<extra></extra>\",\"legendgroup\":\"\",\"marker\":{\"color\":\"blue\",\"pattern\":{\"shape\":\"\"}},\"name\":\"\",\"offsetgroup\":\"\",\"orientation\":\"v\",\"showlegend\":false,\"textposition\":\"auto\",\"texttemplate\":\"%{y:.2s}\",\"x\":[\"No\",\"Yes\"],\"xaxis\":\"x\",\"y\":[9238,2],\"yaxis\":\"y\",\"type\":\"bar\"}],                        {\"template\":{\"data\":{\"bar\":[{\"error_x\":{\"color\":\"#2a3f5f\"},\"error_y\":{\"color\":\"#2a3f5f\"},\"marker\":{\"line\":{\"color\":\"#E5ECF6\",\"width\":0.5},\"pattern\":{\"fillmode\":\"overlay\",\"size\":10,\"solidity\":0.2}},\"type\":\"bar\"}],\"barpolar\":[{\"marker\":{\"line\":{\"color\":\"#E5ECF6\",\"width\":0.5},\"pattern\":{\"fillmode\":\"overlay\",\"size\":10,\"solidity\":0.2}},\"type\":\"barpolar\"}],\"carpet\":[{\"aaxis\":{\"endlinecolor\":\"#2a3f5f\",\"gridcolor\":\"white\",\"linecolor\":\"white\",\"minorgridcolor\":\"white\",\"startlinecolor\":\"#2a3f5f\"},\"baxis\":{\"endlinecolor\":\"#2a3f5f\",\"gridcolor\":\"white\",\"linecolor\":\"white\",\"minorgridcolor\":\"white\",\"startlinecolor\":\"#2a3f5f\"},\"type\":\"carpet\"}],\"choropleth\":[{\"colorbar\":{\"outlinewidth\":0,\"ticks\":\"\"},\"type\":\"choropleth\"}],\"contour\":[{\"colorbar\":{\"outlinewidth\":0,\"ticks\":\"\"},\"colorscale\":[[0.0,\"#0d0887\"],[0.1111111111111111,\"#46039f\"],[0.2222222222222222,\"#7201a8\"],[0.3333333333333333,\"#9c179e\"],[0.4444444444444444,\"#bd3786\"],[0.5555555555555556,\"#d8576b\"],[0.6666666666666666,\"#ed7953\"],[0.7777777777777778,\"#fb9f3a\"],[0.8888888888888888,\"#fdca26\"],[1.0,\"#f0f921\"]],\"type\":\"contour\"}],\"contourcarpet\":[{\"colorbar\":{\"outlinewidth\":0,\"ticks\":\"\"},\"type\":\"contourcarpet\"}],\"heatmap\":[{\"colorbar\":{\"outlinewidth\":0,\"ticks\":\"\"},\"colorscale\":[[0.0,\"#0d0887\"],[0.1111111111111111,\"#46039f\"],[0.2222222222222222,\"#7201a8\"],[0.3333333333333333,\"#9c179e\"],[0.4444444444444444,\"#bd3786\"],[0.5555555555555556,\"#d8576b\"],[0.6666666666666666,\"#ed7953\"],[0.7777777777777778,\"#fb9f3a\"],[0.8888888888888888,\"#fdca26\"],[1.0,\"#f0f921\"]],\"type\":\"heatmap\"}],\"heatmapgl\":[{\"colorbar\":{\"outlinewidth\":0,\"ticks\":\"\"},\"colorscale\":[[0.0,\"#0d0887\"],[0.1111111111111111,\"#46039f\"],[0.2222222222222222,\"#7201a8\"],[0.3333333333333333,\"#9c179e\"],[0.4444444444444444,\"#bd3786\"],[0.5555555555555556,\"#d8576b\"],[0.6666666666666666,\"#ed7953\"],[0.7777777777777778,\"#fb9f3a\"],[0.8888888888888888,\"#fdca26\"],[1.0,\"#f0f921\"]],\"type\":\"heatmapgl\"}],\"histogram\":[{\"marker\":{\"pattern\":{\"fillmode\":\"overlay\",\"size\":10,\"solidity\":0.2}},\"type\":\"histogram\"}],\"histogram2d\":[{\"colorbar\":{\"outlinewidth\":0,\"ticks\":\"\"},\"colorscale\":[[0.0,\"#0d0887\"],[0.1111111111111111,\"#46039f\"],[0.2222222222222222,\"#7201a8\"],[0.3333333333333333,\"#9c179e\"],[0.4444444444444444,\"#bd3786\"],[0.5555555555555556,\"#d8576b\"],[0.6666666666666666,\"#ed7953\"],[0.7777777777777778,\"#fb9f3a\"],[0.8888888888888888,\"#fdca26\"],[1.0,\"#f0f921\"]],\"type\":\"histogram2d\"}],\"histogram2dcontour\":[{\"colorbar\":{\"outlinewidth\":0,\"ticks\":\"\"},\"colorscale\":[[0.0,\"#0d0887\"],[0.1111111111111111,\"#46039f\"],[0.2222222222222222,\"#7201a8\"],[0.3333333333333333,\"#9c179e\"],[0.4444444444444444,\"#bd3786\"],[0.5555555555555556,\"#d8576b\"],[0.6666666666666666,\"#ed7953\"],[0.7777777777777778,\"#fb9f3a\"],[0.8888888888888888,\"#fdca26\"],[1.0,\"#f0f921\"]],\"type\":\"histogram2dcontour\"}],\"mesh3d\":[{\"colorbar\":{\"outlinewidth\":0,\"ticks\":\"\"},\"type\":\"mesh3d\"}],\"parcoords\":[{\"line\":{\"colorbar\":{\"outlinewidth\":0,\"ticks\":\"\"}},\"type\":\"parcoords\"}],\"pie\":[{\"automargin\":true,\"type\":\"pie\"}],\"scatter\":[{\"marker\":{\"colorbar\":{\"outlinewidth\":0,\"ticks\":\"\"}},\"type\":\"scatter\"}],\"scatter3d\":[{\"line\":{\"colorbar\":{\"outlinewidth\":0,\"ticks\":\"\"}},\"marker\":{\"colorbar\":{\"outlinewidth\":0,\"ticks\":\"\"}},\"type\":\"scatter3d\"}],\"scattercarpet\":[{\"marker\":{\"colorbar\":{\"outlinewidth\":0,\"ticks\":\"\"}},\"type\":\"scattercarpet\"}],\"scattergeo\":[{\"marker\":{\"colorbar\":{\"outlinewidth\":0,\"ticks\":\"\"}},\"type\":\"scattergeo\"}],\"scattergl\":[{\"marker\":{\"colorbar\":{\"outlinewidth\":0,\"ticks\":\"\"}},\"type\":\"scattergl\"}],\"scattermapbox\":[{\"marker\":{\"colorbar\":{\"outlinewidth\":0,\"ticks\":\"\"}},\"type\":\"scattermapbox\"}],\"scatterpolar\":[{\"marker\":{\"colorbar\":{\"outlinewidth\":0,\"ticks\":\"\"}},\"type\":\"scatterpolar\"}],\"scatterpolargl\":[{\"marker\":{\"colorbar\":{\"outlinewidth\":0,\"ticks\":\"\"}},\"type\":\"scatterpolargl\"}],\"scatterternary\":[{\"marker\":{\"colorbar\":{\"outlinewidth\":0,\"ticks\":\"\"}},\"type\":\"scatterternary\"}],\"surface\":[{\"colorbar\":{\"outlinewidth\":0,\"ticks\":\"\"},\"colorscale\":[[0.0,\"#0d0887\"],[0.1111111111111111,\"#46039f\"],[0.2222222222222222,\"#7201a8\"],[0.3333333333333333,\"#9c179e\"],[0.4444444444444444,\"#bd3786\"],[0.5555555555555556,\"#d8576b\"],[0.6666666666666666,\"#ed7953\"],[0.7777777777777778,\"#fb9f3a\"],[0.8888888888888888,\"#fdca26\"],[1.0,\"#f0f921\"]],\"type\":\"surface\"}],\"table\":[{\"cells\":{\"fill\":{\"color\":\"#EBF0F8\"},\"line\":{\"color\":\"white\"}},\"header\":{\"fill\":{\"color\":\"#C8D4E3\"},\"line\":{\"color\":\"white\"}},\"type\":\"table\"}]},\"layout\":{\"annotationdefaults\":{\"arrowcolor\":\"#2a3f5f\",\"arrowhead\":0,\"arrowwidth\":1},\"autotypenumbers\":\"strict\",\"coloraxis\":{\"colorbar\":{\"outlinewidth\":0,\"ticks\":\"\"}},\"colorscale\":{\"diverging\":[[0,\"#8e0152\"],[0.1,\"#c51b7d\"],[0.2,\"#de77ae\"],[0.3,\"#f1b6da\"],[0.4,\"#fde0ef\"],[0.5,\"#f7f7f7\"],[0.6,\"#e6f5d0\"],[0.7,\"#b8e186\"],[0.8,\"#7fbc41\"],[0.9,\"#4d9221\"],[1,\"#276419\"]],\"sequential\":[[0.0,\"#0d0887\"],[0.1111111111111111,\"#46039f\"],[0.2222222222222222,\"#7201a8\"],[0.3333333333333333,\"#9c179e\"],[0.4444444444444444,\"#bd3786\"],[0.5555555555555556,\"#d8576b\"],[0.6666666666666666,\"#ed7953\"],[0.7777777777777778,\"#fb9f3a\"],[0.8888888888888888,\"#fdca26\"],[1.0,\"#f0f921\"]],\"sequentialminus\":[[0.0,\"#0d0887\"],[0.1111111111111111,\"#46039f\"],[0.2222222222222222,\"#7201a8\"],[0.3333333333333333,\"#9c179e\"],[0.4444444444444444,\"#bd3786\"],[0.5555555555555556,\"#d8576b\"],[0.6666666666666666,\"#ed7953\"],[0.7777777777777778,\"#fb9f3a\"],[0.8888888888888888,\"#fdca26\"],[1.0,\"#f0f921\"]]},\"colorway\":[\"#636efa\",\"#EF553B\",\"#00cc96\",\"#ab63fa\",\"#FFA15A\",\"#19d3f3\",\"#FF6692\",\"#B6E880\",\"#FF97FF\",\"#FECB52\"],\"font\":{\"color\":\"#2a3f5f\"},\"geo\":{\"bgcolor\":\"white\",\"lakecolor\":\"white\",\"landcolor\":\"#E5ECF6\",\"showlakes\":true,\"showland\":true,\"subunitcolor\":\"white\"},\"hoverlabel\":{\"align\":\"left\"},\"hovermode\":\"closest\",\"mapbox\":{\"style\":\"light\"},\"paper_bgcolor\":\"white\",\"plot_bgcolor\":\"#E5ECF6\",\"polar\":{\"angularaxis\":{\"gridcolor\":\"white\",\"linecolor\":\"white\",\"ticks\":\"\"},\"bgcolor\":\"#E5ECF6\",\"radialaxis\":{\"gridcolor\":\"white\",\"linecolor\":\"white\",\"ticks\":\"\"}},\"scene\":{\"xaxis\":{\"backgroundcolor\":\"#E5ECF6\",\"gridcolor\":\"white\",\"gridwidth\":2,\"linecolor\":\"white\",\"showbackground\":true,\"ticks\":\"\",\"zerolinecolor\":\"white\"},\"yaxis\":{\"backgroundcolor\":\"#E5ECF6\",\"gridcolor\":\"white\",\"gridwidth\":2,\"linecolor\":\"white\",\"showbackground\":true,\"ticks\":\"\",\"zerolinecolor\":\"white\"},\"zaxis\":{\"backgroundcolor\":\"#E5ECF6\",\"gridcolor\":\"white\",\"gridwidth\":2,\"linecolor\":\"white\",\"showbackground\":true,\"ticks\":\"\",\"zerolinecolor\":\"white\"}},\"shapedefaults\":{\"line\":{\"color\":\"#2a3f5f\"}},\"ternary\":{\"aaxis\":{\"gridcolor\":\"white\",\"linecolor\":\"white\",\"ticks\":\"\"},\"baxis\":{\"gridcolor\":\"white\",\"linecolor\":\"white\",\"ticks\":\"\"},\"bgcolor\":\"#E5ECF6\",\"caxis\":{\"gridcolor\":\"white\",\"linecolor\":\"white\",\"ticks\":\"\"}},\"title\":{\"x\":0.05},\"xaxis\":{\"automargin\":true,\"gridcolor\":\"white\",\"linecolor\":\"white\",\"ticks\":\"\",\"title\":{\"standoff\":15},\"zerolinecolor\":\"white\",\"zerolinewidth\":2},\"yaxis\":{\"automargin\":true,\"gridcolor\":\"white\",\"linecolor\":\"white\",\"ticks\":\"\",\"title\":{\"standoff\":15},\"zerolinecolor\":\"white\",\"zerolinewidth\":2}}},\"xaxis\":{\"anchor\":\"y\",\"domain\":[0.0,1.0],\"title\":{\"text\":\"Do Not Call\"},\"showgrid\":false},\"yaxis\":{\"anchor\":\"x\",\"domain\":[0.0,1.0],\"title\":{\"text\":\"Counts\"},\"showgrid\":false},\"legend\":{\"tracegroupgap\":0},\"margin\":{\"t\":60},\"barmode\":\"relative\",\"title\":{\"text\":\"Do Not Call Distribution\",\"x\":0.5},\"showlegend\":false},                        {\"responsive\": true}                    ).then(function(){\n",
       "                            \n",
       "var gd = document.getElementById('667d853a-c586-455b-b08b-16298ce497fd');\n",
       "var x = new MutationObserver(function (mutations, observer) {{\n",
       "        var display = window.getComputedStyle(gd).display;\n",
       "        if (!display || display === 'none') {{\n",
       "            console.log([gd, 'removed!']);\n",
       "            Plotly.purge(gd);\n",
       "            observer.disconnect();\n",
       "        }}\n",
       "}});\n",
       "\n",
       "// Listen for the removal of the full notebook cells\n",
       "var notebookContainer = gd.closest('#notebook-container');\n",
       "if (notebookContainer) {{\n",
       "    x.observe(notebookContainer, {childList: true});\n",
       "}}\n",
       "\n",
       "// Listen for the clearing of the current output cell\n",
       "var outputEl = gd.closest('.output');\n",
       "if (outputEl) {{\n",
       "    x.observe(outputEl, {childList: true});\n",
       "}}\n",
       "\n",
       "                        })                };                });            </script>        </div>"
      ]
     },
     "metadata": {},
     "output_type": "display_data"
    }
   ],
   "source": [
    "barplot('Do Not Call')"
   ]
  },
  {
   "cell_type": "code",
   "execution_count": null,
   "id": "823593f2",
   "metadata": {},
   "outputs": [],
   "source": []
  },
  {
   "cell_type": "code",
   "execution_count": 60,
   "id": "ebdb514c",
   "metadata": {},
   "outputs": [
    {
     "data": {
      "application/vnd.plotly.v1+json": {
       "config": {
        "plotlyServerURL": "https://plot.ly"
       },
       "data": [
        {
         "alignmentgroup": "True",
         "hovertemplate": "x=%{x}<br>y=%{y}<extra></extra>",
         "legendgroup": "",
         "marker": {
          "color": "blue",
          "pattern": {
           "shape": ""
          }
         },
         "name": "",
         "offsetgroup": "",
         "orientation": "v",
         "showlegend": false,
         "textposition": "auto",
         "texttemplate": "%{y:.2s}",
         "type": "bar",
         "x": [
          "Email Opened",
          "SMS Sent",
          "Olark Chat Conversation",
          "Page Visited on Website",
          "Converted to Lead",
          "Email Bounced",
          "Email Link Clicked",
          "Form Submitted on Website",
          "Unreachable",
          "Unsubscribed",
          "Had a Phone Conversation",
          "Approached upfront",
          "View in browser link Clicked",
          "Email Received",
          "Email Marked Spam",
          "Visited Booth in Tradeshow",
          "Resubscribed to emails"
         ],
         "xaxis": "x",
         "y": [
          3437,
          2745,
          973,
          640,
          428,
          326,
          267,
          116,
          93,
          61,
          30,
          9,
          6,
          2,
          2,
          1,
          1
         ],
         "yaxis": "y"
        }
       ],
       "layout": {
        "barmode": "relative",
        "legend": {
         "tracegroupgap": 0
        },
        "margin": {
         "t": 60
        },
        "showlegend": false,
        "template": {
         "data": {
          "bar": [
           {
            "error_x": {
             "color": "#2a3f5f"
            },
            "error_y": {
             "color": "#2a3f5f"
            },
            "marker": {
             "line": {
              "color": "#E5ECF6",
              "width": 0.5
             },
             "pattern": {
              "fillmode": "overlay",
              "size": 10,
              "solidity": 0.2
             }
            },
            "type": "bar"
           }
          ],
          "barpolar": [
           {
            "marker": {
             "line": {
              "color": "#E5ECF6",
              "width": 0.5
             },
             "pattern": {
              "fillmode": "overlay",
              "size": 10,
              "solidity": 0.2
             }
            },
            "type": "barpolar"
           }
          ],
          "carpet": [
           {
            "aaxis": {
             "endlinecolor": "#2a3f5f",
             "gridcolor": "white",
             "linecolor": "white",
             "minorgridcolor": "white",
             "startlinecolor": "#2a3f5f"
            },
            "baxis": {
             "endlinecolor": "#2a3f5f",
             "gridcolor": "white",
             "linecolor": "white",
             "minorgridcolor": "white",
             "startlinecolor": "#2a3f5f"
            },
            "type": "carpet"
           }
          ],
          "choropleth": [
           {
            "colorbar": {
             "outlinewidth": 0,
             "ticks": ""
            },
            "type": "choropleth"
           }
          ],
          "contour": [
           {
            "colorbar": {
             "outlinewidth": 0,
             "ticks": ""
            },
            "colorscale": [
             [
              0,
              "#0d0887"
             ],
             [
              0.1111111111111111,
              "#46039f"
             ],
             [
              0.2222222222222222,
              "#7201a8"
             ],
             [
              0.3333333333333333,
              "#9c179e"
             ],
             [
              0.4444444444444444,
              "#bd3786"
             ],
             [
              0.5555555555555556,
              "#d8576b"
             ],
             [
              0.6666666666666666,
              "#ed7953"
             ],
             [
              0.7777777777777778,
              "#fb9f3a"
             ],
             [
              0.8888888888888888,
              "#fdca26"
             ],
             [
              1,
              "#f0f921"
             ]
            ],
            "type": "contour"
           }
          ],
          "contourcarpet": [
           {
            "colorbar": {
             "outlinewidth": 0,
             "ticks": ""
            },
            "type": "contourcarpet"
           }
          ],
          "heatmap": [
           {
            "colorbar": {
             "outlinewidth": 0,
             "ticks": ""
            },
            "colorscale": [
             [
              0,
              "#0d0887"
             ],
             [
              0.1111111111111111,
              "#46039f"
             ],
             [
              0.2222222222222222,
              "#7201a8"
             ],
             [
              0.3333333333333333,
              "#9c179e"
             ],
             [
              0.4444444444444444,
              "#bd3786"
             ],
             [
              0.5555555555555556,
              "#d8576b"
             ],
             [
              0.6666666666666666,
              "#ed7953"
             ],
             [
              0.7777777777777778,
              "#fb9f3a"
             ],
             [
              0.8888888888888888,
              "#fdca26"
             ],
             [
              1,
              "#f0f921"
             ]
            ],
            "type": "heatmap"
           }
          ],
          "heatmapgl": [
           {
            "colorbar": {
             "outlinewidth": 0,
             "ticks": ""
            },
            "colorscale": [
             [
              0,
              "#0d0887"
             ],
             [
              0.1111111111111111,
              "#46039f"
             ],
             [
              0.2222222222222222,
              "#7201a8"
             ],
             [
              0.3333333333333333,
              "#9c179e"
             ],
             [
              0.4444444444444444,
              "#bd3786"
             ],
             [
              0.5555555555555556,
              "#d8576b"
             ],
             [
              0.6666666666666666,
              "#ed7953"
             ],
             [
              0.7777777777777778,
              "#fb9f3a"
             ],
             [
              0.8888888888888888,
              "#fdca26"
             ],
             [
              1,
              "#f0f921"
             ]
            ],
            "type": "heatmapgl"
           }
          ],
          "histogram": [
           {
            "marker": {
             "pattern": {
              "fillmode": "overlay",
              "size": 10,
              "solidity": 0.2
             }
            },
            "type": "histogram"
           }
          ],
          "histogram2d": [
           {
            "colorbar": {
             "outlinewidth": 0,
             "ticks": ""
            },
            "colorscale": [
             [
              0,
              "#0d0887"
             ],
             [
              0.1111111111111111,
              "#46039f"
             ],
             [
              0.2222222222222222,
              "#7201a8"
             ],
             [
              0.3333333333333333,
              "#9c179e"
             ],
             [
              0.4444444444444444,
              "#bd3786"
             ],
             [
              0.5555555555555556,
              "#d8576b"
             ],
             [
              0.6666666666666666,
              "#ed7953"
             ],
             [
              0.7777777777777778,
              "#fb9f3a"
             ],
             [
              0.8888888888888888,
              "#fdca26"
             ],
             [
              1,
              "#f0f921"
             ]
            ],
            "type": "histogram2d"
           }
          ],
          "histogram2dcontour": [
           {
            "colorbar": {
             "outlinewidth": 0,
             "ticks": ""
            },
            "colorscale": [
             [
              0,
              "#0d0887"
             ],
             [
              0.1111111111111111,
              "#46039f"
             ],
             [
              0.2222222222222222,
              "#7201a8"
             ],
             [
              0.3333333333333333,
              "#9c179e"
             ],
             [
              0.4444444444444444,
              "#bd3786"
             ],
             [
              0.5555555555555556,
              "#d8576b"
             ],
             [
              0.6666666666666666,
              "#ed7953"
             ],
             [
              0.7777777777777778,
              "#fb9f3a"
             ],
             [
              0.8888888888888888,
              "#fdca26"
             ],
             [
              1,
              "#f0f921"
             ]
            ],
            "type": "histogram2dcontour"
           }
          ],
          "mesh3d": [
           {
            "colorbar": {
             "outlinewidth": 0,
             "ticks": ""
            },
            "type": "mesh3d"
           }
          ],
          "parcoords": [
           {
            "line": {
             "colorbar": {
              "outlinewidth": 0,
              "ticks": ""
             }
            },
            "type": "parcoords"
           }
          ],
          "pie": [
           {
            "automargin": true,
            "type": "pie"
           }
          ],
          "scatter": [
           {
            "marker": {
             "colorbar": {
              "outlinewidth": 0,
              "ticks": ""
             }
            },
            "type": "scatter"
           }
          ],
          "scatter3d": [
           {
            "line": {
             "colorbar": {
              "outlinewidth": 0,
              "ticks": ""
             }
            },
            "marker": {
             "colorbar": {
              "outlinewidth": 0,
              "ticks": ""
             }
            },
            "type": "scatter3d"
           }
          ],
          "scattercarpet": [
           {
            "marker": {
             "colorbar": {
              "outlinewidth": 0,
              "ticks": ""
             }
            },
            "type": "scattercarpet"
           }
          ],
          "scattergeo": [
           {
            "marker": {
             "colorbar": {
              "outlinewidth": 0,
              "ticks": ""
             }
            },
            "type": "scattergeo"
           }
          ],
          "scattergl": [
           {
            "marker": {
             "colorbar": {
              "outlinewidth": 0,
              "ticks": ""
             }
            },
            "type": "scattergl"
           }
          ],
          "scattermapbox": [
           {
            "marker": {
             "colorbar": {
              "outlinewidth": 0,
              "ticks": ""
             }
            },
            "type": "scattermapbox"
           }
          ],
          "scatterpolar": [
           {
            "marker": {
             "colorbar": {
              "outlinewidth": 0,
              "ticks": ""
             }
            },
            "type": "scatterpolar"
           }
          ],
          "scatterpolargl": [
           {
            "marker": {
             "colorbar": {
              "outlinewidth": 0,
              "ticks": ""
             }
            },
            "type": "scatterpolargl"
           }
          ],
          "scatterternary": [
           {
            "marker": {
             "colorbar": {
              "outlinewidth": 0,
              "ticks": ""
             }
            },
            "type": "scatterternary"
           }
          ],
          "surface": [
           {
            "colorbar": {
             "outlinewidth": 0,
             "ticks": ""
            },
            "colorscale": [
             [
              0,
              "#0d0887"
             ],
             [
              0.1111111111111111,
              "#46039f"
             ],
             [
              0.2222222222222222,
              "#7201a8"
             ],
             [
              0.3333333333333333,
              "#9c179e"
             ],
             [
              0.4444444444444444,
              "#bd3786"
             ],
             [
              0.5555555555555556,
              "#d8576b"
             ],
             [
              0.6666666666666666,
              "#ed7953"
             ],
             [
              0.7777777777777778,
              "#fb9f3a"
             ],
             [
              0.8888888888888888,
              "#fdca26"
             ],
             [
              1,
              "#f0f921"
             ]
            ],
            "type": "surface"
           }
          ],
          "table": [
           {
            "cells": {
             "fill": {
              "color": "#EBF0F8"
             },
             "line": {
              "color": "white"
             }
            },
            "header": {
             "fill": {
              "color": "#C8D4E3"
             },
             "line": {
              "color": "white"
             }
            },
            "type": "table"
           }
          ]
         },
         "layout": {
          "annotationdefaults": {
           "arrowcolor": "#2a3f5f",
           "arrowhead": 0,
           "arrowwidth": 1
          },
          "autotypenumbers": "strict",
          "coloraxis": {
           "colorbar": {
            "outlinewidth": 0,
            "ticks": ""
           }
          },
          "colorscale": {
           "diverging": [
            [
             0,
             "#8e0152"
            ],
            [
             0.1,
             "#c51b7d"
            ],
            [
             0.2,
             "#de77ae"
            ],
            [
             0.3,
             "#f1b6da"
            ],
            [
             0.4,
             "#fde0ef"
            ],
            [
             0.5,
             "#f7f7f7"
            ],
            [
             0.6,
             "#e6f5d0"
            ],
            [
             0.7,
             "#b8e186"
            ],
            [
             0.8,
             "#7fbc41"
            ],
            [
             0.9,
             "#4d9221"
            ],
            [
             1,
             "#276419"
            ]
           ],
           "sequential": [
            [
             0,
             "#0d0887"
            ],
            [
             0.1111111111111111,
             "#46039f"
            ],
            [
             0.2222222222222222,
             "#7201a8"
            ],
            [
             0.3333333333333333,
             "#9c179e"
            ],
            [
             0.4444444444444444,
             "#bd3786"
            ],
            [
             0.5555555555555556,
             "#d8576b"
            ],
            [
             0.6666666666666666,
             "#ed7953"
            ],
            [
             0.7777777777777778,
             "#fb9f3a"
            ],
            [
             0.8888888888888888,
             "#fdca26"
            ],
            [
             1,
             "#f0f921"
            ]
           ],
           "sequentialminus": [
            [
             0,
             "#0d0887"
            ],
            [
             0.1111111111111111,
             "#46039f"
            ],
            [
             0.2222222222222222,
             "#7201a8"
            ],
            [
             0.3333333333333333,
             "#9c179e"
            ],
            [
             0.4444444444444444,
             "#bd3786"
            ],
            [
             0.5555555555555556,
             "#d8576b"
            ],
            [
             0.6666666666666666,
             "#ed7953"
            ],
            [
             0.7777777777777778,
             "#fb9f3a"
            ],
            [
             0.8888888888888888,
             "#fdca26"
            ],
            [
             1,
             "#f0f921"
            ]
           ]
          },
          "colorway": [
           "#636efa",
           "#EF553B",
           "#00cc96",
           "#ab63fa",
           "#FFA15A",
           "#19d3f3",
           "#FF6692",
           "#B6E880",
           "#FF97FF",
           "#FECB52"
          ],
          "font": {
           "color": "#2a3f5f"
          },
          "geo": {
           "bgcolor": "white",
           "lakecolor": "white",
           "landcolor": "#E5ECF6",
           "showlakes": true,
           "showland": true,
           "subunitcolor": "white"
          },
          "hoverlabel": {
           "align": "left"
          },
          "hovermode": "closest",
          "mapbox": {
           "style": "light"
          },
          "paper_bgcolor": "white",
          "plot_bgcolor": "#E5ECF6",
          "polar": {
           "angularaxis": {
            "gridcolor": "white",
            "linecolor": "white",
            "ticks": ""
           },
           "bgcolor": "#E5ECF6",
           "radialaxis": {
            "gridcolor": "white",
            "linecolor": "white",
            "ticks": ""
           }
          },
          "scene": {
           "xaxis": {
            "backgroundcolor": "#E5ECF6",
            "gridcolor": "white",
            "gridwidth": 2,
            "linecolor": "white",
            "showbackground": true,
            "ticks": "",
            "zerolinecolor": "white"
           },
           "yaxis": {
            "backgroundcolor": "#E5ECF6",
            "gridcolor": "white",
            "gridwidth": 2,
            "linecolor": "white",
            "showbackground": true,
            "ticks": "",
            "zerolinecolor": "white"
           },
           "zaxis": {
            "backgroundcolor": "#E5ECF6",
            "gridcolor": "white",
            "gridwidth": 2,
            "linecolor": "white",
            "showbackground": true,
            "ticks": "",
            "zerolinecolor": "white"
           }
          },
          "shapedefaults": {
           "line": {
            "color": "#2a3f5f"
           }
          },
          "ternary": {
           "aaxis": {
            "gridcolor": "white",
            "linecolor": "white",
            "ticks": ""
           },
           "baxis": {
            "gridcolor": "white",
            "linecolor": "white",
            "ticks": ""
           },
           "bgcolor": "#E5ECF6",
           "caxis": {
            "gridcolor": "white",
            "linecolor": "white",
            "ticks": ""
           }
          },
          "title": {
           "x": 0.05
          },
          "xaxis": {
           "automargin": true,
           "gridcolor": "white",
           "linecolor": "white",
           "ticks": "",
           "title": {
            "standoff": 15
           },
           "zerolinecolor": "white",
           "zerolinewidth": 2
          },
          "yaxis": {
           "automargin": true,
           "gridcolor": "white",
           "linecolor": "white",
           "ticks": "",
           "title": {
            "standoff": 15
           },
           "zerolinecolor": "white",
           "zerolinewidth": 2
          }
         }
        },
        "title": {
         "text": "Last Activity Distribution",
         "x": 0.5
        },
        "xaxis": {
         "anchor": "y",
         "domain": [
          0,
          1
         ],
         "showgrid": false,
         "title": {
          "text": "Last Activity"
         }
        },
        "yaxis": {
         "anchor": "x",
         "domain": [
          0,
          1
         ],
         "showgrid": false,
         "title": {
          "text": "Counts"
         }
        }
       }
      },
      "text/html": [
       "<div>                            <div id=\"d6de0a23-b39e-4726-bc43-837dbb67176b\" class=\"plotly-graph-div\" style=\"height:525px; width:100%;\"></div>            <script type=\"text/javascript\">                require([\"plotly\"], function(Plotly) {                    window.PLOTLYENV=window.PLOTLYENV || {};                                    if (document.getElementById(\"d6de0a23-b39e-4726-bc43-837dbb67176b\")) {                    Plotly.newPlot(                        \"d6de0a23-b39e-4726-bc43-837dbb67176b\",                        [{\"alignmentgroup\":\"True\",\"hovertemplate\":\"x=%{x}<br>y=%{y}<extra></extra>\",\"legendgroup\":\"\",\"marker\":{\"color\":\"blue\",\"pattern\":{\"shape\":\"\"}},\"name\":\"\",\"offsetgroup\":\"\",\"orientation\":\"v\",\"showlegend\":false,\"textposition\":\"auto\",\"texttemplate\":\"%{y:.2s}\",\"x\":[\"Email Opened\",\"SMS Sent\",\"Olark Chat Conversation\",\"Page Visited on Website\",\"Converted to Lead\",\"Email Bounced\",\"Email Link Clicked\",\"Form Submitted on Website\",\"Unreachable\",\"Unsubscribed\",\"Had a Phone Conversation\",\"Approached upfront\",\"View in browser link Clicked\",\"Email Received\",\"Email Marked Spam\",\"Visited Booth in Tradeshow\",\"Resubscribed to emails\"],\"xaxis\":\"x\",\"y\":[3437,2745,973,640,428,326,267,116,93,61,30,9,6,2,2,1,1],\"yaxis\":\"y\",\"type\":\"bar\"}],                        {\"template\":{\"data\":{\"bar\":[{\"error_x\":{\"color\":\"#2a3f5f\"},\"error_y\":{\"color\":\"#2a3f5f\"},\"marker\":{\"line\":{\"color\":\"#E5ECF6\",\"width\":0.5},\"pattern\":{\"fillmode\":\"overlay\",\"size\":10,\"solidity\":0.2}},\"type\":\"bar\"}],\"barpolar\":[{\"marker\":{\"line\":{\"color\":\"#E5ECF6\",\"width\":0.5},\"pattern\":{\"fillmode\":\"overlay\",\"size\":10,\"solidity\":0.2}},\"type\":\"barpolar\"}],\"carpet\":[{\"aaxis\":{\"endlinecolor\":\"#2a3f5f\",\"gridcolor\":\"white\",\"linecolor\":\"white\",\"minorgridcolor\":\"white\",\"startlinecolor\":\"#2a3f5f\"},\"baxis\":{\"endlinecolor\":\"#2a3f5f\",\"gridcolor\":\"white\",\"linecolor\":\"white\",\"minorgridcolor\":\"white\",\"startlinecolor\":\"#2a3f5f\"},\"type\":\"carpet\"}],\"choropleth\":[{\"colorbar\":{\"outlinewidth\":0,\"ticks\":\"\"},\"type\":\"choropleth\"}],\"contour\":[{\"colorbar\":{\"outlinewidth\":0,\"ticks\":\"\"},\"colorscale\":[[0.0,\"#0d0887\"],[0.1111111111111111,\"#46039f\"],[0.2222222222222222,\"#7201a8\"],[0.3333333333333333,\"#9c179e\"],[0.4444444444444444,\"#bd3786\"],[0.5555555555555556,\"#d8576b\"],[0.6666666666666666,\"#ed7953\"],[0.7777777777777778,\"#fb9f3a\"],[0.8888888888888888,\"#fdca26\"],[1.0,\"#f0f921\"]],\"type\":\"contour\"}],\"contourcarpet\":[{\"colorbar\":{\"outlinewidth\":0,\"ticks\":\"\"},\"type\":\"contourcarpet\"}],\"heatmap\":[{\"colorbar\":{\"outlinewidth\":0,\"ticks\":\"\"},\"colorscale\":[[0.0,\"#0d0887\"],[0.1111111111111111,\"#46039f\"],[0.2222222222222222,\"#7201a8\"],[0.3333333333333333,\"#9c179e\"],[0.4444444444444444,\"#bd3786\"],[0.5555555555555556,\"#d8576b\"],[0.6666666666666666,\"#ed7953\"],[0.7777777777777778,\"#fb9f3a\"],[0.8888888888888888,\"#fdca26\"],[1.0,\"#f0f921\"]],\"type\":\"heatmap\"}],\"heatmapgl\":[{\"colorbar\":{\"outlinewidth\":0,\"ticks\":\"\"},\"colorscale\":[[0.0,\"#0d0887\"],[0.1111111111111111,\"#46039f\"],[0.2222222222222222,\"#7201a8\"],[0.3333333333333333,\"#9c179e\"],[0.4444444444444444,\"#bd3786\"],[0.5555555555555556,\"#d8576b\"],[0.6666666666666666,\"#ed7953\"],[0.7777777777777778,\"#fb9f3a\"],[0.8888888888888888,\"#fdca26\"],[1.0,\"#f0f921\"]],\"type\":\"heatmapgl\"}],\"histogram\":[{\"marker\":{\"pattern\":{\"fillmode\":\"overlay\",\"size\":10,\"solidity\":0.2}},\"type\":\"histogram\"}],\"histogram2d\":[{\"colorbar\":{\"outlinewidth\":0,\"ticks\":\"\"},\"colorscale\":[[0.0,\"#0d0887\"],[0.1111111111111111,\"#46039f\"],[0.2222222222222222,\"#7201a8\"],[0.3333333333333333,\"#9c179e\"],[0.4444444444444444,\"#bd3786\"],[0.5555555555555556,\"#d8576b\"],[0.6666666666666666,\"#ed7953\"],[0.7777777777777778,\"#fb9f3a\"],[0.8888888888888888,\"#fdca26\"],[1.0,\"#f0f921\"]],\"type\":\"histogram2d\"}],\"histogram2dcontour\":[{\"colorbar\":{\"outlinewidth\":0,\"ticks\":\"\"},\"colorscale\":[[0.0,\"#0d0887\"],[0.1111111111111111,\"#46039f\"],[0.2222222222222222,\"#7201a8\"],[0.3333333333333333,\"#9c179e\"],[0.4444444444444444,\"#bd3786\"],[0.5555555555555556,\"#d8576b\"],[0.6666666666666666,\"#ed7953\"],[0.7777777777777778,\"#fb9f3a\"],[0.8888888888888888,\"#fdca26\"],[1.0,\"#f0f921\"]],\"type\":\"histogram2dcontour\"}],\"mesh3d\":[{\"colorbar\":{\"outlinewidth\":0,\"ticks\":\"\"},\"type\":\"mesh3d\"}],\"parcoords\":[{\"line\":{\"colorbar\":{\"outlinewidth\":0,\"ticks\":\"\"}},\"type\":\"parcoords\"}],\"pie\":[{\"automargin\":true,\"type\":\"pie\"}],\"scatter\":[{\"marker\":{\"colorbar\":{\"outlinewidth\":0,\"ticks\":\"\"}},\"type\":\"scatter\"}],\"scatter3d\":[{\"line\":{\"colorbar\":{\"outlinewidth\":0,\"ticks\":\"\"}},\"marker\":{\"colorbar\":{\"outlinewidth\":0,\"ticks\":\"\"}},\"type\":\"scatter3d\"}],\"scattercarpet\":[{\"marker\":{\"colorbar\":{\"outlinewidth\":0,\"ticks\":\"\"}},\"type\":\"scattercarpet\"}],\"scattergeo\":[{\"marker\":{\"colorbar\":{\"outlinewidth\":0,\"ticks\":\"\"}},\"type\":\"scattergeo\"}],\"scattergl\":[{\"marker\":{\"colorbar\":{\"outlinewidth\":0,\"ticks\":\"\"}},\"type\":\"scattergl\"}],\"scattermapbox\":[{\"marker\":{\"colorbar\":{\"outlinewidth\":0,\"ticks\":\"\"}},\"type\":\"scattermapbox\"}],\"scatterpolar\":[{\"marker\":{\"colorbar\":{\"outlinewidth\":0,\"ticks\":\"\"}},\"type\":\"scatterpolar\"}],\"scatterpolargl\":[{\"marker\":{\"colorbar\":{\"outlinewidth\":0,\"ticks\":\"\"}},\"type\":\"scatterpolargl\"}],\"scatterternary\":[{\"marker\":{\"colorbar\":{\"outlinewidth\":0,\"ticks\":\"\"}},\"type\":\"scatterternary\"}],\"surface\":[{\"colorbar\":{\"outlinewidth\":0,\"ticks\":\"\"},\"colorscale\":[[0.0,\"#0d0887\"],[0.1111111111111111,\"#46039f\"],[0.2222222222222222,\"#7201a8\"],[0.3333333333333333,\"#9c179e\"],[0.4444444444444444,\"#bd3786\"],[0.5555555555555556,\"#d8576b\"],[0.6666666666666666,\"#ed7953\"],[0.7777777777777778,\"#fb9f3a\"],[0.8888888888888888,\"#fdca26\"],[1.0,\"#f0f921\"]],\"type\":\"surface\"}],\"table\":[{\"cells\":{\"fill\":{\"color\":\"#EBF0F8\"},\"line\":{\"color\":\"white\"}},\"header\":{\"fill\":{\"color\":\"#C8D4E3\"},\"line\":{\"color\":\"white\"}},\"type\":\"table\"}]},\"layout\":{\"annotationdefaults\":{\"arrowcolor\":\"#2a3f5f\",\"arrowhead\":0,\"arrowwidth\":1},\"autotypenumbers\":\"strict\",\"coloraxis\":{\"colorbar\":{\"outlinewidth\":0,\"ticks\":\"\"}},\"colorscale\":{\"diverging\":[[0,\"#8e0152\"],[0.1,\"#c51b7d\"],[0.2,\"#de77ae\"],[0.3,\"#f1b6da\"],[0.4,\"#fde0ef\"],[0.5,\"#f7f7f7\"],[0.6,\"#e6f5d0\"],[0.7,\"#b8e186\"],[0.8,\"#7fbc41\"],[0.9,\"#4d9221\"],[1,\"#276419\"]],\"sequential\":[[0.0,\"#0d0887\"],[0.1111111111111111,\"#46039f\"],[0.2222222222222222,\"#7201a8\"],[0.3333333333333333,\"#9c179e\"],[0.4444444444444444,\"#bd3786\"],[0.5555555555555556,\"#d8576b\"],[0.6666666666666666,\"#ed7953\"],[0.7777777777777778,\"#fb9f3a\"],[0.8888888888888888,\"#fdca26\"],[1.0,\"#f0f921\"]],\"sequentialminus\":[[0.0,\"#0d0887\"],[0.1111111111111111,\"#46039f\"],[0.2222222222222222,\"#7201a8\"],[0.3333333333333333,\"#9c179e\"],[0.4444444444444444,\"#bd3786\"],[0.5555555555555556,\"#d8576b\"],[0.6666666666666666,\"#ed7953\"],[0.7777777777777778,\"#fb9f3a\"],[0.8888888888888888,\"#fdca26\"],[1.0,\"#f0f921\"]]},\"colorway\":[\"#636efa\",\"#EF553B\",\"#00cc96\",\"#ab63fa\",\"#FFA15A\",\"#19d3f3\",\"#FF6692\",\"#B6E880\",\"#FF97FF\",\"#FECB52\"],\"font\":{\"color\":\"#2a3f5f\"},\"geo\":{\"bgcolor\":\"white\",\"lakecolor\":\"white\",\"landcolor\":\"#E5ECF6\",\"showlakes\":true,\"showland\":true,\"subunitcolor\":\"white\"},\"hoverlabel\":{\"align\":\"left\"},\"hovermode\":\"closest\",\"mapbox\":{\"style\":\"light\"},\"paper_bgcolor\":\"white\",\"plot_bgcolor\":\"#E5ECF6\",\"polar\":{\"angularaxis\":{\"gridcolor\":\"white\",\"linecolor\":\"white\",\"ticks\":\"\"},\"bgcolor\":\"#E5ECF6\",\"radialaxis\":{\"gridcolor\":\"white\",\"linecolor\":\"white\",\"ticks\":\"\"}},\"scene\":{\"xaxis\":{\"backgroundcolor\":\"#E5ECF6\",\"gridcolor\":\"white\",\"gridwidth\":2,\"linecolor\":\"white\",\"showbackground\":true,\"ticks\":\"\",\"zerolinecolor\":\"white\"},\"yaxis\":{\"backgroundcolor\":\"#E5ECF6\",\"gridcolor\":\"white\",\"gridwidth\":2,\"linecolor\":\"white\",\"showbackground\":true,\"ticks\":\"\",\"zerolinecolor\":\"white\"},\"zaxis\":{\"backgroundcolor\":\"#E5ECF6\",\"gridcolor\":\"white\",\"gridwidth\":2,\"linecolor\":\"white\",\"showbackground\":true,\"ticks\":\"\",\"zerolinecolor\":\"white\"}},\"shapedefaults\":{\"line\":{\"color\":\"#2a3f5f\"}},\"ternary\":{\"aaxis\":{\"gridcolor\":\"white\",\"linecolor\":\"white\",\"ticks\":\"\"},\"baxis\":{\"gridcolor\":\"white\",\"linecolor\":\"white\",\"ticks\":\"\"},\"bgcolor\":\"#E5ECF6\",\"caxis\":{\"gridcolor\":\"white\",\"linecolor\":\"white\",\"ticks\":\"\"}},\"title\":{\"x\":0.05},\"xaxis\":{\"automargin\":true,\"gridcolor\":\"white\",\"linecolor\":\"white\",\"ticks\":\"\",\"title\":{\"standoff\":15},\"zerolinecolor\":\"white\",\"zerolinewidth\":2},\"yaxis\":{\"automargin\":true,\"gridcolor\":\"white\",\"linecolor\":\"white\",\"ticks\":\"\",\"title\":{\"standoff\":15},\"zerolinecolor\":\"white\",\"zerolinewidth\":2}}},\"xaxis\":{\"anchor\":\"y\",\"domain\":[0.0,1.0],\"title\":{\"text\":\"Last Activity\"},\"showgrid\":false},\"yaxis\":{\"anchor\":\"x\",\"domain\":[0.0,1.0],\"title\":{\"text\":\"Counts\"},\"showgrid\":false},\"legend\":{\"tracegroupgap\":0},\"margin\":{\"t\":60},\"barmode\":\"relative\",\"title\":{\"text\":\"Last Activity Distribution\",\"x\":0.5},\"showlegend\":false},                        {\"responsive\": true}                    ).then(function(){\n",
       "                            \n",
       "var gd = document.getElementById('d6de0a23-b39e-4726-bc43-837dbb67176b');\n",
       "var x = new MutationObserver(function (mutations, observer) {{\n",
       "        var display = window.getComputedStyle(gd).display;\n",
       "        if (!display || display === 'none') {{\n",
       "            console.log([gd, 'removed!']);\n",
       "            Plotly.purge(gd);\n",
       "            observer.disconnect();\n",
       "        }}\n",
       "}});\n",
       "\n",
       "// Listen for the removal of the full notebook cells\n",
       "var notebookContainer = gd.closest('#notebook-container');\n",
       "if (notebookContainer) {{\n",
       "    x.observe(notebookContainer, {childList: true});\n",
       "}}\n",
       "\n",
       "// Listen for the clearing of the current output cell\n",
       "var outputEl = gd.closest('.output');\n",
       "if (outputEl) {{\n",
       "    x.observe(outputEl, {childList: true});\n",
       "}}\n",
       "\n",
       "                        })                };                });            </script>        </div>"
      ]
     },
     "metadata": {},
     "output_type": "display_data"
    }
   ],
   "source": [
    "barplot('Last Activity')"
   ]
  },
  {
   "cell_type": "code",
   "execution_count": null,
   "id": "bb20128e",
   "metadata": {},
   "outputs": [],
   "source": []
  },
  {
   "cell_type": "code",
   "execution_count": null,
   "id": "cb0c1bd6",
   "metadata": {},
   "outputs": [],
   "source": []
  },
  {
   "cell_type": "code",
   "execution_count": null,
   "id": "cc533b5e",
   "metadata": {},
   "outputs": [],
   "source": []
  },
  {
   "cell_type": "code",
   "execution_count": null,
   "id": "8f7b2df0",
   "metadata": {},
   "outputs": [],
   "source": []
  },
  {
   "cell_type": "code",
   "execution_count": null,
   "id": "e490bb57",
   "metadata": {},
   "outputs": [],
   "source": []
  },
  {
   "cell_type": "code",
   "execution_count": null,
   "id": "930f7195",
   "metadata": {},
   "outputs": [],
   "source": []
  },
  {
   "cell_type": "code",
   "execution_count": null,
   "id": "41fcd1c4",
   "metadata": {},
   "outputs": [],
   "source": []
  },
  {
   "cell_type": "code",
   "execution_count": null,
   "id": "694a11f8",
   "metadata": {},
   "outputs": [],
   "source": []
  }
 ],
 "metadata": {
  "kernelspec": {
   "display_name": "Python 3 (ipykernel)",
   "language": "python",
   "name": "python3"
  },
  "language_info": {
   "codemirror_mode": {
    "name": "ipython",
    "version": 3
   },
   "file_extension": ".py",
   "mimetype": "text/x-python",
   "name": "python",
   "nbconvert_exporter": "python",
   "pygments_lexer": "ipython3",
   "version": "3.9.12"
  }
 },
 "nbformat": 4,
 "nbformat_minor": 5
}
